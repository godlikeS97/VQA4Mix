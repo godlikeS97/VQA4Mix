{
 "cells": [
  {
   "cell_type": "markdown",
   "id": "88aeb58f",
   "metadata": {},
   "source": [
    "## Load Food Dataset"
   ]
  },
  {
   "cell_type": "code",
   "execution_count": 6,
   "id": "43dd2d1c",
   "metadata": {},
   "outputs": [
    {
     "data": {
      "text/html": [
       "<div>\n",
       "<style scoped>\n",
       "    .dataframe tbody tr th:only-of-type {\n",
       "        vertical-align: middle;\n",
       "    }\n",
       "\n",
       "    .dataframe tbody tr th {\n",
       "        vertical-align: top;\n",
       "    }\n",
       "\n",
       "    .dataframe thead th {\n",
       "        text-align: right;\n",
       "    }\n",
       "</style>\n",
       "<table border=\"1\" class=\"dataframe\">\n",
       "  <thead>\n",
       "    <tr style=\"text-align: right;\">\n",
       "      <th></th>\n",
       "      <th>id</th>\n",
       "      <th>img_url</th>\n",
       "      <th>reference_caption</th>\n",
       "    </tr>\n",
       "  </thead>\n",
       "  <tbody>\n",
       "    <tr>\n",
       "      <th>0</th>\n",
       "      <td>1</td>\n",
       "      <td>/shared/data/food_data/food_images/Pork_ribs/Pork_ribs_0094.jpg</td>\n",
       "      <td>[On the wooden chopping board, there is a cut up grilled and cooked pork rib.]</td>\n",
       "    </tr>\n",
       "    <tr>\n",
       "      <th>1</th>\n",
       "      <td>2</td>\n",
       "      <td>/shared/data/food_data/food_images/Pork_ribs/Pork_ribs_0096.jpg</td>\n",
       "      <td>[Many grilled pork ribs are arranged in a curiously shaped wooden cutlery.]</td>\n",
       "    </tr>\n",
       "    <tr>\n",
       "      <th>2</th>\n",
       "      <td>3</td>\n",
       "      <td>/shared/data/food_data/food_images/Pork_ribs/Pork_ribs_0091.jpg</td>\n",
       "      <td>[Two grilled brown-red pork ribs on an oval white dinner plate.]</td>\n",
       "    </tr>\n",
       "    <tr>\n",
       "      <th>3</th>\n",
       "      <td>4</td>\n",
       "      <td>/shared/data/food_data/food_images/Pork_ribs/Pork_ribs_0093.jpg</td>\n",
       "      <td>[Three pork ribs drizzled with a rich sauce and served on a white round dinner plate.]</td>\n",
       "    </tr>\n",
       "    <tr>\n",
       "      <th>4</th>\n",
       "      <td>5</td>\n",
       "      <td>/shared/data/food_data/food_images/Pork_ribs/Pork_ribs_0084.jpg</td>\n",
       "      <td>[Raw, long, fresh pork ribs next to yellow, good potatoes.]</td>\n",
       "    </tr>\n",
       "  </tbody>\n",
       "</table>\n",
       "</div>"
      ],
      "text/plain": [
       "   id                                                          img_url  \\\n",
       "0   1  /shared/data/food_data/food_images/Pork_ribs/Pork_ribs_0094.jpg   \n",
       "1   2  /shared/data/food_data/food_images/Pork_ribs/Pork_ribs_0096.jpg   \n",
       "2   3  /shared/data/food_data/food_images/Pork_ribs/Pork_ribs_0091.jpg   \n",
       "3   4  /shared/data/food_data/food_images/Pork_ribs/Pork_ribs_0093.jpg   \n",
       "4   5  /shared/data/food_data/food_images/Pork_ribs/Pork_ribs_0084.jpg   \n",
       "\n",
       "                                                                        reference_caption  \n",
       "0          [On the wooden chopping board, there is a cut up grilled and cooked pork rib.]  \n",
       "1             [Many grilled pork ribs are arranged in a curiously shaped wooden cutlery.]  \n",
       "2                        [Two grilled brown-red pork ribs on an oval white dinner plate.]  \n",
       "3  [Three pork ribs drizzled with a rich sauce and served on a white round dinner plate.]  \n",
       "4                             [Raw, long, fresh pork ribs next to yellow, good potatoes.]  "
      ]
     },
     "execution_count": 6,
     "metadata": {},
     "output_type": "execute_result"
    }
   ],
   "source": [
    "import pandas as pd\n",
    "pd.set_option('display.max_colwidth', None)\n",
    "import json\n",
    "\n",
    "\n",
    "# Data Directory: \n",
    "food_images_directory = '/shared/data/food_data/food_images/'\n",
    "food_annotation_file_path = '/shared/data/food_data/food_annotation_modified.json'\n",
    "\n",
    "\n",
    "# Method 1: Using pandas.read_json directly\n",
    "df = pd.read_json(food_annotation_file_path)\n",
    "\n",
    "df.head()\n"
   ]
  },
  {
   "cell_type": "code",
   "execution_count": null,
   "id": "d0458394",
   "metadata": {},
   "outputs": [],
   "source": [
    "df.shape"
   ]
  },
  {
   "cell_type": "markdown",
   "id": "4a646505",
   "metadata": {},
   "source": [
    "## Generate Multiple Choice Question"
   ]
  },
  {
   "cell_type": "code",
   "execution_count": 7,
   "id": "5ad9b092",
   "metadata": {},
   "outputs": [],
   "source": [
    "# Generate random choice in [A, B, C, D]\n",
    "import random\n",
    "\n",
    "def generate_random_choice():\n",
    "    return random.choice(['A', 'B', 'C', 'D'])"
   ]
  },
  {
   "cell_type": "code",
   "execution_count": 8,
   "id": "e1ac2063",
   "metadata": {},
   "outputs": [],
   "source": [
    "df['multiple_choice_solution'] = df.apply(lambda x: generate_random_choice(), axis=1)"
   ]
  },
  {
   "cell_type": "code",
   "execution_count": 9,
   "id": "4658c508",
   "metadata": {},
   "outputs": [
    {
     "data": {
      "text/html": [
       "<div>\n",
       "<style scoped>\n",
       "    .dataframe tbody tr th:only-of-type {\n",
       "        vertical-align: middle;\n",
       "    }\n",
       "\n",
       "    .dataframe tbody tr th {\n",
       "        vertical-align: top;\n",
       "    }\n",
       "\n",
       "    .dataframe thead th {\n",
       "        text-align: right;\n",
       "    }\n",
       "</style>\n",
       "<table border=\"1\" class=\"dataframe\">\n",
       "  <thead>\n",
       "    <tr style=\"text-align: right;\">\n",
       "      <th></th>\n",
       "      <th>id</th>\n",
       "      <th>img_url</th>\n",
       "      <th>reference_caption</th>\n",
       "      <th>multiple_choice_solution</th>\n",
       "    </tr>\n",
       "  </thead>\n",
       "  <tbody>\n",
       "    <tr>\n",
       "      <th>0</th>\n",
       "      <td>1</td>\n",
       "      <td>/shared/data/food_data/food_images/Pork_ribs/Pork_ribs_0094.jpg</td>\n",
       "      <td>[On the wooden chopping board, there is a cut up grilled and cooked pork rib.]</td>\n",
       "      <td>A</td>\n",
       "    </tr>\n",
       "    <tr>\n",
       "      <th>1</th>\n",
       "      <td>2</td>\n",
       "      <td>/shared/data/food_data/food_images/Pork_ribs/Pork_ribs_0096.jpg</td>\n",
       "      <td>[Many grilled pork ribs are arranged in a curiously shaped wooden cutlery.]</td>\n",
       "      <td>C</td>\n",
       "    </tr>\n",
       "    <tr>\n",
       "      <th>2</th>\n",
       "      <td>3</td>\n",
       "      <td>/shared/data/food_data/food_images/Pork_ribs/Pork_ribs_0091.jpg</td>\n",
       "      <td>[Two grilled brown-red pork ribs on an oval white dinner plate.]</td>\n",
       "      <td>B</td>\n",
       "    </tr>\n",
       "    <tr>\n",
       "      <th>3</th>\n",
       "      <td>4</td>\n",
       "      <td>/shared/data/food_data/food_images/Pork_ribs/Pork_ribs_0093.jpg</td>\n",
       "      <td>[Three pork ribs drizzled with a rich sauce and served on a white round dinner plate.]</td>\n",
       "      <td>B</td>\n",
       "    </tr>\n",
       "    <tr>\n",
       "      <th>4</th>\n",
       "      <td>5</td>\n",
       "      <td>/shared/data/food_data/food_images/Pork_ribs/Pork_ribs_0084.jpg</td>\n",
       "      <td>[Raw, long, fresh pork ribs next to yellow, good potatoes.]</td>\n",
       "      <td>D</td>\n",
       "    </tr>\n",
       "  </tbody>\n",
       "</table>\n",
       "</div>"
      ],
      "text/plain": [
       "   id                                                          img_url  \\\n",
       "0   1  /shared/data/food_data/food_images/Pork_ribs/Pork_ribs_0094.jpg   \n",
       "1   2  /shared/data/food_data/food_images/Pork_ribs/Pork_ribs_0096.jpg   \n",
       "2   3  /shared/data/food_data/food_images/Pork_ribs/Pork_ribs_0091.jpg   \n",
       "3   4  /shared/data/food_data/food_images/Pork_ribs/Pork_ribs_0093.jpg   \n",
       "4   5  /shared/data/food_data/food_images/Pork_ribs/Pork_ribs_0084.jpg   \n",
       "\n",
       "                                                                        reference_caption  \\\n",
       "0          [On the wooden chopping board, there is a cut up grilled and cooked pork rib.]   \n",
       "1             [Many grilled pork ribs are arranged in a curiously shaped wooden cutlery.]   \n",
       "2                        [Two grilled brown-red pork ribs on an oval white dinner plate.]   \n",
       "3  [Three pork ribs drizzled with a rich sauce and served on a white round dinner plate.]   \n",
       "4                             [Raw, long, fresh pork ribs next to yellow, good potatoes.]   \n",
       "\n",
       "  multiple_choice_solution  \n",
       "0                        A  \n",
       "1                        C  \n",
       "2                        B  \n",
       "3                        B  \n",
       "4                        D  "
      ]
     },
     "execution_count": 9,
     "metadata": {},
     "output_type": "execute_result"
    }
   ],
   "source": [
    "df.head()"
   ]
  },
  {
   "cell_type": "code",
   "execution_count": null,
   "id": "e26b5a35",
   "metadata": {},
   "outputs": [],
   "source": [
    "# Generate multiple choice questions"
   ]
  },
  {
   "cell_type": "code",
   "execution_count": 11,
   "id": "ca90e929",
   "metadata": {},
   "outputs": [],
   "source": [
    "import os\n",
    "from openai import OpenAI\n",
    "client = OpenAI(\n",
    "    api_key=os.getenv(\"OPENAI_API_KEY\"),  \n",
    ")\n",
    "\n",
    "\n",
    "def generate_multiple_choice_question(reference_caption, correct_choice): \n",
    "    # Define the prompt to generate inferior choices\n",
    "    prompt = f\"\"\"\n",
    "    The ground truth caption is:\n",
    "    \"{reference_caption}\"\n",
    "\n",
    "    Generate three inferior captions that include either inaccurate details, or are non-fluent with syntactic errors. \n",
    "    Format the result as a multiple-choice question. \n",
    "    Question title should be \"Which of the following captions best describes the painting?\".\n",
    "    The correct choice should be placed at choice \"{correct_choice}\". \n",
    "    Ensure the incorrect choices are realistic but clearly wrong.\n",
    "    Do not generate special symbols such as '*'.\n",
    "    \"\"\"\n",
    "\n",
    "    response = client.chat.completions.create(\n",
    "        model=\"gpt-4o\",\n",
    "        messages=[\n",
    "            {\"role\": \"system\", \"content\": \"You are a helpful assistant.\"},\n",
    "            {\"role\": \"user\", \"content\": prompt},\n",
    "        ],\n",
    "        temperature=0.7,\n",
    "        max_tokens=200,\n",
    "    )\n",
    "\n",
    "    # Extract the generated multiple-choice question\n",
    "    question = response.choices[0].message.content    \n",
    "    \n",
    "    return question"
   ]
  },
  {
   "cell_type": "code",
   "execution_count": 12,
   "id": "25b87e24",
   "metadata": {},
   "outputs": [],
   "source": [
    "df['multiple_choice_question'] = df.apply(lambda x: generate_multiple_choice_question(x['reference_caption'][0], x['multiple_choice_solution']), axis=1)"
   ]
  },
  {
   "cell_type": "code",
   "execution_count": 13,
   "id": "1ca74bec",
   "metadata": {},
   "outputs": [
    {
     "data": {
      "text/html": [
       "<div>\n",
       "<style scoped>\n",
       "    .dataframe tbody tr th:only-of-type {\n",
       "        vertical-align: middle;\n",
       "    }\n",
       "\n",
       "    .dataframe tbody tr th {\n",
       "        vertical-align: top;\n",
       "    }\n",
       "\n",
       "    .dataframe thead th {\n",
       "        text-align: right;\n",
       "    }\n",
       "</style>\n",
       "<table border=\"1\" class=\"dataframe\">\n",
       "  <thead>\n",
       "    <tr style=\"text-align: right;\">\n",
       "      <th></th>\n",
       "      <th>id</th>\n",
       "      <th>img_url</th>\n",
       "      <th>reference_caption</th>\n",
       "      <th>multiple_choice_solution</th>\n",
       "      <th>multiple_choice_question</th>\n",
       "    </tr>\n",
       "  </thead>\n",
       "  <tbody>\n",
       "    <tr>\n",
       "      <th>0</th>\n",
       "      <td>1</td>\n",
       "      <td>/shared/data/food_data/food_images/Pork_ribs/Pork_ribs_0094.jpg</td>\n",
       "      <td>[On the wooden chopping board, there is a cut up grilled and cooked pork rib.]</td>\n",
       "      <td>A</td>\n",
       "      <td>Question: Which of the following captions best describes the painting?\\n\\nA) On the wooden chopping board, there is a cut up grilled and cooked pork rib.\\n\\nB) On the wooden cutting board, there is a raw fish and some vegetables.\\n\\nC) The wooden chopping board having a sliced beef steak on it.\\n\\nD) On the wooden table, there is a whole roasted chicken with side of greens.</td>\n",
       "    </tr>\n",
       "    <tr>\n",
       "      <th>1</th>\n",
       "      <td>2</td>\n",
       "      <td>/shared/data/food_data/food_images/Pork_ribs/Pork_ribs_0096.jpg</td>\n",
       "      <td>[Many grilled pork ribs are arranged in a curiously shaped wooden cutlery.]</td>\n",
       "      <td>C</td>\n",
       "      <td>Which of the following captions best describes the painting?\\n\\nA) Several grilled chicken wings are placed on a round ceramic plate.\\n\\nB) Many roasted beef ribs are scattered on a metal tray.\\n\\nC) Many grilled pork ribs are arranged in a curiously shaped wooden cutlery.\\n\\nD) A few pork sausages are laid out on a plastic platter.</td>\n",
       "    </tr>\n",
       "    <tr>\n",
       "      <th>2</th>\n",
       "      <td>3</td>\n",
       "      <td>/shared/data/food_data/food_images/Pork_ribs/Pork_ribs_0091.jpg</td>\n",
       "      <td>[Two grilled brown-red pork ribs on an oval white dinner plate.]</td>\n",
       "      <td>B</td>\n",
       "      <td>Which of the following captions best describes the painting?\\n\\nA) Two fried chicken wings on a round blue dinner plate.\\n\\nB) Two grilled brown-red pork ribs on an oval white dinner plate.\\n\\nC) Grilled pork ribs two on the white plate dinner oval.\\n\\nD) Two grilled brown-red pork ribs on an oval golden platter.</td>\n",
       "    </tr>\n",
       "    <tr>\n",
       "      <th>3</th>\n",
       "      <td>4</td>\n",
       "      <td>/shared/data/food_data/food_images/Pork_ribs/Pork_ribs_0093.jpg</td>\n",
       "      <td>[Three pork ribs drizzled with a rich sauce and served on a white round dinner plate.]</td>\n",
       "      <td>B</td>\n",
       "      <td>Which of the following captions best describes the painting?\\n\\nA) Three lamb chops covered in spicy sauce and arranged on a white square dish.\\n\\nB) Three pork ribs drizzled with a rich sauce and served on a white round dinner plate.\\n\\nC) Pork ribs with sauce, white round plate, served three pieces.\\n\\nD) A single pork rib with light sauce on a dark-colored oval plate.</td>\n",
       "    </tr>\n",
       "    <tr>\n",
       "      <th>4</th>\n",
       "      <td>5</td>\n",
       "      <td>/shared/data/food_data/food_images/Pork_ribs/Pork_ribs_0084.jpg</td>\n",
       "      <td>[Raw, long, fresh pork ribs next to yellow, good potatoes.]</td>\n",
       "      <td>D</td>\n",
       "      <td>Which of the following captions best describes the painting?\\n\\nA) Cooked, short beef ribs beside red, old potatoes.\\n\\nB) Long, raw ribs of pork next to blue potatoes.\\n\\nC) Fresh pork ribs beside some potatoes good.\\n\\nD) Raw, long, fresh pork ribs next to yellow, good potatoes.</td>\n",
       "    </tr>\n",
       "  </tbody>\n",
       "</table>\n",
       "</div>"
      ],
      "text/plain": [
       "   id                                                          img_url  \\\n",
       "0   1  /shared/data/food_data/food_images/Pork_ribs/Pork_ribs_0094.jpg   \n",
       "1   2  /shared/data/food_data/food_images/Pork_ribs/Pork_ribs_0096.jpg   \n",
       "2   3  /shared/data/food_data/food_images/Pork_ribs/Pork_ribs_0091.jpg   \n",
       "3   4  /shared/data/food_data/food_images/Pork_ribs/Pork_ribs_0093.jpg   \n",
       "4   5  /shared/data/food_data/food_images/Pork_ribs/Pork_ribs_0084.jpg   \n",
       "\n",
       "                                                                        reference_caption  \\\n",
       "0          [On the wooden chopping board, there is a cut up grilled and cooked pork rib.]   \n",
       "1             [Many grilled pork ribs are arranged in a curiously shaped wooden cutlery.]   \n",
       "2                        [Two grilled brown-red pork ribs on an oval white dinner plate.]   \n",
       "3  [Three pork ribs drizzled with a rich sauce and served on a white round dinner plate.]   \n",
       "4                             [Raw, long, fresh pork ribs next to yellow, good potatoes.]   \n",
       "\n",
       "  multiple_choice_solution  \\\n",
       "0                        A   \n",
       "1                        C   \n",
       "2                        B   \n",
       "3                        B   \n",
       "4                        D   \n",
       "\n",
       "                                                                                                                                                                                                                                                                                                                                                                   multiple_choice_question  \n",
       "0  Question: Which of the following captions best describes the painting?\\n\\nA) On the wooden chopping board, there is a cut up grilled and cooked pork rib.\\n\\nB) On the wooden cutting board, there is a raw fish and some vegetables.\\n\\nC) The wooden chopping board having a sliced beef steak on it.\\n\\nD) On the wooden table, there is a whole roasted chicken with side of greens.  \n",
       "1                                            Which of the following captions best describes the painting?\\n\\nA) Several grilled chicken wings are placed on a round ceramic plate.\\n\\nB) Many roasted beef ribs are scattered on a metal tray.\\n\\nC) Many grilled pork ribs are arranged in a curiously shaped wooden cutlery.\\n\\nD) A few pork sausages are laid out on a plastic platter.  \n",
       "2                                                                Which of the following captions best describes the painting?\\n\\nA) Two fried chicken wings on a round blue dinner plate.\\n\\nB) Two grilled brown-red pork ribs on an oval white dinner plate.\\n\\nC) Grilled pork ribs two on the white plate dinner oval.\\n\\nD) Two grilled brown-red pork ribs on an oval golden platter.  \n",
       "3     Which of the following captions best describes the painting?\\n\\nA) Three lamb chops covered in spicy sauce and arranged on a white square dish.\\n\\nB) Three pork ribs drizzled with a rich sauce and served on a white round dinner plate.\\n\\nC) Pork ribs with sauce, white round plate, served three pieces.\\n\\nD) A single pork rib with light sauce on a dark-colored oval plate.  \n",
       "4                                                                                                 Which of the following captions best describes the painting?\\n\\nA) Cooked, short beef ribs beside red, old potatoes.\\n\\nB) Long, raw ribs of pork next to blue potatoes.\\n\\nC) Fresh pork ribs beside some potatoes good.\\n\\nD) Raw, long, fresh pork ribs next to yellow, good potatoes.  "
      ]
     },
     "execution_count": 13,
     "metadata": {},
     "output_type": "execute_result"
    }
   ],
   "source": [
    "df.head()"
   ]
  },
  {
   "cell_type": "code",
   "execution_count": 14,
   "id": "057e5631",
   "metadata": {},
   "outputs": [
    {
     "name": "stdout",
     "output_type": "stream",
     "text": [
      "DataFrame saved as a list of dictionaries in /shared/data/food_data/food_annotation_with_MCQ.json\n"
     ]
    }
   ],
   "source": [
    "# Save the annotation with multiple choice question to output file\n",
    "\n",
    "# Convert DataFrame to a list of dictionaries\n",
    "list_of_dicts = df.to_dict(orient=\"records\")\n",
    "\n",
    "# Save the list of dictionaries to a JSON file\n",
    "output_file = \"/shared/data/food_data/food_annotation_with_MCQ.json\"\n",
    "with open(output_file, \"w\") as file:\n",
    "    json.dump(list_of_dicts, file, indent=4)\n",
    "\n",
    "print(f\"DataFrame saved as a list of dictionaries in {output_file}\")"
   ]
  },
  {
   "cell_type": "markdown",
   "id": "890ef648",
   "metadata": {},
   "source": [
    "## Perform Multiple Choice Selection"
   ]
  },
  {
   "cell_type": "code",
   "execution_count": 15,
   "id": "002b381b",
   "metadata": {},
   "outputs": [
    {
     "data": {
      "text/html": [
       "<div>\n",
       "<style scoped>\n",
       "    .dataframe tbody tr th:only-of-type {\n",
       "        vertical-align: middle;\n",
       "    }\n",
       "\n",
       "    .dataframe tbody tr th {\n",
       "        vertical-align: top;\n",
       "    }\n",
       "\n",
       "    .dataframe thead th {\n",
       "        text-align: right;\n",
       "    }\n",
       "</style>\n",
       "<table border=\"1\" class=\"dataframe\">\n",
       "  <thead>\n",
       "    <tr style=\"text-align: right;\">\n",
       "      <th></th>\n",
       "      <th>id</th>\n",
       "      <th>img_url</th>\n",
       "      <th>reference_caption</th>\n",
       "      <th>multiple_choice_solution</th>\n",
       "      <th>multiple_choice_question</th>\n",
       "    </tr>\n",
       "  </thead>\n",
       "  <tbody>\n",
       "    <tr>\n",
       "      <th>0</th>\n",
       "      <td>1</td>\n",
       "      <td>/shared/data/food_data/food_images/Pork_ribs/Pork_ribs_0094.jpg</td>\n",
       "      <td>[On the wooden chopping board, there is a cut up grilled and cooked pork rib.]</td>\n",
       "      <td>A</td>\n",
       "      <td>Question: Which of the following captions best describes the painting?\\n\\nA) On the wooden chopping board, there is a cut up grilled and cooked pork rib.\\n\\nB) On the wooden cutting board, there is a raw fish and some vegetables.\\n\\nC) The wooden chopping board having a sliced beef steak on it.\\n\\nD) On the wooden table, there is a whole roasted chicken with side of greens.</td>\n",
       "    </tr>\n",
       "    <tr>\n",
       "      <th>1</th>\n",
       "      <td>2</td>\n",
       "      <td>/shared/data/food_data/food_images/Pork_ribs/Pork_ribs_0096.jpg</td>\n",
       "      <td>[Many grilled pork ribs are arranged in a curiously shaped wooden cutlery.]</td>\n",
       "      <td>C</td>\n",
       "      <td>Which of the following captions best describes the painting?\\n\\nA) Several grilled chicken wings are placed on a round ceramic plate.\\n\\nB) Many roasted beef ribs are scattered on a metal tray.\\n\\nC) Many grilled pork ribs are arranged in a curiously shaped wooden cutlery.\\n\\nD) A few pork sausages are laid out on a plastic platter.</td>\n",
       "    </tr>\n",
       "    <tr>\n",
       "      <th>2</th>\n",
       "      <td>3</td>\n",
       "      <td>/shared/data/food_data/food_images/Pork_ribs/Pork_ribs_0091.jpg</td>\n",
       "      <td>[Two grilled brown-red pork ribs on an oval white dinner plate.]</td>\n",
       "      <td>B</td>\n",
       "      <td>Which of the following captions best describes the painting?\\n\\nA) Two fried chicken wings on a round blue dinner plate.\\n\\nB) Two grilled brown-red pork ribs on an oval white dinner plate.\\n\\nC) Grilled pork ribs two on the white plate dinner oval.\\n\\nD) Two grilled brown-red pork ribs on an oval golden platter.</td>\n",
       "    </tr>\n",
       "    <tr>\n",
       "      <th>3</th>\n",
       "      <td>4</td>\n",
       "      <td>/shared/data/food_data/food_images/Pork_ribs/Pork_ribs_0093.jpg</td>\n",
       "      <td>[Three pork ribs drizzled with a rich sauce and served on a white round dinner plate.]</td>\n",
       "      <td>B</td>\n",
       "      <td>Which of the following captions best describes the painting?\\n\\nA) Three lamb chops covered in spicy sauce and arranged on a white square dish.\\n\\nB) Three pork ribs drizzled with a rich sauce and served on a white round dinner plate.\\n\\nC) Pork ribs with sauce, white round plate, served three pieces.\\n\\nD) A single pork rib with light sauce on a dark-colored oval plate.</td>\n",
       "    </tr>\n",
       "    <tr>\n",
       "      <th>4</th>\n",
       "      <td>5</td>\n",
       "      <td>/shared/data/food_data/food_images/Pork_ribs/Pork_ribs_0084.jpg</td>\n",
       "      <td>[Raw, long, fresh pork ribs next to yellow, good potatoes.]</td>\n",
       "      <td>D</td>\n",
       "      <td>Which of the following captions best describes the painting?\\n\\nA) Cooked, short beef ribs beside red, old potatoes.\\n\\nB) Long, raw ribs of pork next to blue potatoes.\\n\\nC) Fresh pork ribs beside some potatoes good.\\n\\nD) Raw, long, fresh pork ribs next to yellow, good potatoes.</td>\n",
       "    </tr>\n",
       "  </tbody>\n",
       "</table>\n",
       "</div>"
      ],
      "text/plain": [
       "   id                                                          img_url  \\\n",
       "0   1  /shared/data/food_data/food_images/Pork_ribs/Pork_ribs_0094.jpg   \n",
       "1   2  /shared/data/food_data/food_images/Pork_ribs/Pork_ribs_0096.jpg   \n",
       "2   3  /shared/data/food_data/food_images/Pork_ribs/Pork_ribs_0091.jpg   \n",
       "3   4  /shared/data/food_data/food_images/Pork_ribs/Pork_ribs_0093.jpg   \n",
       "4   5  /shared/data/food_data/food_images/Pork_ribs/Pork_ribs_0084.jpg   \n",
       "\n",
       "                                                                        reference_caption  \\\n",
       "0          [On the wooden chopping board, there is a cut up grilled and cooked pork rib.]   \n",
       "1             [Many grilled pork ribs are arranged in a curiously shaped wooden cutlery.]   \n",
       "2                        [Two grilled brown-red pork ribs on an oval white dinner plate.]   \n",
       "3  [Three pork ribs drizzled with a rich sauce and served on a white round dinner plate.]   \n",
       "4                             [Raw, long, fresh pork ribs next to yellow, good potatoes.]   \n",
       "\n",
       "  multiple_choice_solution  \\\n",
       "0                        A   \n",
       "1                        C   \n",
       "2                        B   \n",
       "3                        B   \n",
       "4                        D   \n",
       "\n",
       "                                                                                                                                                                                                                                                                                                                                                                   multiple_choice_question  \n",
       "0  Question: Which of the following captions best describes the painting?\\n\\nA) On the wooden chopping board, there is a cut up grilled and cooked pork rib.\\n\\nB) On the wooden cutting board, there is a raw fish and some vegetables.\\n\\nC) The wooden chopping board having a sliced beef steak on it.\\n\\nD) On the wooden table, there is a whole roasted chicken with side of greens.  \n",
       "1                                            Which of the following captions best describes the painting?\\n\\nA) Several grilled chicken wings are placed on a round ceramic plate.\\n\\nB) Many roasted beef ribs are scattered on a metal tray.\\n\\nC) Many grilled pork ribs are arranged in a curiously shaped wooden cutlery.\\n\\nD) A few pork sausages are laid out on a plastic platter.  \n",
       "2                                                                Which of the following captions best describes the painting?\\n\\nA) Two fried chicken wings on a round blue dinner plate.\\n\\nB) Two grilled brown-red pork ribs on an oval white dinner plate.\\n\\nC) Grilled pork ribs two on the white plate dinner oval.\\n\\nD) Two grilled brown-red pork ribs on an oval golden platter.  \n",
       "3     Which of the following captions best describes the painting?\\n\\nA) Three lamb chops covered in spicy sauce and arranged on a white square dish.\\n\\nB) Three pork ribs drizzled with a rich sauce and served on a white round dinner plate.\\n\\nC) Pork ribs with sauce, white round plate, served three pieces.\\n\\nD) A single pork rib with light sauce on a dark-colored oval plate.  \n",
       "4                                                                                                 Which of the following captions best describes the painting?\\n\\nA) Cooked, short beef ribs beside red, old potatoes.\\n\\nB) Long, raw ribs of pork next to blue potatoes.\\n\\nC) Fresh pork ribs beside some potatoes good.\\n\\nD) Raw, long, fresh pork ribs next to yellow, good potatoes.  "
      ]
     },
     "execution_count": 15,
     "metadata": {},
     "output_type": "execute_result"
    }
   ],
   "source": [
    "# Load annotation with multiple choice question data file\n",
    "import pandas as pd\n",
    "pd.set_option('display.max_colwidth', None)\n",
    "import json\n",
    "\n",
    "\n",
    "# Data Directory: \n",
    "#food_images_directory = '/shared/data/food_data/food_images/'\n",
    "food_annotation_file_path = '/shared/data/food_data/food_annotation_with_MCQ.json'\n",
    "\n",
    "\n",
    "# Method 1: Using pandas.read_json directly\n",
    "df = pd.read_json(food_annotation_file_path)\n",
    "\n",
    "df.head()"
   ]
  },
  {
   "cell_type": "code",
   "execution_count": null,
   "id": "883cbb1d",
   "metadata": {},
   "outputs": [],
   "source": []
  },
  {
   "cell_type": "markdown",
   "id": "f04f522e",
   "metadata": {},
   "source": [
    "### Use llava model"
   ]
  },
  {
   "cell_type": "code",
   "execution_count": 16,
   "id": "839664b2",
   "metadata": {},
   "outputs": [],
   "source": [
    "from transformers import LlavaNextProcessor, LlavaNextForConditionalGeneration\n",
    "import torch\n",
    "from PIL import Image\n",
    "import requests "
   ]
  },
  {
   "cell_type": "code",
   "execution_count": 17,
   "id": "9ae119ce",
   "metadata": {},
   "outputs": [
    {
     "name": "stderr",
     "output_type": "stream",
     "text": [
      "Some kwargs in processor config are unused and will not have any effect: num_additional_image_tokens. \n",
      "The `load_in_4bit` and `load_in_8bit` arguments are deprecated and will be removed in the future versions. Please, pass a `BitsAndBytesConfig` object in `quantization_config` argument instead.\n"
     ]
    },
    {
     "data": {
      "application/vnd.jupyter.widget-view+json": {
       "model_id": "23851023c6994929b1621d81995b06cd",
       "version_major": 2,
       "version_minor": 0
      },
      "text/plain": [
       "Loading checkpoint shards:   0%|          | 0/4 [00:00<?, ?it/s]"
      ]
     },
     "metadata": {},
     "output_type": "display_data"
    }
   ],
   "source": [
    "# Load model from local directory \n",
    "model_path = '/shared/model/llava-v1.6-mistral-7b-hf'\n",
    "\n",
    "processor = LlavaNextProcessor.from_pretrained(model_path)\n",
    "\n",
    "model = LlavaNextForConditionalGeneration.from_pretrained(model_path, torch_dtype=torch.float16, low_cpu_mem_usage=True, load_in_4bit=True) \n",
    "#model.to(\"cuda:0\")"
   ]
  },
  {
   "cell_type": "code",
   "execution_count": 18,
   "id": "121f75e5",
   "metadata": {},
   "outputs": [],
   "source": [
    "# helper function: \n",
    "def perform_multiple_choice_task_llava(img_url, question):\n",
    "    image = Image.open(img_url)\n",
    "    \n",
    "    conversation = [\n",
    "        {\n",
    "\n",
    "          \"role\": \"user\",\n",
    "          \"content\": [\n",
    "              {\"type\": \"text\", \"text\": question + \"\\nOnly return the correct choice with a single letter.\"},\n",
    "              {\"type\": \"image\"},\n",
    "            ],\n",
    "        },\n",
    "    ]\n",
    "    prompt = processor.apply_chat_template(conversation, add_generation_prompt=True)\n",
    "\n",
    "    inputs = processor(images=image, text=prompt, return_tensors=\"pt\").to(\"cuda:0\")\n",
    "\n",
    "    # autoregressively complete prompt\n",
    "    output = model.generate(**inputs, max_new_tokens=150)\n",
    "    output = processor.decode(output[0], skip_special_tokens=True)\n",
    "\n",
    "    # mcq_question = output.split('[/INST]')[0].split('[INST] ')[1].strip()\n",
    "    mcq_answer = output.split('[/INST]')[1].strip()\n",
    "    return mcq_answer"
   ]
  },
  {
   "cell_type": "code",
   "execution_count": 19,
   "id": "d7f8b16e",
   "metadata": {},
   "outputs": [
    {
     "name": "stderr",
     "output_type": "stream",
     "text": [
      "Setting `pad_token_id` to `eos_token_id`:None for open-end generation.\n",
      "/opt/conda/lib/python3.10/site-packages/bitsandbytes/nn/modules.py:452: UserWarning: Input type into Linear4bit is torch.float16, but bnb_4bit_compute_dtype=torch.float32 (default). This will lead to slow inference or training speed.\n",
      "  warnings.warn(\n",
      "Expanding inputs for image tokens in LLaVa-NeXT should be done in processing. Please add `patch_size` and `vision_feature_select_strategy` to the model's processing config or set directly with `processor.patch_size = {{patch_size}}` and processor.vision_feature_select_strategy = {{vision_feature_select_strategy}}`. Using processors without these attributes in the config is deprecated and will throw an error in v4.47.\n",
      "Setting `pad_token_id` to `eos_token_id`:None for open-end generation.\n",
      "Setting `pad_token_id` to `eos_token_id`:None for open-end generation.\n",
      "Setting `pad_token_id` to `eos_token_id`:None for open-end generation.\n",
      "Setting `pad_token_id` to `eos_token_id`:None for open-end generation.\n",
      "Setting `pad_token_id` to `eos_token_id`:None for open-end generation.\n",
      "Setting `pad_token_id` to `eos_token_id`:None for open-end generation.\n",
      "Setting `pad_token_id` to `eos_token_id`:None for open-end generation.\n",
      "Setting `pad_token_id` to `eos_token_id`:None for open-end generation.\n",
      "Setting `pad_token_id` to `eos_token_id`:None for open-end generation.\n",
      "Setting `pad_token_id` to `eos_token_id`:None for open-end generation.\n",
      "Setting `pad_token_id` to `eos_token_id`:None for open-end generation.\n",
      "Setting `pad_token_id` to `eos_token_id`:None for open-end generation.\n",
      "Setting `pad_token_id` to `eos_token_id`:None for open-end generation.\n",
      "Setting `pad_token_id` to `eos_token_id`:None for open-end generation.\n",
      "Setting `pad_token_id` to `eos_token_id`:None for open-end generation.\n",
      "Setting `pad_token_id` to `eos_token_id`:None for open-end generation.\n",
      "Setting `pad_token_id` to `eos_token_id`:None for open-end generation.\n",
      "Setting `pad_token_id` to `eos_token_id`:None for open-end generation.\n",
      "Setting `pad_token_id` to `eos_token_id`:None for open-end generation.\n",
      "Setting `pad_token_id` to `eos_token_id`:None for open-end generation.\n",
      "Setting `pad_token_id` to `eos_token_id`:None for open-end generation.\n",
      "Setting `pad_token_id` to `eos_token_id`:None for open-end generation.\n",
      "Setting `pad_token_id` to `eos_token_id`:None for open-end generation.\n",
      "Setting `pad_token_id` to `eos_token_id`:None for open-end generation.\n",
      "Setting `pad_token_id` to `eos_token_id`:None for open-end generation.\n",
      "Setting `pad_token_id` to `eos_token_id`:None for open-end generation.\n",
      "Setting `pad_token_id` to `eos_token_id`:None for open-end generation.\n",
      "Setting `pad_token_id` to `eos_token_id`:None for open-end generation.\n",
      "Setting `pad_token_id` to `eos_token_id`:None for open-end generation.\n",
      "Setting `pad_token_id` to `eos_token_id`:None for open-end generation.\n",
      "Setting `pad_token_id` to `eos_token_id`:None for open-end generation.\n",
      "Setting `pad_token_id` to `eos_token_id`:None for open-end generation.\n",
      "Setting `pad_token_id` to `eos_token_id`:None for open-end generation.\n",
      "Setting `pad_token_id` to `eos_token_id`:None for open-end generation.\n",
      "Setting `pad_token_id` to `eos_token_id`:None for open-end generation.\n",
      "Setting `pad_token_id` to `eos_token_id`:None for open-end generation.\n",
      "Setting `pad_token_id` to `eos_token_id`:None for open-end generation.\n",
      "Setting `pad_token_id` to `eos_token_id`:None for open-end generation.\n",
      "Setting `pad_token_id` to `eos_token_id`:None for open-end generation.\n",
      "Setting `pad_token_id` to `eos_token_id`:None for open-end generation.\n",
      "Setting `pad_token_id` to `eos_token_id`:None for open-end generation.\n",
      "Setting `pad_token_id` to `eos_token_id`:None for open-end generation.\n",
      "Setting `pad_token_id` to `eos_token_id`:None for open-end generation.\n",
      "Setting `pad_token_id` to `eos_token_id`:None for open-end generation.\n",
      "Setting `pad_token_id` to `eos_token_id`:None for open-end generation.\n",
      "Setting `pad_token_id` to `eos_token_id`:None for open-end generation.\n",
      "Setting `pad_token_id` to `eos_token_id`:None for open-end generation.\n",
      "Setting `pad_token_id` to `eos_token_id`:None for open-end generation.\n",
      "Setting `pad_token_id` to `eos_token_id`:None for open-end generation.\n",
      "Setting `pad_token_id` to `eos_token_id`:None for open-end generation.\n",
      "Setting `pad_token_id` to `eos_token_id`:None for open-end generation.\n",
      "Setting `pad_token_id` to `eos_token_id`:None for open-end generation.\n",
      "Setting `pad_token_id` to `eos_token_id`:None for open-end generation.\n",
      "Setting `pad_token_id` to `eos_token_id`:None for open-end generation.\n",
      "Setting `pad_token_id` to `eos_token_id`:None for open-end generation.\n",
      "Setting `pad_token_id` to `eos_token_id`:None for open-end generation.\n",
      "Setting `pad_token_id` to `eos_token_id`:None for open-end generation.\n",
      "Setting `pad_token_id` to `eos_token_id`:None for open-end generation.\n",
      "Setting `pad_token_id` to `eos_token_id`:None for open-end generation.\n",
      "Setting `pad_token_id` to `eos_token_id`:None for open-end generation.\n",
      "Setting `pad_token_id` to `eos_token_id`:None for open-end generation.\n",
      "Setting `pad_token_id` to `eos_token_id`:None for open-end generation.\n",
      "Setting `pad_token_id` to `eos_token_id`:None for open-end generation.\n",
      "Setting `pad_token_id` to `eos_token_id`:None for open-end generation.\n",
      "Setting `pad_token_id` to `eos_token_id`:None for open-end generation.\n",
      "Setting `pad_token_id` to `eos_token_id`:None for open-end generation.\n",
      "Setting `pad_token_id` to `eos_token_id`:None for open-end generation.\n",
      "Setting `pad_token_id` to `eos_token_id`:None for open-end generation.\n",
      "Setting `pad_token_id` to `eos_token_id`:None for open-end generation.\n",
      "Setting `pad_token_id` to `eos_token_id`:None for open-end generation.\n",
      "Setting `pad_token_id` to `eos_token_id`:None for open-end generation.\n",
      "Setting `pad_token_id` to `eos_token_id`:None for open-end generation.\n",
      "Setting `pad_token_id` to `eos_token_id`:None for open-end generation.\n",
      "Setting `pad_token_id` to `eos_token_id`:None for open-end generation.\n",
      "Setting `pad_token_id` to `eos_token_id`:None for open-end generation.\n",
      "Setting `pad_token_id` to `eos_token_id`:None for open-end generation.\n",
      "Setting `pad_token_id` to `eos_token_id`:None for open-end generation.\n",
      "Setting `pad_token_id` to `eos_token_id`:None for open-end generation.\n",
      "Setting `pad_token_id` to `eos_token_id`:None for open-end generation.\n",
      "Setting `pad_token_id` to `eos_token_id`:None for open-end generation.\n",
      "Setting `pad_token_id` to `eos_token_id`:None for open-end generation.\n",
      "Setting `pad_token_id` to `eos_token_id`:None for open-end generation.\n",
      "Setting `pad_token_id` to `eos_token_id`:None for open-end generation.\n",
      "Setting `pad_token_id` to `eos_token_id`:None for open-end generation.\n",
      "Setting `pad_token_id` to `eos_token_id`:None for open-end generation.\n",
      "Setting `pad_token_id` to `eos_token_id`:None for open-end generation.\n",
      "Setting `pad_token_id` to `eos_token_id`:None for open-end generation.\n",
      "Setting `pad_token_id` to `eos_token_id`:None for open-end generation.\n",
      "Setting `pad_token_id` to `eos_token_id`:None for open-end generation.\n",
      "Setting `pad_token_id` to `eos_token_id`:None for open-end generation.\n",
      "Setting `pad_token_id` to `eos_token_id`:None for open-end generation.\n",
      "Setting `pad_token_id` to `eos_token_id`:None for open-end generation.\n",
      "Setting `pad_token_id` to `eos_token_id`:None for open-end generation.\n",
      "Setting `pad_token_id` to `eos_token_id`:None for open-end generation.\n",
      "Setting `pad_token_id` to `eos_token_id`:None for open-end generation.\n",
      "Setting `pad_token_id` to `eos_token_id`:None for open-end generation.\n",
      "Setting `pad_token_id` to `eos_token_id`:None for open-end generation.\n",
      "Setting `pad_token_id` to `eos_token_id`:None for open-end generation.\n",
      "Setting `pad_token_id` to `eos_token_id`:None for open-end generation.\n"
     ]
    }
   ],
   "source": [
    "df['multiple_choice_prediction'] = df.apply(lambda x: perform_multiple_choice_task_llava(x['img_url'], x['multiple_choice_question']), axis=1)"
   ]
  },
  {
   "cell_type": "code",
   "execution_count": 21,
   "id": "fc0669fb",
   "metadata": {},
   "outputs": [
    {
     "data": {
      "text/html": [
       "<div>\n",
       "<style scoped>\n",
       "    .dataframe tbody tr th:only-of-type {\n",
       "        vertical-align: middle;\n",
       "    }\n",
       "\n",
       "    .dataframe tbody tr th {\n",
       "        vertical-align: top;\n",
       "    }\n",
       "\n",
       "    .dataframe thead th {\n",
       "        text-align: right;\n",
       "    }\n",
       "</style>\n",
       "<table border=\"1\" class=\"dataframe\">\n",
       "  <thead>\n",
       "    <tr style=\"text-align: right;\">\n",
       "      <th></th>\n",
       "      <th>id</th>\n",
       "      <th>img_url</th>\n",
       "      <th>reference_caption</th>\n",
       "      <th>multiple_choice_solution</th>\n",
       "      <th>multiple_choice_question</th>\n",
       "      <th>multiple_choice_prediction</th>\n",
       "    </tr>\n",
       "  </thead>\n",
       "  <tbody>\n",
       "    <tr>\n",
       "      <th>0</th>\n",
       "      <td>1</td>\n",
       "      <td>/shared/data/food_data/food_images/Pork_ribs/Pork_ribs_0094.jpg</td>\n",
       "      <td>[On the wooden chopping board, there is a cut up grilled and cooked pork rib.]</td>\n",
       "      <td>A</td>\n",
       "      <td>Question: Which of the following captions best describes the painting?\\n\\nA) On the wooden chopping board, there is a cut up grilled and cooked pork rib.\\n\\nB) On the wooden cutting board, there is a raw fish and some vegetables.\\n\\nC) The wooden chopping board having a sliced beef steak on it.\\n\\nD) On the wooden table, there is a whole roasted chicken with side of greens.</td>\n",
       "      <td>A</td>\n",
       "    </tr>\n",
       "  </tbody>\n",
       "</table>\n",
       "</div>"
      ],
      "text/plain": [
       "   id                                                          img_url  \\\n",
       "0   1  /shared/data/food_data/food_images/Pork_ribs/Pork_ribs_0094.jpg   \n",
       "\n",
       "                                                                reference_caption  \\\n",
       "0  [On the wooden chopping board, there is a cut up grilled and cooked pork rib.]   \n",
       "\n",
       "  multiple_choice_solution  \\\n",
       "0                        A   \n",
       "\n",
       "                                                                                                                                                                                                                                                                                                                                                                   multiple_choice_question  \\\n",
       "0  Question: Which of the following captions best describes the painting?\\n\\nA) On the wooden chopping board, there is a cut up grilled and cooked pork rib.\\n\\nB) On the wooden cutting board, there is a raw fish and some vegetables.\\n\\nC) The wooden chopping board having a sliced beef steak on it.\\n\\nD) On the wooden table, there is a whole roasted chicken with side of greens.   \n",
       "\n",
       "  multiple_choice_prediction  \n",
       "0                          A  "
      ]
     },
     "execution_count": 21,
     "metadata": {},
     "output_type": "execute_result"
    }
   ],
   "source": [
    "df.head(1)"
   ]
  },
  {
   "cell_type": "code",
   "execution_count": 22,
   "id": "1663b700",
   "metadata": {},
   "outputs": [
    {
     "data": {
      "text/html": [
       "<div>\n",
       "<style scoped>\n",
       "    .dataframe tbody tr th:only-of-type {\n",
       "        vertical-align: middle;\n",
       "    }\n",
       "\n",
       "    .dataframe tbody tr th {\n",
       "        vertical-align: top;\n",
       "    }\n",
       "\n",
       "    .dataframe thead th {\n",
       "        text-align: right;\n",
       "    }\n",
       "</style>\n",
       "<table border=\"1\" class=\"dataframe\">\n",
       "  <thead>\n",
       "    <tr style=\"text-align: right;\">\n",
       "      <th></th>\n",
       "      <th>multiple_choice_solution</th>\n",
       "      <th>multiple_choice_prediction</th>\n",
       "    </tr>\n",
       "  </thead>\n",
       "  <tbody>\n",
       "    <tr>\n",
       "      <th>0</th>\n",
       "      <td>A</td>\n",
       "      <td>A</td>\n",
       "    </tr>\n",
       "    <tr>\n",
       "      <th>1</th>\n",
       "      <td>C</td>\n",
       "      <td>C</td>\n",
       "    </tr>\n",
       "    <tr>\n",
       "      <th>2</th>\n",
       "      <td>B</td>\n",
       "      <td>B</td>\n",
       "    </tr>\n",
       "    <tr>\n",
       "      <th>3</th>\n",
       "      <td>B</td>\n",
       "      <td>B</td>\n",
       "    </tr>\n",
       "    <tr>\n",
       "      <th>4</th>\n",
       "      <td>D</td>\n",
       "      <td>A</td>\n",
       "    </tr>\n",
       "    <tr>\n",
       "      <th>...</th>\n",
       "      <td>...</td>\n",
       "      <td>...</td>\n",
       "    </tr>\n",
       "    <tr>\n",
       "      <th>95</th>\n",
       "      <td>D</td>\n",
       "      <td>D</td>\n",
       "    </tr>\n",
       "    <tr>\n",
       "      <th>96</th>\n",
       "      <td>D</td>\n",
       "      <td>C</td>\n",
       "    </tr>\n",
       "    <tr>\n",
       "      <th>97</th>\n",
       "      <td>C</td>\n",
       "      <td>C</td>\n",
       "    </tr>\n",
       "    <tr>\n",
       "      <th>98</th>\n",
       "      <td>B</td>\n",
       "      <td>C</td>\n",
       "    </tr>\n",
       "    <tr>\n",
       "      <th>99</th>\n",
       "      <td>D</td>\n",
       "      <td>C</td>\n",
       "    </tr>\n",
       "  </tbody>\n",
       "</table>\n",
       "<p>100 rows × 2 columns</p>\n",
       "</div>"
      ],
      "text/plain": [
       "   multiple_choice_solution multiple_choice_prediction\n",
       "0                         A                          A\n",
       "1                         C                          C\n",
       "2                         B                          B\n",
       "3                         B                          B\n",
       "4                         D                          A\n",
       "..                      ...                        ...\n",
       "95                        D                          D\n",
       "96                        D                          C\n",
       "97                        C                          C\n",
       "98                        B                          C\n",
       "99                        D                          C\n",
       "\n",
       "[100 rows x 2 columns]"
      ]
     },
     "execution_count": 22,
     "metadata": {},
     "output_type": "execute_result"
    }
   ],
   "source": [
    "df[['multiple_choice_solution', 'multiple_choice_prediction']]"
   ]
  },
  {
   "cell_type": "code",
   "execution_count": 23,
   "id": "c00ef517",
   "metadata": {},
   "outputs": [
    {
     "name": "stdout",
     "output_type": "stream",
     "text": [
      "DataFrame saved as a list of dictionaries in /shared/data/food_data/food_annotation_with_MCQ_result.json\n"
     ]
    }
   ],
   "source": [
    "# Save the MCQ result\n",
    "\n",
    "# Convert DataFrame to a list of dictionaries\n",
    "list_of_dicts = df.to_dict(orient=\"records\")\n",
    "\n",
    "# Save the list of dictionaries to a JSON file\n",
    "output_file = \"/shared/data/food_data/food_annotation_with_MCQ_result.json\"\n",
    "\n",
    "with open(output_file, \"w\") as file:\n",
    "    json.dump(list_of_dicts, file, indent=4)\n",
    "\n",
    "print(f\"DataFrame saved as a list of dictionaries in {output_file}\")"
   ]
  },
  {
   "cell_type": "code",
   "execution_count": null,
   "id": "36f58338",
   "metadata": {},
   "outputs": [],
   "source": []
  },
  {
   "cell_type": "markdown",
   "id": "6e33e34b",
   "metadata": {},
   "source": [
    "## Perform Image Captioning Task"
   ]
  },
  {
   "cell_type": "code",
   "execution_count": 29,
   "id": "6fc753d5",
   "metadata": {},
   "outputs": [
    {
     "data": {
      "text/html": [
       "<div>\n",
       "<style scoped>\n",
       "    .dataframe tbody tr th:only-of-type {\n",
       "        vertical-align: middle;\n",
       "    }\n",
       "\n",
       "    .dataframe tbody tr th {\n",
       "        vertical-align: top;\n",
       "    }\n",
       "\n",
       "    .dataframe thead th {\n",
       "        text-align: right;\n",
       "    }\n",
       "</style>\n",
       "<table border=\"1\" class=\"dataframe\">\n",
       "  <thead>\n",
       "    <tr style=\"text-align: right;\">\n",
       "      <th></th>\n",
       "      <th>id</th>\n",
       "      <th>img_url</th>\n",
       "      <th>reference_caption</th>\n",
       "      <th>multiple_choice_solution</th>\n",
       "      <th>multiple_choice_question</th>\n",
       "    </tr>\n",
       "  </thead>\n",
       "  <tbody>\n",
       "    <tr>\n",
       "      <th>0</th>\n",
       "      <td>1</td>\n",
       "      <td>/shared/data/food_data/food_images/Pork_ribs/Pork_ribs_0094.jpg</td>\n",
       "      <td>[On the wooden chopping board, there is a cut up grilled and cooked pork rib.]</td>\n",
       "      <td>A</td>\n",
       "      <td>Question: Which of the following captions best describes the painting?\\n\\nA) On the wooden chopping board, there is a cut up grilled and cooked pork rib.\\n\\nB) On the wooden cutting board, there is a raw fish and some vegetables.\\n\\nC) The wooden chopping board having a sliced beef steak on it.\\n\\nD) On the wooden table, there is a whole roasted chicken with side of greens.</td>\n",
       "    </tr>\n",
       "  </tbody>\n",
       "</table>\n",
       "</div>"
      ],
      "text/plain": [
       "   id                                                          img_url  \\\n",
       "0   1  /shared/data/food_data/food_images/Pork_ribs/Pork_ribs_0094.jpg   \n",
       "\n",
       "                                                                reference_caption  \\\n",
       "0  [On the wooden chopping board, there is a cut up grilled and cooked pork rib.]   \n",
       "\n",
       "  multiple_choice_solution  \\\n",
       "0                        A   \n",
       "\n",
       "                                                                                                                                                                                                                                                                                                                                                                   multiple_choice_question  \n",
       "0  Question: Which of the following captions best describes the painting?\\n\\nA) On the wooden chopping board, there is a cut up grilled and cooked pork rib.\\n\\nB) On the wooden cutting board, there is a raw fish and some vegetables.\\n\\nC) The wooden chopping board having a sliced beef steak on it.\\n\\nD) On the wooden table, there is a whole roasted chicken with side of greens.  "
      ]
     },
     "execution_count": 29,
     "metadata": {},
     "output_type": "execute_result"
    }
   ],
   "source": [
    "# Load annotation with multiple choice question data file\n",
    "import pandas as pd\n",
    "pd.set_option('display.max_colwidth', None)\n",
    "import json\n",
    "\n",
    "\n",
    "# Data Directory: \n",
    "#food_images_directory = '/shared/data/food_data/food_images/'\n",
    "food_annotation_file_path = '/shared/data/food_data/food_annotation_with_MCQ.json'\n",
    "\n",
    "\n",
    "# Method 1: Using pandas.read_json directly\n",
    "df = pd.read_json(food_annotation_file_path)\n",
    "\n",
    "df.head(1)"
   ]
  },
  {
   "cell_type": "code",
   "execution_count": 30,
   "id": "b51ee0c4",
   "metadata": {},
   "outputs": [],
   "source": [
    "# helper function: \n",
    "def perform_image_captioning_task_llava(img_url):\n",
    "    image = Image.open(img_url)\n",
    "    \n",
    "    conversation = [\n",
    "        {\n",
    "\n",
    "          \"role\": \"user\",\n",
    "          \"content\": [\n",
    "              {\"type\": \"text\", \"text\": \"Generate a caption for this image.\"},\n",
    "              {\"type\": \"image\"},\n",
    "            ],\n",
    "        },\n",
    "    ]\n",
    "    prompt = processor.apply_chat_template(conversation, add_generation_prompt=True)\n",
    "\n",
    "    inputs = processor(images=image, text=prompt, return_tensors=\"pt\").to(\"cuda:0\")\n",
    "\n",
    "    # autoregressively complete prompt\n",
    "    output = model.generate(**inputs, max_new_tokens=150)\n",
    "    output = processor.decode(output[0], skip_special_tokens=True)\n",
    "\n",
    "    caption = output.split('[/INST]')[1].strip()\n",
    "    print(caption)\n",
    "    return caption"
   ]
  },
  {
   "cell_type": "code",
   "execution_count": 31,
   "id": "510030c1",
   "metadata": {},
   "outputs": [
    {
     "name": "stderr",
     "output_type": "stream",
     "text": [
      "Setting `pad_token_id` to `eos_token_id`:None for open-end generation.\n",
      "Setting `pad_token_id` to `eos_token_id`:None for open-end generation.\n"
     ]
    },
    {
     "name": "stdout",
     "output_type": "stream",
     "text": [
      "\"Savoring the moment before the feast begins.\"\n"
     ]
    },
    {
     "name": "stderr",
     "output_type": "stream",
     "text": [
      "Setting `pad_token_id` to `eos_token_id`:None for open-end generation.\n"
     ]
    },
    {
     "name": "stdout",
     "output_type": "stream",
     "text": [
      "\"Savoring the flavors of a succulent barbecue ribs feast.\"\n"
     ]
    },
    {
     "name": "stderr",
     "output_type": "stream",
     "text": [
      "Setting `pad_token_id` to `eos_token_id`:None for open-end generation.\n"
     ]
    },
    {
     "name": "stdout",
     "output_type": "stream",
     "text": [
      "\"Savoring the smoky, savory flavor of a perfectly grilled rib.\"\n"
     ]
    },
    {
     "name": "stderr",
     "output_type": "stream",
     "text": [
      "Setting `pad_token_id` to `eos_token_id`:None for open-end generation.\n"
     ]
    },
    {
     "name": "stdout",
     "output_type": "stream",
     "text": [
      "\"Savoring the flavors of a succulent barbecue ribs meal.\"\n"
     ]
    },
    {
     "name": "stderr",
     "output_type": "stream",
     "text": [
      "Setting `pad_token_id` to `eos_token_id`:None for open-end generation.\n"
     ]
    },
    {
     "name": "stdout",
     "output_type": "stream",
     "text": [
      "\"A hearty meal of succulent ribs, crispy potatoes, and a refreshing can of soda.\"\n"
     ]
    },
    {
     "name": "stderr",
     "output_type": "stream",
     "text": [
      "Setting `pad_token_id` to `eos_token_id`:None for open-end generation.\n"
     ]
    },
    {
     "name": "stdout",
     "output_type": "stream",
     "text": [
      "\"Savoring the taste of a succulent BBQ rib, garnished with fresh herbs and a tangy sauce, ready to be savored.\"\n"
     ]
    },
    {
     "name": "stderr",
     "output_type": "stream",
     "text": [
      "Setting `pad_token_id` to `eos_token_id`:None for open-end generation.\n"
     ]
    },
    {
     "name": "stdout",
     "output_type": "stream",
     "text": [
      "\"Savoring the flavors of a succulent barbecue rib.\"\n"
     ]
    },
    {
     "name": "stderr",
     "output_type": "stream",
     "text": [
      "Setting `pad_token_id` to `eos_token_id`:None for open-end generation.\n"
     ]
    },
    {
     "name": "stdout",
     "output_type": "stream",
     "text": [
      "\"Savoring the moment before the feast begins.\"\n"
     ]
    },
    {
     "name": "stderr",
     "output_type": "stream",
     "text": [
      "Setting `pad_token_id` to `eos_token_id`:None for open-end generation.\n"
     ]
    },
    {
     "name": "stdout",
     "output_type": "stream",
     "text": [
      "\"Savoring the taste of a delicious, crispy snack.\"\n"
     ]
    },
    {
     "name": "stderr",
     "output_type": "stream",
     "text": [
      "Setting `pad_token_id` to `eos_token_id`:None for open-end generation.\n"
     ]
    },
    {
     "name": "stdout",
     "output_type": "stream",
     "text": [
      "\"A hearty meal of succulent meat and creamy beans, served on a rustic wooden table.\"\n"
     ]
    },
    {
     "name": "stderr",
     "output_type": "stream",
     "text": [
      "Setting `pad_token_id` to `eos_token_id`:None for open-end generation.\n"
     ]
    },
    {
     "name": "stdout",
     "output_type": "stream",
     "text": [
      "\"A delightful treat, a slice of cake with a dusting of powdered sugar, ready to be savored.\"\n"
     ]
    },
    {
     "name": "stderr",
     "output_type": "stream",
     "text": [
      "Setting `pad_token_id` to `eos_token_id`:None for open-end generation.\n"
     ]
    },
    {
     "name": "stdout",
     "output_type": "stream",
     "text": [
      "\"A delightful plate of crispy, golden-brown fried dumplings, garnished with a sprinkle of sugar and served with a refreshing slice of orange.\"\n"
     ]
    },
    {
     "name": "stderr",
     "output_type": "stream",
     "text": [
      "Setting `pad_token_id` to `eos_token_id`:None for open-end generation.\n"
     ]
    },
    {
     "name": "stdout",
     "output_type": "stream",
     "text": [
      "\"A delightful assortment of freshly baked pastries, ready to be savored.\"\n"
     ]
    },
    {
     "name": "stderr",
     "output_type": "stream",
     "text": [
      "Setting `pad_token_id` to `eos_token_id`:None for open-end generation.\n"
     ]
    },
    {
     "name": "stdout",
     "output_type": "stream",
     "text": [
      "\"A delightful breakfast spread featuring a stack of golden pancakes, a glass of refreshing milk, and a side of fluffy donuts.\"\n"
     ]
    },
    {
     "name": "stderr",
     "output_type": "stream",
     "text": [
      "Setting `pad_token_id` to `eos_token_id`:None for open-end generation.\n"
     ]
    },
    {
     "name": "stdout",
     "output_type": "stream",
     "text": [
      "\"A delightful assortment of sweet treats, ready to be savored.\"\n"
     ]
    },
    {
     "name": "stderr",
     "output_type": "stream",
     "text": [
      "Setting `pad_token_id` to `eos_token_id`:None for open-end generation.\n"
     ]
    },
    {
     "name": "stdout",
     "output_type": "stream",
     "text": [
      "\"A delightful trio of golden brown dumplings, ready to be savored.\"\n"
     ]
    },
    {
     "name": "stderr",
     "output_type": "stream",
     "text": [
      "Setting `pad_token_id` to `eos_token_id`:None for open-end generation.\n"
     ]
    },
    {
     "name": "stdout",
     "output_type": "stream",
     "text": [
      "\"A tantalizing treat, a sugar-coated doughnut, ready to be savored.\"\n"
     ]
    },
    {
     "name": "stderr",
     "output_type": "stream",
     "text": [
      "Setting `pad_token_id` to `eos_token_id`:None for open-end generation.\n"
     ]
    },
    {
     "name": "stdout",
     "output_type": "stream",
     "text": [
      "\"A delightful assortment of powdered sugar-covered pastries, ready to be savored.\"\n"
     ]
    },
    {
     "name": "stderr",
     "output_type": "stream",
     "text": [
      "Setting `pad_token_id` to `eos_token_id`:None for open-end generation.\n"
     ]
    },
    {
     "name": "stdout",
     "output_type": "stream",
     "text": [
      "\"A delightful treat: powdered sugar-covered pastries on a plate, ready to be savored.\"\n"
     ]
    },
    {
     "name": "stderr",
     "output_type": "stream",
     "text": [
      "Setting `pad_token_id` to `eos_token_id`:None for open-end generation.\n"
     ]
    },
    {
     "name": "stdout",
     "output_type": "stream",
     "text": [
      "\"A delightful assortment of freshly baked pastries, ready to be savored.\"\n"
     ]
    },
    {
     "name": "stderr",
     "output_type": "stream",
     "text": [
      "Setting `pad_token_id` to `eos_token_id`:None for open-end generation.\n"
     ]
    },
    {
     "name": "stdout",
     "output_type": "stream",
     "text": [
      "\"A delicious seafood stir fry with noodles and a variety of ingredients.\"\n"
     ]
    },
    {
     "name": "stderr",
     "output_type": "stream",
     "text": [
      "Setting `pad_token_id` to `eos_token_id`:None for open-end generation.\n"
     ]
    },
    {
     "name": "stdout",
     "output_type": "stream",
     "text": [
      "\"A hearty bowl of shrimp noodle soup, ready to warm up a chilly day!\"\n"
     ]
    },
    {
     "name": "stderr",
     "output_type": "stream",
     "text": [
      "Setting `pad_token_id` to `eos_token_id`:None for open-end generation.\n"
     ]
    },
    {
     "name": "stdout",
     "output_type": "stream",
     "text": [
      "\"A hearty bowl of shrimp noodle soup, garnished with a soft-boiled egg and fresh herbs, ready to warm the soul.\"\n"
     ]
    },
    {
     "name": "stderr",
     "output_type": "stream",
     "text": [
      "Setting `pad_token_id` to `eos_token_id`:None for open-end generation.\n"
     ]
    },
    {
     "name": "stdout",
     "output_type": "stream",
     "text": [
      "\"A hearty bowl of seafood noodle soup, ready to warm the soul.\"\n"
     ]
    },
    {
     "name": "stderr",
     "output_type": "stream",
     "text": [
      "Setting `pad_token_id` to `eos_token_id`:None for open-end generation.\n"
     ]
    },
    {
     "name": "stdout",
     "output_type": "stream",
     "text": [
      "\"A hearty seafood dish, ready to be savored.\"\n"
     ]
    },
    {
     "name": "stderr",
     "output_type": "stream",
     "text": [
      "Setting `pad_token_id` to `eos_token_id`:None for open-end generation.\n"
     ]
    },
    {
     "name": "stdout",
     "output_type": "stream",
     "text": [
      "\"A hearty bowl of noodles, seafood, and greens, ready to be savored.\"\n"
     ]
    },
    {
     "name": "stderr",
     "output_type": "stream",
     "text": [
      "Setting `pad_token_id` to `eos_token_id`:None for open-end generation.\n"
     ]
    },
    {
     "name": "stdout",
     "output_type": "stream",
     "text": [
      "\"A delicious and colorful meal of noodles, seafood, and a side of soup, ready to be enjoyed.\"\n"
     ]
    },
    {
     "name": "stderr",
     "output_type": "stream",
     "text": [
      "Setting `pad_token_id` to `eos_token_id`:None for open-end generation.\n"
     ]
    },
    {
     "name": "stdout",
     "output_type": "stream",
     "text": [
      "\"A hearty bowl of shrimp noodle soup, ready to warm the soul on a chilly day.\"\n"
     ]
    },
    {
     "name": "stderr",
     "output_type": "stream",
     "text": [
      "Setting `pad_token_id` to `eos_token_id`:None for open-end generation.\n"
     ]
    },
    {
     "name": "stdout",
     "output_type": "stream",
     "text": [
      "\"A hearty bowl of noodles, topped with succulent meat and garnished with a sprinkle of sesame seeds.\"\n"
     ]
    },
    {
     "name": "stderr",
     "output_type": "stream",
     "text": [
      "Setting `pad_token_id` to `eos_token_id`:None for open-end generation.\n"
     ]
    },
    {
     "name": "stdout",
     "output_type": "stream",
     "text": [
      "\"A hearty bowl of shrimp and noodle soup, filled with vibrant colors and flavors.\"\n"
     ]
    },
    {
     "name": "stderr",
     "output_type": "stream",
     "text": [
      "Setting `pad_token_id` to `eos_token_id`:None for open-end generation.\n"
     ]
    },
    {
     "name": "stdout",
     "output_type": "stream",
     "text": [
      "\"A hearty meal of sausage and beans, ready to be savored.\"\n"
     ]
    },
    {
     "name": "stderr",
     "output_type": "stream",
     "text": [
      "Setting `pad_token_id` to `eos_token_id`:None for open-end generation.\n"
     ]
    },
    {
     "name": "stdout",
     "output_type": "stream",
     "text": [
      "\"A hearty meal of sausage and beans, ready to be enjoyed.\"\n"
     ]
    },
    {
     "name": "stderr",
     "output_type": "stream",
     "text": [
      "Setting `pad_token_id` to `eos_token_id`:None for open-end generation.\n"
     ]
    },
    {
     "name": "stdout",
     "output_type": "stream",
     "text": [
      "\"A hearty meal of sausage and beans, ready to be savored.\"\n"
     ]
    },
    {
     "name": "stderr",
     "output_type": "stream",
     "text": [
      "Setting `pad_token_id` to `eos_token_id`:None for open-end generation.\n"
     ]
    },
    {
     "name": "stdout",
     "output_type": "stream",
     "text": [
      "\"A hearty meal of sausages and greens, served in a rustic cast iron skillet.\"\n"
     ]
    },
    {
     "name": "stderr",
     "output_type": "stream",
     "text": [
      "Setting `pad_token_id` to `eos_token_id`:None for open-end generation.\n"
     ]
    },
    {
     "name": "stdout",
     "output_type": "stream",
     "text": [
      "\"A hearty meal of sausages and beans, ready to be savored.\"\n"
     ]
    },
    {
     "name": "stderr",
     "output_type": "stream",
     "text": [
      "Setting `pad_token_id` to `eos_token_id`:None for open-end generation.\n"
     ]
    },
    {
     "name": "stdout",
     "output_type": "stream",
     "text": [
      "\"A hearty meal of sausage and pasta, ready to be savored.\"\n"
     ]
    },
    {
     "name": "stderr",
     "output_type": "stream",
     "text": [
      "Setting `pad_token_id` to `eos_token_id`:None for open-end generation.\n"
     ]
    },
    {
     "name": "stdout",
     "output_type": "stream",
     "text": [
      "\"A hearty meal of sausage, potatoes, and a side of fresh vegetables.\"\n"
     ]
    },
    {
     "name": "stderr",
     "output_type": "stream",
     "text": [
      "Setting `pad_token_id` to `eos_token_id`:None for open-end generation.\n"
     ]
    },
    {
     "name": "stdout",
     "output_type": "stream",
     "text": [
      "\"Preparing a hearty meal with freshly chopped ginger root and a sharp knife.\"\n"
     ]
    },
    {
     "name": "stderr",
     "output_type": "stream",
     "text": [
      "Setting `pad_token_id` to `eos_token_id`:None for open-end generation.\n"
     ]
    },
    {
     "name": "stdout",
     "output_type": "stream",
     "text": [
      "\"A hearty meal of sausages and pasta, ready to be savored.\"\n"
     ]
    },
    {
     "name": "stderr",
     "output_type": "stream",
     "text": [
      "Setting `pad_token_id` to `eos_token_id`:None for open-end generation.\n"
     ]
    },
    {
     "name": "stdout",
     "output_type": "stream",
     "text": [
      "\"A hearty meal of sausages and onions, ready to be savored.\"\n"
     ]
    },
    {
     "name": "stderr",
     "output_type": "stream",
     "text": [
      "Setting `pad_token_id` to `eos_token_id`:None for open-end generation.\n"
     ]
    },
    {
     "name": "stdout",
     "output_type": "stream",
     "text": [
      "\"A delightful culinary experience awaits with these skewered delights, garnished with a touch of elegance.\"\n"
     ]
    },
    {
     "name": "stderr",
     "output_type": "stream",
     "text": [
      "Setting `pad_token_id` to `eos_token_id`:None for open-end generation.\n"
     ]
    },
    {
     "name": "stdout",
     "output_type": "stream",
     "text": [
      "\"A delightful culinary scene featuring freshly made dough balls, ready to be savored.\"\n"
     ]
    },
    {
     "name": "stderr",
     "output_type": "stream",
     "text": [
      "Setting `pad_token_id` to `eos_token_id`:None for open-end generation.\n"
     ]
    },
    {
     "name": "stdout",
     "output_type": "stream",
     "text": [
      "\"A colorful culinary adventure: Five mini pizzas, each with its own unique toppings, ready to be savored.\"\n"
     ]
    },
    {
     "name": "stderr",
     "output_type": "stream",
     "text": [
      "Setting `pad_token_id` to `eos_token_id`:None for open-end generation.\n"
     ]
    },
    {
     "name": "stdout",
     "output_type": "stream",
     "text": [
      "\"A vibrant red dish filled with freshly sliced white radishes, ready to be enjoyed.\"\n"
     ]
    },
    {
     "name": "stderr",
     "output_type": "stream",
     "text": [
      "Setting `pad_token_id` to `eos_token_id`:None for open-end generation.\n"
     ]
    },
    {
     "name": "stdout",
     "output_type": "stream",
     "text": [
      "\"A delightful stack of crispy, golden-brown pancakes, topped with a dollop of creamy peanut butter, served on a charming blue and white plate.\"\n"
     ]
    },
    {
     "name": "stderr",
     "output_type": "stream",
     "text": [
      "Setting `pad_token_id` to `eos_token_id`:None for open-end generation.\n"
     ]
    },
    {
     "name": "stdout",
     "output_type": "stream",
     "text": [
      "\"A delightful culinary experience featuring a trio of golden-brown, crispy tofu squares, garnished with a sprig of fresh green herbs, served on a pristine white plate.\"\n"
     ]
    },
    {
     "name": "stderr",
     "output_type": "stream",
     "text": [
      "Setting `pad_token_id` to `eos_token_id`:None for open-end generation.\n"
     ]
    },
    {
     "name": "stdout",
     "output_type": "stream",
     "text": [
      "\"A moment of culinary artistry: freshly grated parmesan cheese being added to a dish.\"\n"
     ]
    },
    {
     "name": "stderr",
     "output_type": "stream",
     "text": [
      "Setting `pad_token_id` to `eos_token_id`:None for open-end generation.\n"
     ]
    },
    {
     "name": "stdout",
     "output_type": "stream",
     "text": [
      "\"A delightful snack of apple slices and peanut butter on a bed of crunchy rice cakes.\"\n"
     ]
    },
    {
     "name": "stderr",
     "output_type": "stream",
     "text": [
      "Setting `pad_token_id` to `eos_token_id`:None for open-end generation.\n"
     ]
    },
    {
     "name": "stdout",
     "output_type": "stream",
     "text": [
      "\"A slice of sushi with a vibrant green seaweed topping, resting on a textured surface.\"\n"
     ]
    },
    {
     "name": "stderr",
     "output_type": "stream",
     "text": [
      "Setting `pad_token_id` to `eos_token_id`:None for open-end generation.\n"
     ]
    },
    {
     "name": "stdout",
     "output_type": "stream",
     "text": [
      "\"A delightful dish of avocado toast topped with a sprinkle of sprouts and a drizzle of creamy sauce, served on a rustic wooden table.\"\n"
     ]
    },
    {
     "name": "stderr",
     "output_type": "stream",
     "text": [
      "Setting `pad_token_id` to `eos_token_id`:None for open-end generation.\n"
     ]
    },
    {
     "name": "stdout",
     "output_type": "stream",
     "text": [
      "\"A delightful sushi meal, complete with a refreshing drink and a side of spices.\"\n",
      "\"A delightful culinary experience awaits with these two mouth-watering sushi rolls, each meticulously crafted and ready to be savored.\"\n"
     ]
    },
    {
     "name": "stderr",
     "output_type": "stream",
     "text": [
      "Setting `pad_token_id` to `eos_token_id`:None for open-end generation.\n",
      "Setting `pad_token_id` to `eos_token_id`:None for open-end generation.\n"
     ]
    },
    {
     "name": "stdout",
     "output_type": "stream",
     "text": [
      "\"A colorful and appetizing bento box, ready to be enjoyed.\"\n"
     ]
    },
    {
     "name": "stderr",
     "output_type": "stream",
     "text": [
      "Setting `pad_token_id` to `eos_token_id`:None for open-end generation.\n"
     ]
    },
    {
     "name": "stdout",
     "output_type": "stream",
     "text": [
      "\"A delightful plate of sushi rolls, garnished with a sprinkle of sesame seeds and a drizzle of soy sauce, ready to be savored.\"\n",
      "\"A delightful bite of sushi rice, topped with a slice of seaweed, ready to be savored.\"\n"
     ]
    },
    {
     "name": "stderr",
     "output_type": "stream",
     "text": [
      "Setting `pad_token_id` to `eos_token_id`:None for open-end generation.\n"
     ]
    },
    {
     "name": "stdout",
     "output_type": "stream",
     "text": [
      "\"A delicious and healthy meal, ready to be enjoyed.\"\n"
     ]
    },
    {
     "name": "stderr",
     "output_type": "stream",
     "text": [
      "Setting `pad_token_id` to `eos_token_id`:None for open-end generation.\n",
      "Setting `pad_token_id` to `eos_token_id`:None for open-end generation.\n"
     ]
    },
    {
     "name": "stdout",
     "output_type": "stream",
     "text": [
      "\"A delightful snack of sushi rice balls, topped with a vibrant orange filling, served on a white plate with a side of soy sauce.\"\n"
     ]
    },
    {
     "name": "stderr",
     "output_type": "stream",
     "text": [
      "Setting `pad_token_id` to `eos_token_id`:None for open-end generation.\n"
     ]
    },
    {
     "name": "stdout",
     "output_type": "stream",
     "text": [
      "\"A delightful sushi dish, served on a black plate with a touch of orange, ready to be enjoyed.\"\n"
     ]
    },
    {
     "name": "stderr",
     "output_type": "stream",
     "text": [
      "Setting `pad_token_id` to `eos_token_id`:None for open-end generation.\n"
     ]
    },
    {
     "name": "stdout",
     "output_type": "stream",
     "text": [
      "\"A delightful plate of sushi rolls, garnished with sesame seeds and green onions, ready to be savored.\"\n"
     ]
    },
    {
     "name": "stderr",
     "output_type": "stream",
     "text": [
      "Setting `pad_token_id` to `eos_token_id`:None for open-end generation.\n"
     ]
    },
    {
     "name": "stdout",
     "output_type": "stream",
     "text": [
      "\"A culinary delight: Japanese onigiri, meticulously crafted with a sprinkle of spice.\"\n"
     ]
    },
    {
     "name": "stderr",
     "output_type": "stream",
     "text": [
      "Setting `pad_token_id` to `eos_token_id`:None for open-end generation.\n"
     ]
    },
    {
     "name": "stdout",
     "output_type": "stream",
     "text": [
      "\"A delightful medley of fresh fruits and a flaky pastry, perfect for a summer afternoon.\"\n"
     ]
    },
    {
     "name": "stderr",
     "output_type": "stream",
     "text": [
      "Setting `pad_token_id` to `eos_token_id`:None for open-end generation.\n"
     ]
    },
    {
     "name": "stdout",
     "output_type": "stream",
     "text": [
      "\"A slice of heaven: a delicious piece of pie on a gold plate, ready to be savored.\"\n"
     ]
    },
    {
     "name": "stderr",
     "output_type": "stream",
     "text": [
      "Setting `pad_token_id` to `eos_token_id`:None for open-end generation.\n"
     ]
    },
    {
     "name": "stdout",
     "output_type": "stream",
     "text": [
      "\"A slice of heaven: A creamy cheesecake with a golden crust, ready to be savored.\"\n"
     ]
    },
    {
     "name": "stderr",
     "output_type": "stream",
     "text": [
      "Setting `pad_token_id` to `eos_token_id`:None for open-end generation.\n"
     ]
    },
    {
     "name": "stdout",
     "output_type": "stream",
     "text": [
      "\"A slice of heaven: a delicious dessert with a hint of citrus.\"\n"
     ]
    },
    {
     "name": "stderr",
     "output_type": "stream",
     "text": [
      "Setting `pad_token_id` to `eos_token_id`:None for open-end generation.\n"
     ]
    },
    {
     "name": "stdout",
     "output_type": "stream",
     "text": [
      "\"A stack of golden, flaky waffles topped with a dollop of whipped cream and a slice of lemon, ready to be savored.\"\n"
     ]
    },
    {
     "name": "stderr",
     "output_type": "stream",
     "text": [
      "Setting `pad_token_id` to `eos_token_id`:None for open-end generation.\n"
     ]
    },
    {
     "name": "stdout",
     "output_type": "stream",
     "text": [
      "\"A slice of heaven: A perfectly baked pie with a flaky crust, topped with a scoop of vanilla ice cream, all ready to be savored.\"\n"
     ]
    },
    {
     "name": "stderr",
     "output_type": "stream",
     "text": [
      "Setting `pad_token_id` to `eos_token_id`:None for open-end generation.\n"
     ]
    },
    {
     "name": "stdout",
     "output_type": "stream",
     "text": [
      "\"A delightful dessert scene featuring a slice of lemon meringue pie, a scoop of ice cream, and a sprinkle of powdered sugar, all served on a charming blue plate with a yellow checkered napkin.\"\n"
     ]
    },
    {
     "name": "stderr",
     "output_type": "stream",
     "text": [
      "Setting `pad_token_id` to `eos_token_id`:None for open-end generation.\n"
     ]
    },
    {
     "name": "stdout",
     "output_type": "stream",
     "text": [
      "\"A slice of heaven: A tantalizing dessert with a golden crust and a fluffy meringue topping.\"\n"
     ]
    },
    {
     "name": "stderr",
     "output_type": "stream",
     "text": [
      "Setting `pad_token_id` to `eos_token_id`:None for open-end generation.\n"
     ]
    },
    {
     "name": "stdout",
     "output_type": "stream",
     "text": [
      "\"A slice of heaven: A delicious, creamy slice of lemon meringue pie.\"\n"
     ]
    },
    {
     "name": "stderr",
     "output_type": "stream",
     "text": [
      "Setting `pad_token_id` to `eos_token_id`:None for open-end generation.\n"
     ]
    },
    {
     "name": "stdout",
     "output_type": "stream",
     "text": [
      "\"A slice of heaven: A delicious dessert served on a fine china plate.\"\n"
     ]
    },
    {
     "name": "stderr",
     "output_type": "stream",
     "text": [
      "Setting `pad_token_id` to `eos_token_id`:None for open-end generation.\n"
     ]
    },
    {
     "name": "stdout",
     "output_type": "stream",
     "text": [
      "\"A delicious meal of sliced chicken with a side of flavorful sauce, ready to be savored.\"\n"
     ]
    },
    {
     "name": "stderr",
     "output_type": "stream",
     "text": [
      "Setting `pad_token_id` to `eos_token_id`:None for open-end generation.\n"
     ]
    },
    {
     "name": "stdout",
     "output_type": "stream",
     "text": [
      "\"A delightful dish of tender, succulent chicken pieces, ready to be savored.\"\n"
     ]
    },
    {
     "name": "stderr",
     "output_type": "stream",
     "text": [
      "Setting `pad_token_id` to `eos_token_id`:None for open-end generation.\n"
     ]
    },
    {
     "name": "stdout",
     "output_type": "stream",
     "text": [
      "\"A delightful meal of succulent chicken in a vibrant sauce, served on a traditional blue and white plate, accompanied by a refreshing side of soup.\"\n"
     ]
    },
    {
     "name": "stderr",
     "output_type": "stream",
     "text": [
      "Setting `pad_token_id` to `eos_token_id`:None for open-end generation.\n"
     ]
    },
    {
     "name": "stdout",
     "output_type": "stream",
     "text": [
      "\"A delicious and hearty meal of chicken and broccoli in a savory sauce, garnished with a sprig of parsley and a purple flower, served on a bamboo placemat.\"\n"
     ]
    },
    {
     "name": "stderr",
     "output_type": "stream",
     "text": [
      "Setting `pad_token_id` to `eos_token_id`:None for open-end generation.\n"
     ]
    },
    {
     "name": "stdout",
     "output_type": "stream",
     "text": [
      "\"A delightful dish of crispy, golden-brown fried chicken, served on a pristine white plate, garnished with a sprig of parsley and a vibrant purple flower, ready to be savored.\"\n",
      "\"A tantalizing dish of succulent chicken, garnished with a vibrant red tomato and a sprig of fresh parsley, served on a pristine white plate.\"\n"
     ]
    },
    {
     "name": "stderr",
     "output_type": "stream",
     "text": [
      "Setting `pad_token_id` to `eos_token_id`:None for open-end generation.\n",
      "Setting `pad_token_id` to `eos_token_id`:None for open-end generation.\n"
     ]
    },
    {
     "name": "stdout",
     "output_type": "stream",
     "text": [
      "\"A delightful dish of roasted chicken, garnished with a sprig of parsley and a purple flower, served on a white plate.\"\n"
     ]
    },
    {
     "name": "stderr",
     "output_type": "stream",
     "text": [
      "Setting `pad_token_id` to `eos_token_id`:None for open-end generation.\n"
     ]
    },
    {
     "name": "stdout",
     "output_type": "stream",
     "text": [
      "\"A tantalizing dish of succulent pork belly, served with a side of vibrant green onions, all presented on a rustic wooden table.\"\n"
     ]
    },
    {
     "name": "stderr",
     "output_type": "stream",
     "text": [
      "Setting `pad_token_id` to `eos_token_id`:None for open-end generation.\n"
     ]
    },
    {
     "name": "stdout",
     "output_type": "stream",
     "text": [
      "\"A delightful culinary experience featuring succulent chicken and fresh herbs, served on a pristine white plate.\"\n"
     ]
    },
    {
     "name": "stderr",
     "output_type": "stream",
     "text": [
      "Setting `pad_token_id` to `eos_token_id`:None for open-end generation.\n"
     ]
    },
    {
     "name": "stdout",
     "output_type": "stream",
     "text": [
      "\"A delightful meal of succulent chicken, fresh carrots, and aromatic parsley, all served on a pristine white plate.\"\n"
     ]
    },
    {
     "name": "stderr",
     "output_type": "stream",
     "text": [
      "Setting `pad_token_id` to `eos_token_id`:None for open-end generation.\n"
     ]
    },
    {
     "name": "stdout",
     "output_type": "stream",
     "text": [
      "\"A vibrant and healthy Mediterranean-style salad, ready to be savored.\"\n"
     ]
    },
    {
     "name": "stderr",
     "output_type": "stream",
     "text": [
      "Setting `pad_token_id` to `eos_token_id`:None for open-end generation.\n"
     ]
    },
    {
     "name": "stdout",
     "output_type": "stream",
     "text": [
      "\"A delightful Mediterranean feast, ready to be savored.\"\n"
     ]
    },
    {
     "name": "stderr",
     "output_type": "stream",
     "text": [
      "Setting `pad_token_id` to `eos_token_id`:None for open-end generation.\n"
     ]
    },
    {
     "name": "stdout",
     "output_type": "stream",
     "text": [
      "\"A vibrant and appetizing meal, ready to be savored!\"\n"
     ]
    },
    {
     "name": "stderr",
     "output_type": "stream",
     "text": [
      "Setting `pad_token_id` to `eos_token_id`:None for open-end generation.\n"
     ]
    },
    {
     "name": "stdout",
     "output_type": "stream",
     "text": [
      "\"A vibrant and healthy salad, ready to be enjoyed.\"\n"
     ]
    },
    {
     "name": "stderr",
     "output_type": "stream",
     "text": [
      "Setting `pad_token_id` to `eos_token_id`:None for open-end generation.\n"
     ]
    },
    {
     "name": "stdout",
     "output_type": "stream",
     "text": [
      "\"A delightful spread of appetizers, ready to be savored.\"\n",
      "\"A vibrant salad of fresh tomatoes, crisp lettuce, and creamy cheese, ready to be savored.\"\n"
     ]
    },
    {
     "name": "stderr",
     "output_type": "stream",
     "text": [
      "Setting `pad_token_id` to `eos_token_id`:None for open-end generation.\n",
      "Setting `pad_token_id` to `eos_token_id`:None for open-end generation.\n"
     ]
    },
    {
     "name": "stdout",
     "output_type": "stream",
     "text": [
      "\"A vibrant medley of fresh vegetables and crumbled feta cheese, ready to be savored.\"\n"
     ]
    },
    {
     "name": "stderr",
     "output_type": "stream",
     "text": [
      "Setting `pad_token_id` to `eos_token_id`:None for open-end generation.\n"
     ]
    },
    {
     "name": "stdout",
     "output_type": "stream",
     "text": [
      "\"A vibrant and healthy salad, bursting with fresh vegetables and a sprinkle of feta cheese.\"\n",
      "\"A vibrant medley of fresh vegetables and juicy tomatoes, ready to be savored.\"\n"
     ]
    },
    {
     "name": "stderr",
     "output_type": "stream",
     "text": [
      "Setting `pad_token_id` to `eos_token_id`:None for open-end generation.\n"
     ]
    },
    {
     "name": "stdout",
     "output_type": "stream",
     "text": [
      "\"A vibrant salad, bursting with colors and flavors.\"\n"
     ]
    },
    {
     "name": "stderr",
     "output_type": "stream",
     "text": [
      "Setting `pad_token_id` to `eos_token_id`:None for open-end generation.\n",
      "Setting `pad_token_id` to `eos_token_id`:None for open-end generation.\n"
     ]
    },
    {
     "name": "stdout",
     "output_type": "stream",
     "text": [
      "\"A delightful dessert moment captured on a floral-patterned plate.\"\n"
     ]
    },
    {
     "name": "stderr",
     "output_type": "stream",
     "text": [
      "Setting `pad_token_id` to `eos_token_id`:None for open-end generation.\n"
     ]
    },
    {
     "name": "stdout",
     "output_type": "stream",
     "text": [
      "\"Homemade pie cooling on the stove, ready to be served.\"\n"
     ]
    },
    {
     "name": "stderr",
     "output_type": "stream",
     "text": [
      "Setting `pad_token_id` to `eos_token_id`:None for open-end generation.\n"
     ]
    },
    {
     "name": "stdout",
     "output_type": "stream",
     "text": [
      "\"A cozy meal of comfort food, featuring a hearty casserole and a side of fresh greens.\"\n"
     ]
    },
    {
     "name": "stderr",
     "output_type": "stream",
     "text": [
      "Setting `pad_token_id` to `eos_token_id`:None for open-end generation.\n"
     ]
    },
    {
     "name": "stdout",
     "output_type": "stream",
     "text": [
      "\"A tantalizing view of a pecan pie, freshly baked and ready to be savored.\"\n"
     ]
    },
    {
     "name": "stderr",
     "output_type": "stream",
     "text": [
      "Setting `pad_token_id` to `eos_token_id`:None for open-end generation.\n"
     ]
    },
    {
     "name": "stdout",
     "output_type": "stream",
     "text": [
      "\"A slice of delicious pie, ready to be savored.\"\n"
     ]
    },
    {
     "name": "stderr",
     "output_type": "stream",
     "text": [
      "Setting `pad_token_id` to `eos_token_id`:None for open-end generation.\n"
     ]
    },
    {
     "name": "stdout",
     "output_type": "stream",
     "text": [
      "\"A hearty meal of a classic shepherd's pie, topped with a golden crust and served with a side of creamy baked beans.\"\n"
     ]
    },
    {
     "name": "stderr",
     "output_type": "stream",
     "text": [
      "Setting `pad_token_id` to `eos_token_id`:None for open-end generation.\n"
     ]
    },
    {
     "name": "stdout",
     "output_type": "stream",
     "text": [
      "\"A slice of pie, ready to be savored.\"\n"
     ]
    },
    {
     "name": "stderr",
     "output_type": "stream",
     "text": [
      "Setting `pad_token_id` to `eos_token_id`:None for open-end generation.\n"
     ]
    },
    {
     "name": "stdout",
     "output_type": "stream",
     "text": [
      "\"A freshly baked pie, ready to be enjoyed.\"\n"
     ]
    },
    {
     "name": "stderr",
     "output_type": "stream",
     "text": [
      "Setting `pad_token_id` to `eos_token_id`:None for open-end generation.\n"
     ]
    },
    {
     "name": "stdout",
     "output_type": "stream",
     "text": [
      "\"A golden-brown pie crust, ready for a delicious filling.\"\n",
      "\"A delicious, homemade pizza, freshly baked and ready to be enjoyed.\"\n"
     ]
    }
   ],
   "source": [
    "df['predicted_caption'] = df.apply(lambda x: perform_image_captioning_task_llava(x['img_url']), axis=1)"
   ]
  },
  {
   "cell_type": "code",
   "execution_count": 32,
   "id": "cc9f48f4",
   "metadata": {},
   "outputs": [
    {
     "data": {
      "text/html": [
       "<div>\n",
       "<style scoped>\n",
       "    .dataframe tbody tr th:only-of-type {\n",
       "        vertical-align: middle;\n",
       "    }\n",
       "\n",
       "    .dataframe tbody tr th {\n",
       "        vertical-align: top;\n",
       "    }\n",
       "\n",
       "    .dataframe thead th {\n",
       "        text-align: right;\n",
       "    }\n",
       "</style>\n",
       "<table border=\"1\" class=\"dataframe\">\n",
       "  <thead>\n",
       "    <tr style=\"text-align: right;\">\n",
       "      <th></th>\n",
       "      <th>reference_caption</th>\n",
       "      <th>predicted_caption</th>\n",
       "    </tr>\n",
       "  </thead>\n",
       "  <tbody>\n",
       "    <tr>\n",
       "      <th>0</th>\n",
       "      <td>[On the wooden chopping board, there is a cut up grilled and cooked pork rib.]</td>\n",
       "      <td>\"Savoring the moment before the feast begins.\"</td>\n",
       "    </tr>\n",
       "    <tr>\n",
       "      <th>1</th>\n",
       "      <td>[Many grilled pork ribs are arranged in a curiously shaped wooden cutlery.]</td>\n",
       "      <td>\"Savoring the flavors of a succulent barbecue ribs feast.\"</td>\n",
       "    </tr>\n",
       "    <tr>\n",
       "      <th>2</th>\n",
       "      <td>[Two grilled brown-red pork ribs on an oval white dinner plate.]</td>\n",
       "      <td>\"Savoring the smoky, savory flavor of a perfectly grilled rib.\"</td>\n",
       "    </tr>\n",
       "    <tr>\n",
       "      <th>3</th>\n",
       "      <td>[Three pork ribs drizzled with a rich sauce and served on a white round dinner plate.]</td>\n",
       "      <td>\"Savoring the flavors of a succulent barbecue ribs meal.\"</td>\n",
       "    </tr>\n",
       "    <tr>\n",
       "      <th>4</th>\n",
       "      <td>[Raw, long, fresh pork ribs next to yellow, good potatoes.]</td>\n",
       "      <td>\"A hearty meal of succulent ribs, crispy potatoes, and a refreshing can of soda.\"</td>\n",
       "    </tr>\n",
       "    <tr>\n",
       "      <th>...</th>\n",
       "      <td>...</td>\n",
       "      <td>...</td>\n",
       "    </tr>\n",
       "    <tr>\n",
       "      <th>95</th>\n",
       "      <td>[A golden bean pie and some pork fried soybeans on a white round plate]</td>\n",
       "      <td>\"A hearty meal of a classic shepherd's pie, topped with a golden crust and served with a side of creamy baked beans.\"</td>\n",
       "    </tr>\n",
       "    <tr>\n",
       "      <th>96</th>\n",
       "      <td>[A plate of bean pie with a yellow edge and orange skin, and a napkin, a fork, and a knife next to it.]</td>\n",
       "      <td>\"A slice of pie, ready to be savored.\"</td>\n",
       "    </tr>\n",
       "    <tr>\n",
       "      <th>97</th>\n",
       "      <td>[A dark brown bean pie with a golden edge on a tray placed on a stainless steel net.]</td>\n",
       "      <td>\"A freshly baked pie, ready to be enjoyed.\"</td>\n",
       "    </tr>\n",
       "    <tr>\n",
       "      <th>98</th>\n",
       "      <td>[a bean pie with scratches on the crispy surface which is caramel color fading from the edge to the center.]</td>\n",
       "      <td>\"A golden-brown pie crust, ready for a delicious filling.\"</td>\n",
       "    </tr>\n",
       "    <tr>\n",
       "      <th>99</th>\n",
       "      <td>[a baked pie made of beans covered with coriander put on a green plate with a floral border.]</td>\n",
       "      <td>\"A delicious, homemade pizza, freshly baked and ready to be enjoyed.\"</td>\n",
       "    </tr>\n",
       "  </tbody>\n",
       "</table>\n",
       "<p>100 rows × 2 columns</p>\n",
       "</div>"
      ],
      "text/plain": [
       "                                                                                               reference_caption  \\\n",
       "0                                 [On the wooden chopping board, there is a cut up grilled and cooked pork rib.]   \n",
       "1                                    [Many grilled pork ribs are arranged in a curiously shaped wooden cutlery.]   \n",
       "2                                               [Two grilled brown-red pork ribs on an oval white dinner plate.]   \n",
       "3                         [Three pork ribs drizzled with a rich sauce and served on a white round dinner plate.]   \n",
       "4                                                    [Raw, long, fresh pork ribs next to yellow, good potatoes.]   \n",
       "..                                                                                                           ...   \n",
       "95                                       [A golden bean pie and some pork fried soybeans on a white round plate]   \n",
       "96       [A plate of bean pie with a yellow edge and orange skin, and a napkin, a fork, and a knife next to it.]   \n",
       "97                         [A dark brown bean pie with a golden edge on a tray placed on a stainless steel net.]   \n",
       "98  [a bean pie with scratches on the crispy surface which is caramel color fading from the edge to the center.]   \n",
       "99                 [a baked pie made of beans covered with coriander put on a green plate with a floral border.]   \n",
       "\n",
       "                                                                                                        predicted_caption  \n",
       "0                                                                          \"Savoring the moment before the feast begins.\"  \n",
       "1                                                              \"Savoring the flavors of a succulent barbecue ribs feast.\"  \n",
       "2                                                         \"Savoring the smoky, savory flavor of a perfectly grilled rib.\"  \n",
       "3                                                               \"Savoring the flavors of a succulent barbecue ribs meal.\"  \n",
       "4                                       \"A hearty meal of succulent ribs, crispy potatoes, and a refreshing can of soda.\"  \n",
       "..                                                                                                                    ...  \n",
       "95  \"A hearty meal of a classic shepherd's pie, topped with a golden crust and served with a side of creamy baked beans.\"  \n",
       "96                                                                                 \"A slice of pie, ready to be savored.\"  \n",
       "97                                                                            \"A freshly baked pie, ready to be enjoyed.\"  \n",
       "98                                                             \"A golden-brown pie crust, ready for a delicious filling.\"  \n",
       "99                                                  \"A delicious, homemade pizza, freshly baked and ready to be enjoyed.\"  \n",
       "\n",
       "[100 rows x 2 columns]"
      ]
     },
     "execution_count": 32,
     "metadata": {},
     "output_type": "execute_result"
    }
   ],
   "source": [
    "df[['reference_caption', 'predicted_caption']]"
   ]
  },
  {
   "cell_type": "code",
   "execution_count": 33,
   "id": "c0f3de53",
   "metadata": {},
   "outputs": [
    {
     "name": "stdout",
     "output_type": "stream",
     "text": [
      "DataFrame saved as a list of dictionaries in /shared/data/food_data/food_annotation_with_image_captioning_result.json\n"
     ]
    }
   ],
   "source": [
    "# Save the image_captioning result\n",
    "\n",
    "# Convert DataFrame to a list of dictionaries\n",
    "list_of_dicts = df.to_dict(orient=\"records\")\n",
    "\n",
    "# Save the list of dictionaries to a JSON file\n",
    "output_file = \"/shared/data/food_data/food_annotation_with_image_captioning_result.json\"\n",
    "\n",
    "with open(output_file, \"w\") as file:\n",
    "    json.dump(list_of_dicts, file, indent=4)\n",
    "\n",
    "print(f\"DataFrame saved as a list of dictionaries in {output_file}\")"
   ]
  },
  {
   "cell_type": "markdown",
   "id": "32e19d3d",
   "metadata": {},
   "source": [
    "## Evaluate results"
   ]
  },
  {
   "cell_type": "code",
   "execution_count": 31,
   "id": "ae28d614",
   "metadata": {},
   "outputs": [],
   "source": [
    "# import libraries\n",
    "from nltk.translate.bleu_score import sentence_bleu\n",
    "from nltk.translate.meteor_score import meteor_score\n",
    "from rouge_score import rouge_scorer\n",
    "from pycocoevalcap.cider.cider import Cider\n",
    "from pycocoevalcap.spice.spice import Spice"
   ]
  },
  {
   "cell_type": "markdown",
   "id": "0104932c",
   "metadata": {},
   "source": [
    "### Multiple Choice Accuracy"
   ]
  },
  {
   "cell_type": "code",
   "execution_count": 24,
   "id": "f93141d7",
   "metadata": {},
   "outputs": [
    {
     "data": {
      "text/html": [
       "<div>\n",
       "<style scoped>\n",
       "    .dataframe tbody tr th:only-of-type {\n",
       "        vertical-align: middle;\n",
       "    }\n",
       "\n",
       "    .dataframe tbody tr th {\n",
       "        vertical-align: top;\n",
       "    }\n",
       "\n",
       "    .dataframe thead th {\n",
       "        text-align: right;\n",
       "    }\n",
       "</style>\n",
       "<table border=\"1\" class=\"dataframe\">\n",
       "  <thead>\n",
       "    <tr style=\"text-align: right;\">\n",
       "      <th></th>\n",
       "      <th>id</th>\n",
       "      <th>img_url</th>\n",
       "      <th>reference_caption</th>\n",
       "      <th>multiple_choice_solution</th>\n",
       "      <th>multiple_choice_question</th>\n",
       "      <th>multiple_choice_prediction</th>\n",
       "    </tr>\n",
       "  </thead>\n",
       "  <tbody>\n",
       "    <tr>\n",
       "      <th>0</th>\n",
       "      <td>1</td>\n",
       "      <td>/shared/data/food_data/food_images/Pork_ribs/Pork_ribs_0094.jpg</td>\n",
       "      <td>[On the wooden chopping board, there is a cut up grilled and cooked pork rib.]</td>\n",
       "      <td>A</td>\n",
       "      <td>Question: Which of the following captions best describes the painting?\\n\\nA) On the wooden chopping board, there is a cut up grilled and cooked pork rib.\\n\\nB) On the wooden cutting board, there is a raw fish and some vegetables.\\n\\nC) The wooden chopping board having a sliced beef steak on it.\\n\\nD) On the wooden table, there is a whole roasted chicken with side of greens.</td>\n",
       "      <td>A</td>\n",
       "    </tr>\n",
       "  </tbody>\n",
       "</table>\n",
       "</div>"
      ],
      "text/plain": [
       "   id                                                          img_url  \\\n",
       "0   1  /shared/data/food_data/food_images/Pork_ribs/Pork_ribs_0094.jpg   \n",
       "\n",
       "                                                                reference_caption  \\\n",
       "0  [On the wooden chopping board, there is a cut up grilled and cooked pork rib.]   \n",
       "\n",
       "  multiple_choice_solution  \\\n",
       "0                        A   \n",
       "\n",
       "                                                                                                                                                                                                                                                                                                                                                                   multiple_choice_question  \\\n",
       "0  Question: Which of the following captions best describes the painting?\\n\\nA) On the wooden chopping board, there is a cut up grilled and cooked pork rib.\\n\\nB) On the wooden cutting board, there is a raw fish and some vegetables.\\n\\nC) The wooden chopping board having a sliced beef steak on it.\\n\\nD) On the wooden table, there is a whole roasted chicken with side of greens.   \n",
       "\n",
       "  multiple_choice_prediction  \n",
       "0                          A  "
      ]
     },
     "execution_count": 24,
     "metadata": {},
     "output_type": "execute_result"
    }
   ],
   "source": [
    "# Load annotation with multiple choice question result data file\n",
    "import pandas as pd\n",
    "pd.set_option('display.max_colwidth', None)\n",
    "import json\n",
    "\n",
    "\n",
    "# Data Directory: \n",
    "food_annotation_file_path = '/shared/data/food_data/food_annotation_with_MCQ_result.json'\n",
    "\n",
    "\n",
    "# Method 1: Using pandas.read_json directly\n",
    "df = pd.read_json(food_annotation_file_path)\n",
    "\n",
    "df.head(1)"
   ]
  },
  {
   "cell_type": "code",
   "execution_count": 25,
   "id": "c32a0635",
   "metadata": {},
   "outputs": [],
   "source": [
    "def calculate_multiple_choice_question_accuracy(df):\n",
    "    # Calculate accuracy\n",
    "    accuracy = (df[\"multiple_choice_solution\"] == df[\"multiple_choice_prediction\"]).mean()\n",
    "\n",
    "    print(f\"Prediction Accuracy: {accuracy * 100:.2f}%\") \n",
    "    return accuracy"
   ]
  },
  {
   "cell_type": "code",
   "execution_count": 26,
   "id": "02acaf01",
   "metadata": {},
   "outputs": [
    {
     "name": "stdout",
     "output_type": "stream",
     "text": [
      "Prediction Accuracy: 66.00%\n"
     ]
    },
    {
     "data": {
      "text/plain": [
       "0.66"
      ]
     },
     "execution_count": 26,
     "metadata": {},
     "output_type": "execute_result"
    }
   ],
   "source": [
    "calculate_multiple_choice_question_accuracy(df)"
   ]
  },
  {
   "cell_type": "code",
   "execution_count": null,
   "id": "99ff5a1b",
   "metadata": {},
   "outputs": [],
   "source": []
  },
  {
   "cell_type": "markdown",
   "id": "62a7399c",
   "metadata": {},
   "source": [
    "### Caption Quality\n"
   ]
  },
  {
   "cell_type": "code",
   "execution_count": 34,
   "id": "01e8d555",
   "metadata": {},
   "outputs": [
    {
     "data": {
      "text/html": [
       "<div>\n",
       "<style scoped>\n",
       "    .dataframe tbody tr th:only-of-type {\n",
       "        vertical-align: middle;\n",
       "    }\n",
       "\n",
       "    .dataframe tbody tr th {\n",
       "        vertical-align: top;\n",
       "    }\n",
       "\n",
       "    .dataframe thead th {\n",
       "        text-align: right;\n",
       "    }\n",
       "</style>\n",
       "<table border=\"1\" class=\"dataframe\">\n",
       "  <thead>\n",
       "    <tr style=\"text-align: right;\">\n",
       "      <th></th>\n",
       "      <th>id</th>\n",
       "      <th>img_url</th>\n",
       "      <th>reference_caption</th>\n",
       "      <th>multiple_choice_solution</th>\n",
       "      <th>multiple_choice_question</th>\n",
       "      <th>predicted_caption</th>\n",
       "    </tr>\n",
       "  </thead>\n",
       "  <tbody>\n",
       "    <tr>\n",
       "      <th>0</th>\n",
       "      <td>1</td>\n",
       "      <td>/shared/data/food_data/food_images/Pork_ribs/Pork_ribs_0094.jpg</td>\n",
       "      <td>[On the wooden chopping board, there is a cut up grilled and cooked pork rib.]</td>\n",
       "      <td>A</td>\n",
       "      <td>Question: Which of the following captions best describes the painting?\\n\\nA) On the wooden chopping board, there is a cut up grilled and cooked pork rib.\\n\\nB) On the wooden cutting board, there is a raw fish and some vegetables.\\n\\nC) The wooden chopping board having a sliced beef steak on it.\\n\\nD) On the wooden table, there is a whole roasted chicken with side of greens.</td>\n",
       "      <td>\"Savoring the moment before the feast begins.\"</td>\n",
       "    </tr>\n",
       "  </tbody>\n",
       "</table>\n",
       "</div>"
      ],
      "text/plain": [
       "   id                                                          img_url  \\\n",
       "0   1  /shared/data/food_data/food_images/Pork_ribs/Pork_ribs_0094.jpg   \n",
       "\n",
       "                                                                reference_caption  \\\n",
       "0  [On the wooden chopping board, there is a cut up grilled and cooked pork rib.]   \n",
       "\n",
       "  multiple_choice_solution  \\\n",
       "0                        A   \n",
       "\n",
       "                                                                                                                                                                                                                                                                                                                                                                   multiple_choice_question  \\\n",
       "0  Question: Which of the following captions best describes the painting?\\n\\nA) On the wooden chopping board, there is a cut up grilled and cooked pork rib.\\n\\nB) On the wooden cutting board, there is a raw fish and some vegetables.\\n\\nC) The wooden chopping board having a sliced beef steak on it.\\n\\nD) On the wooden table, there is a whole roasted chicken with side of greens.   \n",
       "\n",
       "                                predicted_caption  \n",
       "0  \"Savoring the moment before the feast begins.\"  "
      ]
     },
     "execution_count": 34,
     "metadata": {},
     "output_type": "execute_result"
    }
   ],
   "source": [
    "# Load annotation with multiple choice question result data file\n",
    "import pandas as pd\n",
    "pd.set_option('display.max_colwidth', None)\n",
    "import json\n",
    "\n",
    "\n",
    "# Data Directory: \n",
    "food_annotation_file_path = '/shared/data/food_data/food_annotation_with_image_captioning_result.json'\n",
    "\n",
    "\n",
    "# Method 1: Using pandas.read_json directly\n",
    "df = pd.read_json(food_annotation_file_path)\n",
    "\n",
    "df.head(1)"
   ]
  },
  {
   "cell_type": "code",
   "execution_count": null,
   "id": "7823529e",
   "metadata": {},
   "outputs": [],
   "source": [
    "# BLEU"
   ]
  },
  {
   "cell_type": "code",
   "execution_count": 35,
   "id": "22eb2a56",
   "metadata": {},
   "outputs": [],
   "source": [
    "from nltk.translate.bleu_score import sentence_bleu\n",
    "\n",
    "\n",
    "# BLEU Evaluation (Average across multiple references)\n",
    "def evaluate_bleu(df):\n",
    "    bleu_scores = []\n",
    "    \n",
    "    for _, row in df.iterrows():\n",
    "        references = row['reference_caption']  # List of reference captions\n",
    "        candidate = row['predicted_caption']  # Predicted caption\n",
    "\n",
    "        # Tokenize the candidate and reference captions\n",
    "        tokenized_references = [ref.strip('\"').split() for ref in references]  # List of tokenized references\n",
    "        tokenized_candidate = candidate.strip('\"').split()  # Tokenized candidate\n",
    "\n",
    "        # Compute BLEU for all references\n",
    "        row_bleu_scores = [\n",
    "            sentence_bleu([ref], tokenized_candidate) for ref in tokenized_references\n",
    "        ]\n",
    "        \n",
    "        # Average across references\n",
    "        bleu_scores.append(sum(row_bleu_scores) / len(row_bleu_scores))\n",
    "    \n",
    "    avg_bleu = sum(bleu_scores) / len(bleu_scores)\n",
    "    print(f\"Average BLEU: {avg_bleu:.4f}\")\n",
    "    return bleu_scores"
   ]
  },
  {
   "cell_type": "code",
   "execution_count": 36,
   "id": "5ecf440c",
   "metadata": {},
   "outputs": [
    {
     "name": "stdout",
     "output_type": "stream",
     "text": [
      "Average BLEU: 0.0010\n"
     ]
    },
    {
     "name": "stderr",
     "output_type": "stream",
     "text": [
      "/opt/conda/lib/python3.10/site-packages/nltk/translate/bleu_score.py:577: UserWarning: \n",
      "The hypothesis contains 0 counts of 2-gram overlaps.\n",
      "Therefore the BLEU score evaluates to 0, independently of\n",
      "how many N-gram overlaps of lower order it contains.\n",
      "Consider using lower n-gram order or use SmoothingFunction()\n",
      "  warnings.warn(_msg)\n",
      "/opt/conda/lib/python3.10/site-packages/nltk/translate/bleu_score.py:577: UserWarning: \n",
      "The hypothesis contains 0 counts of 3-gram overlaps.\n",
      "Therefore the BLEU score evaluates to 0, independently of\n",
      "how many N-gram overlaps of lower order it contains.\n",
      "Consider using lower n-gram order or use SmoothingFunction()\n",
      "  warnings.warn(_msg)\n",
      "/opt/conda/lib/python3.10/site-packages/nltk/translate/bleu_score.py:577: UserWarning: \n",
      "The hypothesis contains 0 counts of 4-gram overlaps.\n",
      "Therefore the BLEU score evaluates to 0, independently of\n",
      "how many N-gram overlaps of lower order it contains.\n",
      "Consider using lower n-gram order or use SmoothingFunction()\n",
      "  warnings.warn(_msg)\n"
     ]
    },
    {
     "data": {
      "text/plain": [
       "[3.571883312829026e-232,\n",
       " 8.962731118674859e-232,\n",
       " 9.269981669466712e-232,\n",
       " 5.746727420065187e-232,\n",
       " 0.0,\n",
       " 1.1337861261109773e-231,\n",
       " 0.0,\n",
       " 0.0,\n",
       " 6.085166479973199e-232,\n",
       " 1.0662520804273401e-231,\n",
       " 1.268852357850863e-231,\n",
       " 5.035580399326033e-155,\n",
       " 0.0,\n",
       " 2.6616657200018397e-78,\n",
       " 6.695492068419091e-232,\n",
       " 0.0,\n",
       " 0.0,\n",
       " 5.748666558742058e-232,\n",
       " 0.0,\n",
       " 5.294085324363193e-232,\n",
       " 1.0709749285266912e-231,\n",
       " 4.491405484477833e-232,\n",
       " 1.0244914152188952e-231,\n",
       " 9.065607048138757e-232,\n",
       " 2.738929881729733e-232,\n",
       " 6.085166479973199e-232,\n",
       " 1.8423401430089077e-155,\n",
       " 4.685504009359912e-155,\n",
       " 1.3416480207402436e-231,\n",
       " 8.672642734733089e-232,\n",
       " 9.134374972545899e-232,\n",
       " 1.1896457329133973e-231,\n",
       " 1.0003688322288243e-231,\n",
       " 5.347469696085671e-155,\n",
       " 1.1896457329133973e-231,\n",
       " 0.0,\n",
       " 1.0709749285266912e-231,\n",
       " 5.554837769749797e-155,\n",
       " 0.0,\n",
       " 1.0003688322288243e-231,\n",
       " 2.5573972968570177e-155,\n",
       " 4.801280454758726e-232,\n",
       " 5.586496301804011e-232,\n",
       " 1.154647032204335e-231,\n",
       " 4.447844384793538e-155,\n",
       " 9.594503055152632e-232,\n",
       " 1.1200407237786664e-231,\n",
       " 4.930629612556808e-155,\n",
       " 1.1008876702055895e-231,\n",
       " 1.1640469867513693e-231,\n",
       " 1.1200407237786664e-231,\n",
       " 8.726094729337945e-232,\n",
       " 7.58961907326157e-232,\n",
       " 3.952279160832715e-155,\n",
       " 0.0,\n",
       " 0.0,\n",
       " 3.101024727239516e-155,\n",
       " 6.113456099502214e-155,\n",
       " 4.368048869756373e-155,\n",
       " 4.654437852936961e-232,\n",
       " 2.0140843428031594e-78,\n",
       " 1.268852357850863e-231,\n",
       " 4.3593518747857304e-155,\n",
       " 9.918892480173173e-232,\n",
       " 4.811208997101563e-155,\n",
       " 4.717068855239749e-155,\n",
       " 5.308748212294969e-155,\n",
       " 1.12925133750994e-231,\n",
       " 1.4809931627947726e-78,\n",
       " 2.77975147435408e-155,\n",
       " 2.514766346395224e-155,\n",
       " 4.3382562373312645e-155,\n",
       " 1.0356031510602797e-231,\n",
       " 0.10248656832135973,\n",
       " 2.5241848589197885e-78,\n",
       " 4.431329581760117e-155,\n",
       " 2.166832421212117e-78,\n",
       " 4.15475484660171e-155,\n",
       " 3.0333872372477996e-155,\n",
       " 8.47838036897581e-232,\n",
       " 3.0857088441767165e-232,\n",
       " 0.0,\n",
       " 2.833381309242575e-233,\n",
       " 1.692841243110689e-232,\n",
       " 8.691336740174417e-233,\n",
       " 1.355408971519012e-231,\n",
       " 3.429482526394057e-155,\n",
       " 1.1008876702055895e-231,\n",
       " 7.332960415391412e-232,\n",
       " 1.929421779987532e-232,\n",
       " 3.4625676872110776e-232,\n",
       " 4.481994719908145e-232,\n",
       " 9.424890216415306e-232,\n",
       " 1.0428282296630707e-231,\n",
       " 6.744160953836975e-232,\n",
       " 1.1896457329133973e-231,\n",
       " 2.1863213053063146e-232,\n",
       " 3.103614158540553e-232,\n",
       " 3.6846889193984664e-232,\n",
       " 5.294085324363193e-232]"
      ]
     },
     "execution_count": 36,
     "metadata": {},
     "output_type": "execute_result"
    }
   ],
   "source": [
    "evaluate_bleu(df)"
   ]
  },
  {
   "cell_type": "code",
   "execution_count": null,
   "id": "6dd5b2be",
   "metadata": {},
   "outputs": [],
   "source": []
  },
  {
   "cell_type": "code",
   "execution_count": null,
   "id": "1ff8838d",
   "metadata": {},
   "outputs": [],
   "source": [
    "# METEOR"
   ]
  },
  {
   "cell_type": "code",
   "execution_count": 65,
   "id": "1191486d",
   "metadata": {},
   "outputs": [
    {
     "name": "stderr",
     "output_type": "stream",
     "text": [
      "[nltk_data] Downloading package wordnet to /home/过隙de白驹/nltk_data...\n",
      "[nltk_data]   Package wordnet is already up-to-date!\n"
     ]
    }
   ],
   "source": [
    "import nltk\n",
    "nltk.download('wordnet')\n",
    "from nltk.translate.meteor_score import meteor_score\n",
    "\n",
    "# METEOR Evaluation (Average across multiple references)\n",
    "def evaluate_meteor(df):\n",
    "    meteor_scores = []\n",
    "    \n",
    "    for _, row in df.iterrows():\n",
    "        references = row['reference_caption']  # List of reference captions\n",
    "        candidate = row['predicted_caption'].strip('\"')  # Predicted caption (raw string)\n",
    "\n",
    "        # Compute METEOR for all references\n",
    "        row_meteor_scores = [\n",
    "            meteor_score([[ref]], [candidate]) for ref in references\n",
    "        ]\n",
    "        \n",
    "        # Average across references\n",
    "        meteor_scores.append(sum(row_meteor_scores) / len(row_meteor_scores))\n",
    "    \n",
    "    avg_meteor = sum(meteor_scores) / len(meteor_scores)\n",
    "    print(f\"Average METEOR: {avg_meteor:.4f}\")\n",
    "    return meteor_scores\n"
   ]
  },
  {
   "cell_type": "code",
   "execution_count": 66,
   "id": "ef6f6412",
   "metadata": {},
   "outputs": [
    {
     "name": "stdout",
     "output_type": "stream",
     "text": [
      "Average METEOR: 0.0000\n"
     ]
    },
    {
     "data": {
      "text/plain": [
       "[0.0, 0.0, 0.0]"
      ]
     },
     "execution_count": 66,
     "metadata": {},
     "output_type": "execute_result"
    }
   ],
   "source": [
    "evaluate_meteor(df)"
   ]
  },
  {
   "cell_type": "code",
   "execution_count": null,
   "id": "8da9438e",
   "metadata": {},
   "outputs": [],
   "source": []
  },
  {
   "cell_type": "code",
   "execution_count": null,
   "id": "7832462e",
   "metadata": {},
   "outputs": [],
   "source": [
    "# ROUGE"
   ]
  },
  {
   "cell_type": "code",
   "execution_count": 67,
   "id": "9946f02e",
   "metadata": {},
   "outputs": [],
   "source": [
    "# ROUGE Evaluation (Average across multiple references)\n",
    "def evaluate_rouge(df):\n",
    "    rouge1_scores, rouge2_scores, rougeL_scores = [], [], []\n",
    "    scorer = rouge_scorer.RougeScorer(['rouge1', 'rouge2', 'rougeL'], use_stemmer=True)\n",
    "    \n",
    "    for _, row in df.iterrows():\n",
    "        references = row['reference_caption']  # List of reference captions\n",
    "        candidate = row['predicted_caption']  # Predicted caption\n",
    "        \n",
    "        # Compute ROUGE scores for all references\n",
    "        row_rouge1_scores, row_rouge2_scores, row_rougeL_scores = [], [], []\n",
    "        for ref in references:\n",
    "            scores = scorer.score(ref, candidate.strip('\"'))\n",
    "            row_rouge1_scores.append(scores['rouge1'].fmeasure)\n",
    "            row_rouge2_scores.append(scores['rouge2'].fmeasure)\n",
    "            row_rougeL_scores.append(scores['rougeL'].fmeasure)\n",
    "        \n",
    "        # Average across references\n",
    "        rouge1_scores.append(sum(row_rouge1_scores) / len(row_rouge1_scores))\n",
    "        rouge2_scores.append(sum(row_rouge2_scores) / len(row_rouge2_scores))\n",
    "        rougeL_scores.append(sum(row_rougeL_scores) / len(row_rougeL_scores))\n",
    "    \n",
    "    avg_rouge1 = sum(rouge1_scores) / len(rouge1_scores)\n",
    "    avg_rouge2 = sum(rouge2_scores) / len(rouge2_scores)\n",
    "    avg_rougeL = sum(rougeL_scores) / len(rougeL_scores)\n",
    "    \n",
    "    print(f\"Average ROUGE-1: {avg_rouge1:.4f}\")\n",
    "    print(f\"Average ROUGE-2: {avg_rouge2:.4f}\")\n",
    "    print(f\"Average ROUGE-L: {avg_rougeL:.4f}\")\n",
    "    return rouge1_scores, rouge2_scores, rougeL_scores"
   ]
  },
  {
   "cell_type": "code",
   "execution_count": 68,
   "id": "e707a720",
   "metadata": {},
   "outputs": [
    {
     "name": "stdout",
     "output_type": "stream",
     "text": [
      "Average ROUGE-1: 0.4267\n",
      "Average ROUGE-2: 0.1000\n",
      "Average ROUGE-L: 0.3457\n"
     ]
    },
    {
     "data": {
      "text/plain": [
       "([0.3157894736842105, 0.5714285714285714, 0.3928571428571428],\n",
       " [0.0, 0.3, 0.0],\n",
       " [0.2631578947368421, 0.5238095238095238, 0.25])"
      ]
     },
     "execution_count": 68,
     "metadata": {},
     "output_type": "execute_result"
    }
   ],
   "source": [
    "evaluate_rouge(df)"
   ]
  },
  {
   "cell_type": "code",
   "execution_count": null,
   "id": "7069d07e",
   "metadata": {},
   "outputs": [],
   "source": []
  },
  {
   "cell_type": "code",
   "execution_count": null,
   "id": "d676601a",
   "metadata": {},
   "outputs": [],
   "source": [
    "# CIDEr and SPICE (unchanged, since they handle multiple references internally)"
   ]
  },
  {
   "cell_type": "code",
   "execution_count": 69,
   "id": "f9a9ca45",
   "metadata": {},
   "outputs": [],
   "source": [
    "def evaluate_cider(df):\n",
    "    ref_dict = {str(idx): row['reference_caption'] for idx, row in df.iterrows()}\n",
    "    cand_dict = {str(idx): [row['predicted_caption']] for idx, row in df.iterrows()}\n",
    "    \n",
    "    cider_scorer = Cider()\n",
    "    score, _ = cider_scorer.compute_score(ref_dict, cand_dict)\n",
    "    print(f\"Average CIDEr: {score:.4f}\")\n",
    "    return score"
   ]
  },
  {
   "cell_type": "code",
   "execution_count": 70,
   "id": "ab777ce9",
   "metadata": {},
   "outputs": [
    {
     "name": "stdout",
     "output_type": "stream",
     "text": [
      "Average CIDEr: 0.7787\n"
     ]
    },
    {
     "data": {
      "text/plain": [
       "0.7786648935891062"
      ]
     },
     "execution_count": 70,
     "metadata": {},
     "output_type": "execute_result"
    }
   ],
   "source": [
    "evaluate_cider(df)"
   ]
  },
  {
   "cell_type": "code",
   "execution_count": null,
   "id": "6618198b",
   "metadata": {},
   "outputs": [],
   "source": []
  },
  {
   "cell_type": "code",
   "execution_count": 71,
   "id": "3466d189",
   "metadata": {},
   "outputs": [],
   "source": [
    "def evaluate_spice(df):\n",
    "    ref_dict = {str(idx): row['reference_caption'] for idx, row in df.iterrows()}\n",
    "    cand_dict = {str(idx): [row['predicted_caption']] for idx, row in df.iterrows()}\n",
    "    \n",
    "    spice_scorer = Spice()\n",
    "    score, _ = spice_scorer.compute_score(ref_dict, cand_dict)\n",
    "    print(f\"Average SPICE: {score:.4f}\")\n",
    "    return score"
   ]
  },
  {
   "cell_type": "code",
   "execution_count": 73,
   "id": "db09381b",
   "metadata": {},
   "outputs": [
    {
     "name": "stderr",
     "output_type": "stream",
     "text": [
      "WARNING: An illegal reflective access operation has occurred\n",
      "WARNING: Illegal reflective access by org.nustaq.serialization.FSTClazzInfo (file:/opt/conda/lib/python3.10/site-packages/pycocoevalcap/spice/lib/fst-2.47.jar) to field java.lang.String.value\n",
      "WARNING: Please consider reporting this to the maintainers of org.nustaq.serialization.FSTClazzInfo\n",
      "WARNING: Use --illegal-access=warn to enable warnings of further illegal reflective access operations\n",
      "WARNING: All illegal access operations will be denied in a future release\n",
      "Parsing reference captions\n",
      "Initiating Stanford parsing pipeline\n",
      "[main] INFO edu.stanford.nlp.pipeline.StanfordCoreNLP - Adding annotator tokenize\n",
      "[main] INFO edu.stanford.nlp.pipeline.TokenizerAnnotator - TokenizerAnnotator: No tokenizer type provided. Defaulting to PTBTokenizer.\n",
      "[main] INFO edu.stanford.nlp.pipeline.StanfordCoreNLP - Adding annotator ssplit\n",
      "[main] INFO edu.stanford.nlp.pipeline.StanfordCoreNLP - Adding annotator parse\n",
      "[main] INFO edu.stanford.nlp.parser.common.ParserGrammar - Loading parser from serialized file edu/stanford/nlp/models/lexparser/englishPCFG.ser.gz ... \n",
      "done [0.9 sec].\n",
      "[main] INFO edu.stanford.nlp.pipeline.StanfordCoreNLP - Adding annotator lemma\n",
      "[main] INFO edu.stanford.nlp.pipeline.StanfordCoreNLP - Adding annotator ner\n",
      "Loading classifier from edu/stanford/nlp/models/ner/english.all.3class.distsim.crf.ser.gz ... done [1.8 sec].\n",
      "Loading classifier from edu/stanford/nlp/models/ner/english.muc.7class.distsim.crf.ser.gz ... done [1.0 sec].\n",
      "Loading classifier from edu/stanford/nlp/models/ner/english.conll.4class.distsim.crf.ser.gz ... done [0.8 sec].\n",
      "Threads( StanfordCoreNLP ) [2.890 seconds]\n",
      "Parsing test captions\n",
      "Threads( StanfordCoreNLP ) [1.995 seconds]\n",
      "Warning: Nashorn engine is planned to be removed from a future JDK release\n"
     ]
    },
    {
     "name": "stdout",
     "output_type": "stream",
     "text": [
      "SPICE evaluation took: 12.85 s\n",
      "Average SPICE: 0.2341\n"
     ]
    },
    {
     "data": {
      "text/plain": [
       "0.23411371237458198"
      ]
     },
     "execution_count": 73,
     "metadata": {},
     "output_type": "execute_result"
    }
   ],
   "source": [
    "evaluate_spice(df)"
   ]
  },
  {
   "cell_type": "code",
   "execution_count": null,
   "id": "b1614075",
   "metadata": {},
   "outputs": [],
   "source": []
  }
 ],
 "metadata": {
  "kernelspec": {
   "display_name": "Python 3",
   "language": "python",
   "name": "python3"
  },
  "language_info": {
   "codemirror_mode": {
    "name": "ipython",
    "version": 3
   },
   "file_extension": ".py",
   "mimetype": "text/x-python",
   "name": "python",
   "nbconvert_exporter": "python",
   "pygments_lexer": "ipython3",
   "version": "3.10.15"
  }
 },
 "nbformat": 4,
 "nbformat_minor": 5
}
