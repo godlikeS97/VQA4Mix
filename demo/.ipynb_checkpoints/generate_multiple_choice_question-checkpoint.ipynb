{
 "cells": [
  {
   "cell_type": "code",
   "execution_count": null,
   "id": "f8bde81c",
   "metadata": {},
   "outputs": [],
   "source": [
    "import os\n",
    "print(os.getenv(\"OPENAI_API_KEY\"))"
   ]
  },
  {
   "cell_type": "code",
   "execution_count": 35,
   "id": "bd83ce27",
   "metadata": {},
   "outputs": [],
   "source": [
    "from openai import OpenAI\n",
    "client = OpenAI(\n",
    "    api_key=os.environ.get(\"OPENAI_API_KEY\"),  \n",
    ")\n",
    "\n",
    "def generate_multiple_choice_question(reference_caption, correct_choice): \n",
    "    # Define the prompt to generate inferior choices\n",
    "    prompt = f\"\"\"\n",
    "    The ground truth caption is:\n",
    "    \"{reference_caption}\"\n",
    "\n",
    "    Generate three inferior captions that include either inaccurate details, or are non-fluent with syntactic errors. \n",
    "    Format the result as a multiple-choice question. The correct choice should be placed at choice \"{correct_choice}\". \n",
    "    Ensure the incorrect choices are realistic but clearly wrong.\n",
    "    \"\"\"\n",
    "\n",
    "    response = client.chat.completions.create(\n",
    "        model=\"gpt-4o\",\n",
    "        messages=[\n",
    "            {\"role\": \"system\", \"content\": \"You are a helpful assistant.\"},\n",
    "            {\"role\": \"user\", \"content\": prompt},\n",
    "        ],\n",
    "        temperature=0.7,\n",
    "        max_tokens=200,\n",
    "    )\n",
    "\n",
    "    # Extract the generated multiple-choice question\n",
    "    question = response.choices[0].message.content    \n",
    "    \n",
    "    return question\n",
    "\n",
    "\n"
   ]
  },
  {
   "cell_type": "code",
   "execution_count": 37,
   "id": "809fa2bd",
   "metadata": {},
   "outputs": [
    {
     "name": "stdout",
     "output_type": "stream",
     "text": [
      "Which of the following captions is the most accurate description of the image?\n",
      "\n",
      "A) \"A modern blue Volkswagen Beetle parked on a dirt road next to a brick red wall with one metal door.\"\n",
      "\n",
      "B) \"A vintage mint green Volkswagen Beetle parked on a cobblestone street in front of a pastel yellow wall with two wooden doors and a white stone border.\"\n",
      "\n",
      "C) \"An old red Volkswagen parked on a gravel driveway beside a grey wall with three wooden windows.\"\n",
      "\n",
      "D) \"A classic green VW parked on a cobblestone street front of a pastel yellow wall with two doors and a stone border.\"\n"
     ]
    }
   ],
   "source": [
    "# Define the ground truth caption\n",
    "reference_caption = \"A vintage mint green Volkswagen Beetle parked on a cobblestone street in front of a pastel yellow wall with two wooden doors and a white stone border.\"\n",
    "correct_choice = 'B'\n",
    "\n",
    "question = generate_multiple_choice_question(reference_caption, correct_choice)\n",
    "print(question)"
   ]
  },
  {
   "cell_type": "code",
   "execution_count": null,
   "id": "f516604d",
   "metadata": {},
   "outputs": [],
   "source": []
  }
 ],
 "metadata": {
  "kernelspec": {
   "display_name": "Python 3",
   "language": "python",
   "name": "python3"
  },
  "language_info": {
   "codemirror_mode": {
    "name": "ipython",
    "version": 3
   },
   "file_extension": ".py",
   "mimetype": "text/x-python",
   "name": "python",
   "nbconvert_exporter": "python",
   "pygments_lexer": "ipython3",
   "version": "3.10.15"
  }
 },
 "nbformat": 4,
 "nbformat_minor": 5
}
