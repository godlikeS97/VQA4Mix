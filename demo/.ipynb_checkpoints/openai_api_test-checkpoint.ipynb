{
 "cells": [
  {
   "cell_type": "code",
   "execution_count": null,
   "id": "f272434b",
   "metadata": {},
   "outputs": [],
   "source": [
    "import os\n",
    "print(os.getenv(\"OPENAI_API_KEY\"))"
   ]
  },
  {
   "cell_type": "code",
   "execution_count": 2,
   "id": "2823f3af",
   "metadata": {},
   "outputs": [
    {
     "name": "stdout",
     "output_type": "stream",
     "text": [
      "ChatCompletionMessage(content='Machine learning is a subset of artificial intelligence (AI) that focuses on the development of algorithms and statistical models that enable computers to learn from and make predictions or decisions based on data. Instead of being explicitly programmed to perform a task, a machine learning system is designed to improve its performance on that task as it is exposed to more data over time.\\n\\nHere are some key concepts related to machine learning:\\n\\n1. **Types of Learning**:\\n   - **Supervised Learning**: The model is trained on a labeled dataset, where the input data is paired with the correct output. The model learns to map inputs to outputs based on this training data (e.g., classification, regression).\\n   - **Unsupervised Learning**: The model is trained on data without labeled outputs. It attempts to find patterns or groupings in the data (e.g., clustering, dimensionality reduction).\\n   - **Reinforcement Learning**: The model learns by interacting with an environment and receiving feedback in the form of rewards or penalties. It learns to take actions that maximize cumulative rewards.\\n\\n2. **Common Algorithms**:\\n   - Linear regression, logistic regression, decision trees, support vector machines, neural networks, k-means clustering, and random forests, among others.\\n\\n3. **Applications**:\\n   - Machine learning is applied in various fields, including image and speech recognition, natural language processing, recommendation systems, fraud detection, autonomous vehicles, and more.\\n\\n4. **Training and Testing**:\\n   - Typically, the data is divided into a training set (used to train the model) and a test set (used to evaluate its performance). It is important to assess how well the model generalizes to unseen data.\\n\\n5. **Evaluation Metrics**:\\n   - Different metrics are used to evaluate model performance, such as accuracy, precision, recall, F1 score, mean squared error, and ROC-AUC, depending on the type of machine learning task.\\n\\nMachine learning leverages statistical methods to analyze and interpret complex data, enabling machines to learn from experience without human intervention, which has led to significant advancements in technology and data analysis in recent years.', refusal=None, role='assistant', audio=None, function_call=None, tool_calls=None)\n"
     ]
    }
   ],
   "source": [
    "\n",
    "from openai import OpenAI\n",
    "client = OpenAI(\n",
    "    api_key=os.environ.get(\"OPENAI_API_KEY\"),  # This is the default and can be omitted\n",
    ")\n",
    "\n",
    "completion = client.chat.completions.create(\n",
    "    model=\"gpt-4o-mini\",\n",
    "    messages=[\n",
    "        {\"role\": \"system\", \"content\": \"You are a helpful assistant.\"},\n",
    "        {\n",
    "            \"role\": \"user\",\n",
    "            \"content\": \"What is machine learning\"\n",
    "        }\n",
    "    ]\n",
    ")\n",
    "\n",
    "print(completion.choices[0].message)"
   ]
  },
  {
   "cell_type": "code",
   "execution_count": null,
   "id": "fb614e2e",
   "metadata": {},
   "outputs": [],
   "source": []
  }
 ],
 "metadata": {
  "kernelspec": {
   "display_name": "Python 3",
   "language": "python",
   "name": "python3"
  },
  "language_info": {
   "codemirror_mode": {
    "name": "ipython",
    "version": 3
   },
   "file_extension": ".py",
   "mimetype": "text/x-python",
   "name": "python",
   "nbconvert_exporter": "python",
   "pygments_lexer": "ipython3",
   "version": "3.10.15"
  }
 },
 "nbformat": 4,
 "nbformat_minor": 5
}
