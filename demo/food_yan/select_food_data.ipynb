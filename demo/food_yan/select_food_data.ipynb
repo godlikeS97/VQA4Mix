{
 "cells": [
  {
   "cell_type": "code",
   "execution_count": 1,
   "id": "483158db",
   "metadata": {},
   "outputs": [],
   "source": []
  },
  {
   "cell_type": "code",
   "execution_count": 6,
   "id": "93fad577",
   "metadata": {},
   "outputs": [],
   "source": [
    "# Specify the file path\n",
    "file_path = './Food500-Cap-main/evaluation_data.json'\n",
    "\n",
    "# Open and read the JSON file\n",
    "with open(file_path, 'r') as file:\n",
    "    data = json.load(file)\n"
   ]
  },
  {
   "cell_type": "code",
   "execution_count": 7,
   "id": "a84fce5c",
   "metadata": {},
   "outputs": [
    {
     "name": "stdout",
     "output_type": "stream",
     "text": [
      "<class 'list'>\n"
     ]
    }
   ],
   "source": [
    "print(type(data))"
   ]
  },
  {
   "cell_type": "code",
   "execution_count": 8,
   "id": "605a0c13",
   "metadata": {},
   "outputs": [
    {
     "name": "stdout",
     "output_type": "stream",
     "text": [
      "4940\n"
     ]
    }
   ],
   "source": [
    "print(len(data))"
   ]
  },
  {
   "cell_type": "code",
   "execution_count": 9,
   "id": "d74b72bd",
   "metadata": {},
   "outputs": [
    {
     "name": "stdout",
     "output_type": "stream",
     "text": [
      "{'cat': 'Abalone', 'filename': 'Abalone/Abalone_0081.jpg', 'caption': 'Freshly cleaned abalones with shells placed on the crushed ice on a white plate.'}\n"
     ]
    }
   ],
   "source": [
    "print(data[0])"
   ]
  },
  {
   "cell_type": "code",
   "execution_count": 12,
   "id": "0b103052",
   "metadata": {},
   "outputs": [
    {
     "name": "stdout",
     "output_type": "stream",
     "text": [
      "494\n"
     ]
    }
   ],
   "source": [
    "# Extract unique categories\n",
    "categories = {item['cat'] for item in data}\n",
    "\n",
    "# Display the set of categories\n",
    "# print(f\"Unique categories: {categories}\")\n",
    "print(len(categories))"
   ]
  },
  {
   "cell_type": "code",
   "execution_count": 16,
   "id": "e5f1292c",
   "metadata": {},
   "outputs": [
    {
     "name": "stderr",
     "output_type": "stream",
     "text": [
      "C:\\Users\\GODLIK~1\\AppData\\Local\\Temp/ipykernel_23900/3736200844.py:2: DeprecationWarning: Sampling from a set deprecated\n",
      "since Python 3.9 and will be removed in a subsequent version.\n",
      "  selected_categories = random.sample(categories, 10)\n"
     ]
    },
    {
     "data": {
      "text/plain": [
       "['Pork_ribs',\n",
       " 'Beignet',\n",
       " 'Hae_mee',\n",
       " 'Botifarra',\n",
       " 'Rice_cakes',\n",
       " 'Onigiri',\n",
       " 'Lemon_meringue_pie',\n",
       " 'White_cut_chicken',\n",
       " 'Greek_salad',\n",
       " 'Bean_pie']"
      ]
     },
     "execution_count": 16,
     "metadata": {},
     "output_type": "execute_result"
    }
   ],
   "source": [
    "import random\n",
    "selected_categories = random.sample(categories, 10)\n",
    "selected_categories"
   ]
  },
  {
   "cell_type": "code",
   "execution_count": 23,
   "id": "f89063ec",
   "metadata": {},
   "outputs": [
    {
     "name": "stdout",
     "output_type": "stream",
     "text": [
      "Selected 100 entries across 10 categories:\n"
     ]
    }
   ],
   "source": [
    "from collections import defaultdict\n",
    "\n",
    "# Group the original data by category\n",
    "category_groups = defaultdict(list)\n",
    "for item in data:\n",
    "    category_groups[item['cat']].append(item)\n",
    "\n",
    "# Select 20 entries for each category in the selected categories\n",
    "final_selection = []\n",
    "for category in selected_categories:\n",
    "    if len(category_groups[category]) >= 10:\n",
    "        # Randomly sample 10 items from this category\n",
    "        final_selection.extend(random.sample(category_groups[category], 10))\n",
    "\n",
    "# Display the results\n",
    "print(f\"Selected {len(final_selection)} entries across {len(selected_categories)} categories:\")"
   ]
  },
  {
   "cell_type": "code",
   "execution_count": 24,
   "id": "8867e1a1",
   "metadata": {},
   "outputs": [
    {
     "data": {
      "text/plain": [
       "{'cat': 'Pork_ribs',\n",
       " 'filename': 'Pork_ribs/Pork_ribs_0094.jpg',\n",
       " 'caption': 'On the wooden chopping board, there is a cut up grilled and cooked pork rib.'}"
      ]
     },
     "execution_count": 24,
     "metadata": {},
     "output_type": "execute_result"
    }
   ],
   "source": [
    "final_selection[0]"
   ]
  },
  {
   "cell_type": "code",
   "execution_count": null,
   "id": "30b8eb75",
   "metadata": {},
   "outputs": [],
   "source": []
  },
  {
   "cell_type": "code",
   "execution_count": null,
   "id": "fc3a779f",
   "metadata": {},
   "outputs": [],
   "source": []
  },
  {
   "cell_type": "code",
   "execution_count": null,
   "id": "25b7ae52",
   "metadata": {},
   "outputs": [],
   "source": []
  },
  {
   "cell_type": "code",
   "execution_count": 25,
   "id": "b2e1832d",
   "metadata": {},
   "outputs": [],
   "source": [
    "# Save the selected entries to a JSON file\n",
    "output_file = \"selected_entries.json\"\n",
    "with open(output_file, \"w\") as f:\n",
    "    json.dump(final_selection, f, indent=4)"
   ]
  },
  {
   "cell_type": "code",
   "execution_count": 26,
   "id": "2f6b202b",
   "metadata": {},
   "outputs": [],
   "source": [
    "# Specify the file path\n",
    "file_path = './selected_entries.json'\n",
    "\n",
    "# Open and read the JSON file\n",
    "with open(file_path, 'r') as file:\n",
    "    selected_data = json.load(file)"
   ]
  },
  {
   "cell_type": "code",
   "execution_count": 27,
   "id": "68ae44c9",
   "metadata": {},
   "outputs": [
    {
     "data": {
      "text/plain": [
       "100"
      ]
     },
     "execution_count": 27,
     "metadata": {},
     "output_type": "execute_result"
    }
   ],
   "source": [
    "len(selected_data)"
   ]
  },
  {
   "cell_type": "code",
   "execution_count": 28,
   "id": "d492fff1",
   "metadata": {},
   "outputs": [
    {
     "data": {
      "text/plain": [
       "{'cat': 'Pork_ribs',\n",
       " 'filename': 'Pork_ribs/Pork_ribs_0094.jpg',\n",
       " 'caption': 'On the wooden chopping board, there is a cut up grilled and cooked pork rib.'}"
      ]
     },
     "execution_count": 28,
     "metadata": {},
     "output_type": "execute_result"
    }
   ],
   "source": [
    "selected_data[0]"
   ]
  },
  {
   "cell_type": "code",
   "execution_count": 35,
   "id": "d8911d4f",
   "metadata": {},
   "outputs": [],
   "source": [
    "from collections import defaultdict\n",
    "\n",
    "# Group the original data by category\n",
    "category_groups = defaultdict(list)\n",
    "for item in data:\n",
    "    category_groups[item['cat']].append(item)"
   ]
  },
  {
   "cell_type": "code",
   "execution_count": 41,
   "id": "2b3a6fef",
   "metadata": {},
   "outputs": [
    {
     "data": {
      "text/plain": [
       "[{'cat': 'Greek_salad',\n",
       "  'filename': 'Greek_salad/Greek_salad_0081.jpg',\n",
       "  'caption': 'Mixed-colored Greek salad made with quartered tomatoes, green pepper slices, olives, and red onion slices, topped with feta cheese, flavored with oregano and olive oil.'},\n",
       " {'cat': 'Greek_salad',\n",
       "  'filename': 'Greek_salad/Greek_salad_0082.jpg',\n",
       "  'caption': 'A top view of Greek salad with fresh lettuce, chunky slices of tomato and cheese cubes.'},\n",
       " {'cat': 'Greek_salad',\n",
       "  'filename': 'Greek_salad/Greek_salad_0084.jpg',\n",
       "  'caption': 'Freshly-made Greek salad with cherry tomato halves, chunky cucumber slices, cheese cubes, and cooked quinoa.'},\n",
       " {'cat': 'Greek_salad',\n",
       "  'filename': 'Greek_salad/Greek_salad_0085.jpg',\n",
       "  'caption': 'Fresh Greek salad made with quartered tomatoes, sliced red onions, cheese cubes, and black olives, garnished with chopped basil leaves on top.'},\n",
       " {'cat': 'Greek_salad',\n",
       "  'filename': 'Greek_salad/Greek_salad_0087.jpg',\n",
       "  'caption': 'A large bowl of Greek salad with quartered tomatoes, chunky sliced cucumber, black olive halves, red onion slices, and feta cheese.'},\n",
       " {'cat': 'Greek_salad',\n",
       "  'filename': 'Greek_salad/Greek_salad_0091.jpg',\n",
       "  'caption': 'A plate of greek salad, that is made of some peeled cucumber cubes, some cherry tomatoes cut in half, some shredded onion and pimiento, black olives, and some feta cheese. and some chicken fillet, griddle cake, and a bowl of yogurt next to them.'},\n",
       " {'cat': 'Greek_salad',\n",
       "  'filename': 'Greek_salad/Greek_salad_0093.jpg',\n",
       "  'caption': 'Some feta cheese with some black olives cubes, onion cubes, sweet pepper cubes, and some finely sliced lettuce made into a greek salad. And a plate of dried fruit fillet next to them.'},\n",
       " {'cat': 'Greek_salad',\n",
       "  'filename': 'Greek_salad/Greek_salad_0094.jpg',\n",
       "  'caption': 'A serve of greek salad containing some cucumber cubes, pimiento cubes, black olives, onions, cherry tomatoes, feta cheese, and some chopped parsley'},\n",
       " {'cat': 'Greek_salad',\n",
       "  'filename': 'Greek_salad/Greek_salad_0095.jpg',\n",
       "  'caption': 'A bowl of greek salad, that is made of some tomato cubes, pimiento cubes, black olives, grapes, onions, feta cheese, parsley, and some lettuce'},\n",
       " {'cat': 'Greek_salad',\n",
       "  'filename': 'Greek_salad/Greek_salad_0097.jpg',\n",
       "  'caption': 'A serving of greek salad on a white plate, contains some cut lettuce, cucumber cubes, black olives, onions, cherry tomatoes, feta cheese, and some black pepper powder'}]"
      ]
     },
     "execution_count": 41,
     "metadata": {},
     "output_type": "execute_result"
    }
   ],
   "source": [
    "category_groups['Greek_salad']"
   ]
  },
  {
   "cell_type": "code",
   "execution_count": null,
   "id": "cf8e3c1b",
   "metadata": {},
   "outputs": [],
   "source": []
  },
  {
   "cell_type": "code",
   "execution_count": 47,
   "id": "8173fa2b",
   "metadata": {},
   "outputs": [
    {
     "name": "stdout",
     "output_type": "stream",
     "text": [
      "Copied: White_cut_chicken_0081.jpg to E:\\ChromeDownloads\\Food500_Cap_Selected_Images_Res\\White_cut_chicken\n",
      "Copied: White_cut_chicken_0082.jpg to E:\\ChromeDownloads\\Food500_Cap_Selected_Images_Res\\White_cut_chicken\n",
      "Copied: White_cut_chicken_0084.jpg to E:\\ChromeDownloads\\Food500_Cap_Selected_Images_Res\\White_cut_chicken\n",
      "Copied: White_cut_chicken_0087.jpg to E:\\ChromeDownloads\\Food500_Cap_Selected_Images_Res\\White_cut_chicken\n",
      "Copied: White_cut_chicken_0090.jpg to E:\\ChromeDownloads\\Food500_Cap_Selected_Images_Res\\White_cut_chicken\n",
      "Copied: White_cut_chicken_0091.jpg to E:\\ChromeDownloads\\Food500_Cap_Selected_Images_Res\\White_cut_chicken\n",
      "Copied: White_cut_chicken_0093.jpg to E:\\ChromeDownloads\\Food500_Cap_Selected_Images_Res\\White_cut_chicken\n",
      "Copied: White_cut_chicken_0094.jpg to E:\\ChromeDownloads\\Food500_Cap_Selected_Images_Res\\White_cut_chicken\n",
      "Copied: White_cut_chicken_0096.jpg to E:\\ChromeDownloads\\Food500_Cap_Selected_Images_Res\\White_cut_chicken\n",
      "Copied: White_cut_chicken_0100.jpg to E:\\ChromeDownloads\\Food500_Cap_Selected_Images_Res\\White_cut_chicken\n"
     ]
    }
   ],
   "source": [
    "import os\n",
    "import shutil\n",
    "\n",
    "# Define the list of dictionaries\n",
    "file_info = selected_data\n",
    "\n",
    "# # Define folders\n",
    "# source_folder = './Food500_Cap_Selected_Images/Bean_pie'  # Replace with the path to the folder with .jpg files\n",
    "# destination_folder = './Food500_Cap_Selected_Images_Res/Bean_pie'  # Replace with the path to the target folder\n",
    "\n",
    "\n",
    "# Define folders\n",
    "source_folder = r'E:\\ChromeDownloads\\Food500_Cap_Selected_Images\\White_cut_chicken'  # Replace with the path to your source folder\n",
    "destination_folder = r'E:\\ChromeDownloads\\Food500_Cap_Selected_Images_Res\\White_cut_chicken'  # Replace with the path to your destination folder\n",
    "\n",
    "# Ensure the destination folder exists\n",
    "os.makedirs(destination_folder, exist_ok=True)\n",
    "\n",
    "# Get the filenames from the list of dictionaries\n",
    "file_names_to_copy = {os.path.basename(entry['filename']) for entry in file_info}\n",
    "\n",
    "# Iterate through the source folder and filter files\n",
    "for root, dirs, files in os.walk(source_folder):\n",
    "    for file in files:\n",
    "        # Check if the file matches one in the list\n",
    "        if file in file_names_to_copy:\n",
    "            source_path = os.path.join(root, file)\n",
    "            dest_path = os.path.join(destination_folder, file)\n",
    "\n",
    "            # Copy the file\n",
    "            shutil.copy2(source_path, dest_path)\n",
    "            print(f\"Copied: {file} to {destination_folder}\")\n"
   ]
  },
  {
   "cell_type": "code",
   "execution_count": null,
   "id": "405c90a8",
   "metadata": {},
   "outputs": [],
   "source": []
  },
  {
   "cell_type": "code",
   "execution_count": null,
   "id": "35fe1052",
   "metadata": {},
   "outputs": [],
   "source": []
  },
  {
   "cell_type": "code",
   "execution_count": null,
   "id": "d0fb7065",
   "metadata": {},
   "outputs": [],
   "source": []
  }
 ],
 "metadata": {
  "kernelspec": {
   "display_name": "Python 3",
   "language": "python",
   "name": "python3"
  },
  "language_info": {
   "codemirror_mode": {
    "name": "ipython",
    "version": 3
   },
   "file_extension": ".py",
   "mimetype": "text/x-python",
   "name": "python",
   "nbconvert_exporter": "python",
   "pygments_lexer": "ipython3",
   "version": "3.10.15"
  }
 },
 "nbformat": 4,
 "nbformat_minor": 5
}
