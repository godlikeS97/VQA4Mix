{
 "cells": [
  {
   "cell_type": "code",
   "execution_count": 8,
   "id": "6e510e13",
   "metadata": {},
   "outputs": [
    {
     "name": "stdout",
     "output_type": "stream",
     "text": [
      "<class 'list'>\n"
     ]
    }
   ],
   "source": [
    "import json\n",
    "import pandas as pd\n",
    "pd.set_option('display.max_colwidth', None)\n",
    "\n",
    "# Specify the path to your JSON file\n",
    "file_path = '/shared/data/food_data/food_annotation.json'\n",
    "\n",
    "# Read the JSON file\n",
    "with open(file_path, 'r') as json_file:\n",
    "    data = json.load(json_file)\n",
    "\n",
    "# Print the content of the JSON file\n",
    "print(type(data))"
   ]
  },
  {
   "cell_type": "code",
   "execution_count": 2,
   "id": "8c9702b9",
   "metadata": {},
   "outputs": [
    {
     "name": "stdout",
     "output_type": "stream",
     "text": [
      "100\n"
     ]
    }
   ],
   "source": [
    "print(len(data))"
   ]
  },
  {
   "cell_type": "code",
   "execution_count": 3,
   "id": "ad20d3bb",
   "metadata": {},
   "outputs": [
    {
     "name": "stdout",
     "output_type": "stream",
     "text": [
      "{'cat': 'Pork_ribs', 'filename': 'Pork_ribs/Pork_ribs_0094.jpg', 'caption': 'On the wooden chopping board, there is a cut up grilled and cooked pork rib.'}\n"
     ]
    }
   ],
   "source": [
    "print(data[0])"
   ]
  },
  {
   "cell_type": "code",
   "execution_count": 4,
   "id": "05571d97",
   "metadata": {},
   "outputs": [
    {
     "data": {
      "text/html": [
       "<div>\n",
       "<style scoped>\n",
       "    .dataframe tbody tr th:only-of-type {\n",
       "        vertical-align: middle;\n",
       "    }\n",
       "\n",
       "    .dataframe tbody tr th {\n",
       "        vertical-align: top;\n",
       "    }\n",
       "\n",
       "    .dataframe thead th {\n",
       "        text-align: right;\n",
       "    }\n",
       "</style>\n",
       "<table border=\"1\" class=\"dataframe\">\n",
       "  <thead>\n",
       "    <tr style=\"text-align: right;\">\n",
       "      <th></th>\n",
       "      <th>id</th>\n",
       "      <th>img_url</th>\n",
       "      <th>reference_caption</th>\n",
       "    </tr>\n",
       "  </thead>\n",
       "  <tbody>\n",
       "    <tr>\n",
       "      <th>0</th>\n",
       "      <td>1</td>\n",
       "      <td>/shared/data/food_data/food_images/Pork_ribs/P...</td>\n",
       "      <td>[On the wooden chopping board, there is a cut ...</td>\n",
       "    </tr>\n",
       "    <tr>\n",
       "      <th>1</th>\n",
       "      <td>2</td>\n",
       "      <td>/shared/data/food_data/food_images/Pork_ribs/P...</td>\n",
       "      <td>[Many grilled pork ribs are arranged in a curi...</td>\n",
       "    </tr>\n",
       "    <tr>\n",
       "      <th>2</th>\n",
       "      <td>3</td>\n",
       "      <td>/shared/data/food_data/food_images/Pork_ribs/P...</td>\n",
       "      <td>[Two grilled brown-red pork ribs on an oval wh...</td>\n",
       "    </tr>\n",
       "    <tr>\n",
       "      <th>3</th>\n",
       "      <td>4</td>\n",
       "      <td>/shared/data/food_data/food_images/Pork_ribs/P...</td>\n",
       "      <td>[Three pork ribs drizzled with a rich sauce an...</td>\n",
       "    </tr>\n",
       "    <tr>\n",
       "      <th>4</th>\n",
       "      <td>5</td>\n",
       "      <td>/shared/data/food_data/food_images/Pork_ribs/P...</td>\n",
       "      <td>[Raw, long, fresh pork ribs next to yellow, go...</td>\n",
       "    </tr>\n",
       "  </tbody>\n",
       "</table>\n",
       "</div>"
      ],
      "text/plain": [
       "   id                                            img_url  \\\n",
       "0   1  /shared/data/food_data/food_images/Pork_ribs/P...   \n",
       "1   2  /shared/data/food_data/food_images/Pork_ribs/P...   \n",
       "2   3  /shared/data/food_data/food_images/Pork_ribs/P...   \n",
       "3   4  /shared/data/food_data/food_images/Pork_ribs/P...   \n",
       "4   5  /shared/data/food_data/food_images/Pork_ribs/P...   \n",
       "\n",
       "                                   reference_caption  \n",
       "0  [On the wooden chopping board, there is a cut ...  \n",
       "1  [Many grilled pork ribs are arranged in a curi...  \n",
       "2  [Two grilled brown-red pork ribs on an oval wh...  \n",
       "3  [Three pork ribs drizzled with a rich sauce an...  \n",
       "4  [Raw, long, fresh pork ribs next to yellow, go...  "
      ]
     },
     "execution_count": 4,
     "metadata": {},
     "output_type": "execute_result"
    }
   ],
   "source": [
    "# Convert to DataFrame\n",
    "df = pd.DataFrame(data)\n",
    "\n",
    "# Add 'id' column\n",
    "df['id'] = range(1, len(df) + 1)\n",
    "\n",
    "# Update 'img_url' and 'reference_caption' columns\n",
    "df['img_url'] = '/shared/data/food_data/food_images/' + df['filename']\n",
    "df['reference_caption'] = df['caption'].apply(lambda x: [x]) \n",
    "\n",
    "# Drop unnecessary columns\n",
    "df = df[['id', 'img_url', 'reference_caption']]\n",
    "\n",
    "# Display the DataFrame\n",
    "df.head()"
   ]
  },
  {
   "cell_type": "code",
   "execution_count": 5,
   "id": "5e343122",
   "metadata": {},
   "outputs": [
    {
     "data": {
      "text/plain": [
       "'/shared/data/food_data/food_images/Pork_ribs/Pork_ribs_0094.jpg'"
      ]
     },
     "execution_count": 5,
     "metadata": {},
     "output_type": "execute_result"
    }
   ],
   "source": [
    "df.iloc[0].img_url"
   ]
  },
  {
   "cell_type": "code",
   "execution_count": 6,
   "id": "0242ce4b",
   "metadata": {},
   "outputs": [
    {
     "data": {
      "text/plain": [
       "['On the wooden chopping board, there is a cut up grilled and cooked pork rib.']"
      ]
     },
     "execution_count": 6,
     "metadata": {},
     "output_type": "execute_result"
    }
   ],
   "source": [
    "df.iloc[0].reference_caption"
   ]
  },
  {
   "cell_type": "code",
   "execution_count": 7,
   "id": "055927dd",
   "metadata": {},
   "outputs": [
    {
     "name": "stdout",
     "output_type": "stream",
     "text": [
      "DataFrame saved as a list of dictionaries in food_data_output.json\n"
     ]
    }
   ],
   "source": [
    "# Save the annotation to output file\n",
    "\n",
    "# Convert DataFrame to a list of dictionaries\n",
    "list_of_dicts = df.to_dict(orient=\"records\")\n",
    "\n",
    "# Save the list of dictionaries to a JSON file\n",
    "output_file = \"food_data_output.json\"\n",
    "with open(output_file, \"w\") as file:\n",
    "    json.dump(list_of_dicts, file, indent=4)\n",
    "\n",
    "print(f\"DataFrame saved as a list of dictionaries in {output_file}\")"
   ]
  },
  {
   "cell_type": "code",
   "execution_count": null,
   "id": "77e5eacc",
   "metadata": {},
   "outputs": [],
   "source": []
  }
 ],
 "metadata": {
  "kernelspec": {
   "display_name": "Python 3",
   "language": "python",
   "name": "python3"
  },
  "language_info": {
   "codemirror_mode": {
    "name": "ipython",
    "version": 3
   },
   "file_extension": ".py",
   "mimetype": "text/x-python",
   "name": "python",
   "nbconvert_exporter": "python",
   "pygments_lexer": "ipython3",
   "version": "3.10.15"
  }
 },
 "nbformat": 4,
 "nbformat_minor": 5
}
