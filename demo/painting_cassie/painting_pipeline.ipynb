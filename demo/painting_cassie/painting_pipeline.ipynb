{
 "cells": [
  {
   "cell_type": "markdown",
   "id": "88aeb58f",
   "metadata": {},
   "source": [
    "## Load Food Dataset"
   ]
  },
  {
   "cell_type": "code",
   "execution_count": 1,
   "id": "43dd2d1c",
   "metadata": {},
   "outputs": [
    {
     "data": {
      "text/html": [
       "<div>\n",
       "<style scoped>\n",
       "    .dataframe tbody tr th:only-of-type {\n",
       "        vertical-align: middle;\n",
       "    }\n",
       "\n",
       "    .dataframe tbody tr th {\n",
       "        vertical-align: top;\n",
       "    }\n",
       "\n",
       "    .dataframe thead th {\n",
       "        text-align: right;\n",
       "    }\n",
       "</style>\n",
       "<table border=\"1\" class=\"dataframe\">\n",
       "  <thead>\n",
       "    <tr style=\"text-align: right;\">\n",
       "      <th></th>\n",
       "      <th>id</th>\n",
       "      <th>file_path</th>\n",
       "      <th>captions</th>\n",
       "    </tr>\n",
       "  </thead>\n",
       "  <tbody>\n",
       "    <tr>\n",
       "      <th>0</th>\n",
       "      <td>46323</td>\n",
       "      <td>/shared/data/painting/picts/46323.jpg</td>\n",
       "      <td>[women are bent over a river 's edge  ,  doing laundry, it is wash day at the edge of the river for these women, women are washing clothes by the river, women in rustic clothing are lined up along the bank of a river, people are kneeling near a shore]</td>\n",
       "    </tr>\n",
       "    <tr>\n",
       "      <th>1</th>\n",
       "      <td>63879</td>\n",
       "      <td>/shared/data/painting/picts/63879.jpg</td>\n",
       "      <td>[a group of people is swimming in the ocean, a lot of people in the water are playing and one person with clothes on, a group of people goes for a swim in the sea, the perfect boys are bathing in the sea stock photo, a group of men in the ocean is enjoying a swim]</td>\n",
       "    </tr>\n",
       "    <tr>\n",
       "      <th>2</th>\n",
       "      <td>13922</td>\n",
       "      <td>/shared/data/painting/picts/13922.jpg</td>\n",
       "      <td>[two people are sitting on a beach with their dog next to them, these two people are enjoying watching the sunset on the beach, a woman is sitting on a bench and someone is sitting on the ground, a woman and a man are sitting on the beach, some individuals are sitting in front of a body of water]</td>\n",
       "    </tr>\n",
       "    <tr>\n",
       "      <th>3</th>\n",
       "      <td>80041</td>\n",
       "      <td>/shared/data/painting/picts/80041.jpg</td>\n",
       "      <td>[an adult and a child are sitting at the table talking, a man and a woman were playing cards at a table, the woman sitting calmly plays cards with the man, a man and a woman sit opposite each other at the table, a woman hands a man a piece of paper across the table]</td>\n",
       "    </tr>\n",
       "    <tr>\n",
       "      <th>4</th>\n",
       "      <td>6692</td>\n",
       "      <td>/shared/data/painting/picts/6692.jpg</td>\n",
       "      <td>[a man and a woman are looking at a river in a forest, a man and woman posing in a field by a river, two people out in a wooded area near the water, painters are painting beside a stream, an afternoon in the countryside with a man  ,  a woman  ,  and an easel]</td>\n",
       "    </tr>\n",
       "  </tbody>\n",
       "</table>\n",
       "</div>"
      ],
      "text/plain": [
       "      id                              file_path  \\\n",
       "0  46323  /shared/data/painting/picts/46323.jpg   \n",
       "1  63879  /shared/data/painting/picts/63879.jpg   \n",
       "2  13922  /shared/data/painting/picts/13922.jpg   \n",
       "3  80041  /shared/data/painting/picts/80041.jpg   \n",
       "4   6692   /shared/data/painting/picts/6692.jpg   \n",
       "\n",
       "                                                                                                                                                                                                                                                                                                    captions  \n",
       "0                                                [women are bent over a river 's edge  ,  doing laundry, it is wash day at the edge of the river for these women, women are washing clothes by the river, women in rustic clothing are lined up along the bank of a river, people are kneeling near a shore]  \n",
       "1                                   [a group of people is swimming in the ocean, a lot of people in the water are playing and one person with clothes on, a group of people goes for a swim in the sea, the perfect boys are bathing in the sea stock photo, a group of men in the ocean is enjoying a swim]  \n",
       "2  [two people are sitting on a beach with their dog next to them, these two people are enjoying watching the sunset on the beach, a woman is sitting on a bench and someone is sitting on the ground, a woman and a man are sitting on the beach, some individuals are sitting in front of a body of water]  \n",
       "3                                 [an adult and a child are sitting at the table talking, a man and a woman were playing cards at a table, the woman sitting calmly plays cards with the man, a man and a woman sit opposite each other at the table, a woman hands a man a piece of paper across the table]  \n",
       "4                                       [a man and a woman are looking at a river in a forest, a man and woman posing in a field by a river, two people out in a wooded area near the water, painters are painting beside a stream, an afternoon in the countryside with a man  ,  a woman  ,  and an easel]  "
      ]
     },
     "execution_count": 1,
     "metadata": {},
     "output_type": "execute_result"
    }
   ],
   "source": [
    "import pandas as pd\n",
    "pd.set_option('display.max_colwidth', None)\n",
    "import json\n",
    "\n",
    "\n",
    "# Data Directory: \n",
    "food_images_directory = '/shared/data/painting/'\n",
    "food_annotation_file_path = '/shared/data/painting/paintings.json'\n",
    "\n",
    "\n",
    "# Method 1: Using pandas.read_json directly\n",
    "df = pd.read_json(food_annotation_file_path)\n",
    "\n",
    "df.head()\n"
   ]
  },
  {
   "cell_type": "code",
   "execution_count": 2,
   "id": "d0458394",
   "metadata": {},
   "outputs": [
    {
     "data": {
      "text/plain": [
       "(200, 3)"
      ]
     },
     "execution_count": 2,
     "metadata": {},
     "output_type": "execute_result"
    }
   ],
   "source": [
    "df.shape"
   ]
  },
  {
   "cell_type": "markdown",
   "id": "4a646505",
   "metadata": {},
   "source": [
    "## Generate Multiple Choice Question"
   ]
  },
  {
   "cell_type": "code",
   "execution_count": 3,
   "id": "5ad9b092",
   "metadata": {},
   "outputs": [],
   "source": [
    "# Generate random choice in [A, B, C, D]\n",
    "import random\n",
    "\n",
    "def generate_random_choice():\n",
    "    return random.choice(['A', 'B', 'C', 'D'])"
   ]
  },
  {
   "cell_type": "code",
   "execution_count": 4,
   "id": "e1ac2063",
   "metadata": {},
   "outputs": [],
   "source": [
    "df['multiple_choice_solution'] = df.apply(lambda x: generate_random_choice(), axis=1)"
   ]
  },
  {
   "cell_type": "code",
   "execution_count": 5,
   "id": "4658c508",
   "metadata": {},
   "outputs": [
    {
     "data": {
      "text/html": [
       "<div>\n",
       "<style scoped>\n",
       "    .dataframe tbody tr th:only-of-type {\n",
       "        vertical-align: middle;\n",
       "    }\n",
       "\n",
       "    .dataframe tbody tr th {\n",
       "        vertical-align: top;\n",
       "    }\n",
       "\n",
       "    .dataframe thead th {\n",
       "        text-align: right;\n",
       "    }\n",
       "</style>\n",
       "<table border=\"1\" class=\"dataframe\">\n",
       "  <thead>\n",
       "    <tr style=\"text-align: right;\">\n",
       "      <th></th>\n",
       "      <th>id</th>\n",
       "      <th>file_path</th>\n",
       "      <th>captions</th>\n",
       "      <th>multiple_choice_solution</th>\n",
       "    </tr>\n",
       "  </thead>\n",
       "  <tbody>\n",
       "    <tr>\n",
       "      <th>0</th>\n",
       "      <td>46323</td>\n",
       "      <td>/shared/data/painting/picts/46323.jpg</td>\n",
       "      <td>[women are bent over a river 's edge  ,  doing laundry, it is wash day at the edge of the river for these women, women are washing clothes by the river, women in rustic clothing are lined up along the bank of a river, people are kneeling near a shore]</td>\n",
       "      <td>C</td>\n",
       "    </tr>\n",
       "    <tr>\n",
       "      <th>1</th>\n",
       "      <td>63879</td>\n",
       "      <td>/shared/data/painting/picts/63879.jpg</td>\n",
       "      <td>[a group of people is swimming in the ocean, a lot of people in the water are playing and one person with clothes on, a group of people goes for a swim in the sea, the perfect boys are bathing in the sea stock photo, a group of men in the ocean is enjoying a swim]</td>\n",
       "      <td>C</td>\n",
       "    </tr>\n",
       "    <tr>\n",
       "      <th>2</th>\n",
       "      <td>13922</td>\n",
       "      <td>/shared/data/painting/picts/13922.jpg</td>\n",
       "      <td>[two people are sitting on a beach with their dog next to them, these two people are enjoying watching the sunset on the beach, a woman is sitting on a bench and someone is sitting on the ground, a woman and a man are sitting on the beach, some individuals are sitting in front of a body of water]</td>\n",
       "      <td>C</td>\n",
       "    </tr>\n",
       "    <tr>\n",
       "      <th>3</th>\n",
       "      <td>80041</td>\n",
       "      <td>/shared/data/painting/picts/80041.jpg</td>\n",
       "      <td>[an adult and a child are sitting at the table talking, a man and a woman were playing cards at a table, the woman sitting calmly plays cards with the man, a man and a woman sit opposite each other at the table, a woman hands a man a piece of paper across the table]</td>\n",
       "      <td>B</td>\n",
       "    </tr>\n",
       "    <tr>\n",
       "      <th>4</th>\n",
       "      <td>6692</td>\n",
       "      <td>/shared/data/painting/picts/6692.jpg</td>\n",
       "      <td>[a man and a woman are looking at a river in a forest, a man and woman posing in a field by a river, two people out in a wooded area near the water, painters are painting beside a stream, an afternoon in the countryside with a man  ,  a woman  ,  and an easel]</td>\n",
       "      <td>D</td>\n",
       "    </tr>\n",
       "  </tbody>\n",
       "</table>\n",
       "</div>"
      ],
      "text/plain": [
       "      id                              file_path  \\\n",
       "0  46323  /shared/data/painting/picts/46323.jpg   \n",
       "1  63879  /shared/data/painting/picts/63879.jpg   \n",
       "2  13922  /shared/data/painting/picts/13922.jpg   \n",
       "3  80041  /shared/data/painting/picts/80041.jpg   \n",
       "4   6692   /shared/data/painting/picts/6692.jpg   \n",
       "\n",
       "                                                                                                                                                                                                                                                                                                    captions  \\\n",
       "0                                                [women are bent over a river 's edge  ,  doing laundry, it is wash day at the edge of the river for these women, women are washing clothes by the river, women in rustic clothing are lined up along the bank of a river, people are kneeling near a shore]   \n",
       "1                                   [a group of people is swimming in the ocean, a lot of people in the water are playing and one person with clothes on, a group of people goes for a swim in the sea, the perfect boys are bathing in the sea stock photo, a group of men in the ocean is enjoying a swim]   \n",
       "2  [two people are sitting on a beach with their dog next to them, these two people are enjoying watching the sunset on the beach, a woman is sitting on a bench and someone is sitting on the ground, a woman and a man are sitting on the beach, some individuals are sitting in front of a body of water]   \n",
       "3                                 [an adult and a child are sitting at the table talking, a man and a woman were playing cards at a table, the woman sitting calmly plays cards with the man, a man and a woman sit opposite each other at the table, a woman hands a man a piece of paper across the table]   \n",
       "4                                       [a man and a woman are looking at a river in a forest, a man and woman posing in a field by a river, two people out in a wooded area near the water, painters are painting beside a stream, an afternoon in the countryside with a man  ,  a woman  ,  and an easel]   \n",
       "\n",
       "  multiple_choice_solution  \n",
       "0                        C  \n",
       "1                        C  \n",
       "2                        C  \n",
       "3                        B  \n",
       "4                        D  "
      ]
     },
     "execution_count": 5,
     "metadata": {},
     "output_type": "execute_result"
    }
   ],
   "source": [
    "df.head()"
   ]
  },
  {
   "cell_type": "code",
   "execution_count": null,
   "id": "e26b5a35",
   "metadata": {},
   "outputs": [],
   "source": [
    "# Generate multiple choice questions"
   ]
  },
  {
   "cell_type": "code",
   "execution_count": 6,
   "id": "ca90e929",
   "metadata": {},
   "outputs": [],
   "source": [
    "import os\n",
    "from openai import OpenAI\n",
    "client = OpenAI(\n",
    "    api_key=os.getenv(\"OPENAI_API_KEY\"),  \n",
    ")\n",
    "\n",
    "\n",
    "def generate_multiple_choice_question(reference_caption, correct_choice): \n",
    "    # Define the prompt to generate inferior choices\n",
    "    prompt = f\"\"\"\n",
    "    The ground truth caption is:\n",
    "    \"{reference_caption}\"\n",
    "\n",
    "    Generate three inferior captions that include either inaccurate details, or are non-fluent with syntactic errors. \n",
    "    Format the result as a multiple-choice question. \n",
    "    Question title should be \"Which of the following captions best describes the painting?\".\n",
    "    The correct choice should be placed at choice \"{correct_choice}\". \n",
    "    Ensure the incorrect choices are realistic but clearly wrong.\n",
    "    Do not generate special symbols such as '*'.\n",
    "    \"\"\"\n",
    "\n",
    "    response = client.chat.completions.create(\n",
    "        model=\"gpt-4o\",\n",
    "        messages=[\n",
    "            {\"role\": \"system\", \"content\": \"You are a helpful assistant.\"},\n",
    "            {\"role\": \"user\", \"content\": prompt},\n",
    "        ],\n",
    "        temperature=0.7,\n",
    "        max_tokens=200,\n",
    "    )\n",
    "\n",
    "    # Extract the generated multiple-choice question\n",
    "    question = response.choices[0].message.content    \n",
    "    \n",
    "    return question"
   ]
  },
  {
   "cell_type": "code",
   "execution_count": 8,
   "id": "25b87e24",
   "metadata": {},
   "outputs": [],
   "source": [
    "df['multiple_choice_question'] = df.apply(lambda x: generate_multiple_choice_question(x['captions'][0], x['multiple_choice_solution']), axis=1)"
   ]
  },
  {
   "cell_type": "code",
   "execution_count": 12,
   "id": "261618ba",
   "metadata": {},
   "outputs": [
    {
     "name": "stdout",
     "output_type": "stream",
     "text": [
      "Processed dataset saved to '/shared/data/painting/painting_with_MCQ.json'.\n"
     ]
    }
   ],
   "source": [
    "import json\n",
    "\n",
    "# Load the original dataset\n",
    "with open(\"/shared/data/painting/paintings_with_MCQ.json\", \"r\") as f:\n",
    "    data = json.load(f)\n",
    "\n",
    "# Process the dataset to keep only the first caption\n",
    "processed_data = []\n",
    "for item in data:\n",
    "    processed_data.append({\n",
    "        \"id\": item[\"id\"],\n",
    "        \"file_path\": item[\"file_path\"],\n",
    "        \"caption\": item[\"captions\"][0],  # Retain only the first caption\n",
    "        \"multiple_choice_solution\": item[\"multiple_choice_solution\"],\n",
    "        \"multiple_choice_question\": item[\"multiple_choice_question\"]\n",
    "    })\n",
    "\n",
    "# Save the processed dataset to a new JSON file\n",
    "with open(\"/shared/data/painting/painting_with_MCQ.json\", \"w\") as f:\n",
    "    json.dump(processed_data, f, indent=4)\n",
    "\n",
    "print(\"Processed dataset saved to '/shared/data/painting/painting_with_MCQ.json'.\")\n"
   ]
  },
  {
   "cell_type": "code",
   "execution_count": 13,
   "id": "1ca74bec",
   "metadata": {},
   "outputs": [
    {
     "data": {
      "text/html": [
       "<div>\n",
       "<style scoped>\n",
       "    .dataframe tbody tr th:only-of-type {\n",
       "        vertical-align: middle;\n",
       "    }\n",
       "\n",
       "    .dataframe tbody tr th {\n",
       "        vertical-align: top;\n",
       "    }\n",
       "\n",
       "    .dataframe thead th {\n",
       "        text-align: right;\n",
       "    }\n",
       "</style>\n",
       "<table border=\"1\" class=\"dataframe\">\n",
       "  <thead>\n",
       "    <tr style=\"text-align: right;\">\n",
       "      <th></th>\n",
       "      <th>id</th>\n",
       "      <th>file_path</th>\n",
       "      <th>caption</th>\n",
       "      <th>multiple_choice_solution</th>\n",
       "      <th>multiple_choice_question</th>\n",
       "    </tr>\n",
       "  </thead>\n",
       "  <tbody>\n",
       "    <tr>\n",
       "      <th>0</th>\n",
       "      <td>46323</td>\n",
       "      <td>/shared/data/painting/picts/46323.jpg</td>\n",
       "      <td>women are bent over a river 's edge  ,  doing laundry</td>\n",
       "      <td>C</td>\n",
       "      <td>Which of the following captions best describes the painting?\\n\\nA) Women are sitting on a boat in the river, fishing.\\n\\nB) Women are bending over near a pond's shore, cooking.\\n\\nC) Women are bent over a river's edge, doing laundry.\\n\\nD) Woman are bending over river edge, working in the garden.</td>\n",
       "    </tr>\n",
       "    <tr>\n",
       "      <th>1</th>\n",
       "      <td>63879</td>\n",
       "      <td>/shared/data/painting/picts/63879.jpg</td>\n",
       "      <td>a group of people is swimming in the ocean</td>\n",
       "      <td>C</td>\n",
       "      <td>Which of the following captions best describes the painting?\\n\\nA) A group of cats is playing in the sand.\\n\\nB) A single person is jogging on the beach.\\n\\nC) A group of people is swimming in the ocean.\\n\\nD) A crowd of people sitting by the pool in the park.</td>\n",
       "    </tr>\n",
       "    <tr>\n",
       "      <th>2</th>\n",
       "      <td>13922</td>\n",
       "      <td>/shared/data/painting/picts/13922.jpg</td>\n",
       "      <td>two people are sitting on a beach with their dog next to them</td>\n",
       "      <td>C</td>\n",
       "      <td>Which of the following captions best describes the painting?\\n\\nA) One person is standing on a mountain with a cat nearby.\\n\\nB) Two people sitting under a tree with their dog flying above them.\\n\\nC) Two people are sitting on a beach with their dog next to them.\\n\\nD) Three people are running in the park with their dog chasing a ball.</td>\n",
       "    </tr>\n",
       "    <tr>\n",
       "      <th>3</th>\n",
       "      <td>80041</td>\n",
       "      <td>/shared/data/painting/picts/80041.jpg</td>\n",
       "      <td>an adult and a child are sitting at the table talking</td>\n",
       "      <td>B</td>\n",
       "      <td>Which of the following captions best describes the painting?\\n\\nA) A child is sitting alone at the table watching TV.\\n\\nB) An adult and a child are sitting at the table talking.\\n\\nC) Two adults are standing near the table while cooking.\\n\\nD) A dog and a child are sitting at the table eating.</td>\n",
       "    </tr>\n",
       "    <tr>\n",
       "      <th>4</th>\n",
       "      <td>6692</td>\n",
       "      <td>/shared/data/painting/picts/6692.jpg</td>\n",
       "      <td>a man and a woman are looking at a river in a forest</td>\n",
       "      <td>D</td>\n",
       "      <td>Which of the following captions best describes the painting?\\n\\nA) A woman and a child are staring at a lake in a desert.\\n\\nB) A man and a girl are sitting on a boat in the ocean.\\n\\nC) Two people are having a picnic on the beach.\\n\\nD) A man and a woman are looking at a river in a forest.</td>\n",
       "    </tr>\n",
       "  </tbody>\n",
       "</table>\n",
       "</div>"
      ],
      "text/plain": [
       "      id                              file_path  \\\n",
       "0  46323  /shared/data/painting/picts/46323.jpg   \n",
       "1  63879  /shared/data/painting/picts/63879.jpg   \n",
       "2  13922  /shared/data/painting/picts/13922.jpg   \n",
       "3  80041  /shared/data/painting/picts/80041.jpg   \n",
       "4   6692   /shared/data/painting/picts/6692.jpg   \n",
       "\n",
       "                                                         caption  \\\n",
       "0          women are bent over a river 's edge  ,  doing laundry   \n",
       "1                     a group of people is swimming in the ocean   \n",
       "2  two people are sitting on a beach with their dog next to them   \n",
       "3          an adult and a child are sitting at the table talking   \n",
       "4           a man and a woman are looking at a river in a forest   \n",
       "\n",
       "  multiple_choice_solution  \\\n",
       "0                        C   \n",
       "1                        C   \n",
       "2                        C   \n",
       "3                        B   \n",
       "4                        D   \n",
       "\n",
       "                                                                                                                                                                                                                                                                                                                            multiple_choice_question  \n",
       "0                                          Which of the following captions best describes the painting?\\n\\nA) Women are sitting on a boat in the river, fishing.\\n\\nB) Women are bending over near a pond's shore, cooking.\\n\\nC) Women are bent over a river's edge, doing laundry.\\n\\nD) Woman are bending over river edge, working in the garden.  \n",
       "1                                                                               Which of the following captions best describes the painting?\\n\\nA) A group of cats is playing in the sand.\\n\\nB) A single person is jogging on the beach.\\n\\nC) A group of people is swimming in the ocean.\\n\\nD) A crowd of people sitting by the pool in the park.  \n",
       "2  Which of the following captions best describes the painting?\\n\\nA) One person is standing on a mountain with a cat nearby.\\n\\nB) Two people sitting under a tree with their dog flying above them.\\n\\nC) Two people are sitting on a beach with their dog next to them.\\n\\nD) Three people are running in the park with their dog chasing a ball.  \n",
       "3                                            Which of the following captions best describes the painting?\\n\\nA) A child is sitting alone at the table watching TV.\\n\\nB) An adult and a child are sitting at the table talking.\\n\\nC) Two adults are standing near the table while cooking.\\n\\nD) A dog and a child are sitting at the table eating.  \n",
       "4                                                Which of the following captions best describes the painting?\\n\\nA) A woman and a child are staring at a lake in a desert.\\n\\nB) A man and a girl are sitting on a boat in the ocean.\\n\\nC) Two people are having a picnic on the beach.\\n\\nD) A man and a woman are looking at a river in a forest.  "
      ]
     },
     "execution_count": 13,
     "metadata": {},
     "output_type": "execute_result"
    }
   ],
   "source": [
    "import pandas as pd\n",
    "\n",
    "# Load the JSON file into a pandas DataFrame\n",
    "df = pd.read_json(\"/shared/data/painting/painting_with_MCQ.json\")\n",
    "\n",
    "\n",
    "df.head()"
   ]
  },
  {
   "cell_type": "code",
   "execution_count": 9,
   "id": "057e5631",
   "metadata": {},
   "outputs": [
    {
     "name": "stdout",
     "output_type": "stream",
     "text": [
      "DataFrame saved as a list of dictionaries in /shared/data/painting/paintings_with_MCQ.json\n"
     ]
    }
   ],
   "source": [
    "# Save the annotation with multiple choice question to output file\n",
    "\n",
    "# Convert DataFrame to a list of dictionaries\n",
    "list_of_dicts = df.to_dict(orient=\"records\")\n",
    "\n",
    "# Save the list of dictionaries to a JSON file\n",
    "output_file = \"/shared/data/painting/paintings_with_MCQ.json\"\n",
    "with open(output_file, \"w\") as file:\n",
    "    json.dump(list_of_dicts, file, indent=4)\n",
    "\n",
    "print(f\"DataFrame saved as a list of dictionaries in {output_file}\")"
   ]
  },
  {
   "cell_type": "markdown",
   "id": "890ef648",
   "metadata": {},
   "source": [
    "## Perform Multiple Choice Selection"
   ]
  },
  {
   "cell_type": "code",
   "execution_count": 5,
   "id": "002b381b",
   "metadata": {},
   "outputs": [
    {
     "data": {
      "text/html": [
       "<div>\n",
       "<style scoped>\n",
       "    .dataframe tbody tr th:only-of-type {\n",
       "        vertical-align: middle;\n",
       "    }\n",
       "\n",
       "    .dataframe tbody tr th {\n",
       "        vertical-align: top;\n",
       "    }\n",
       "\n",
       "    .dataframe thead th {\n",
       "        text-align: right;\n",
       "    }\n",
       "</style>\n",
       "<table border=\"1\" class=\"dataframe\">\n",
       "  <thead>\n",
       "    <tr style=\"text-align: right;\">\n",
       "      <th></th>\n",
       "      <th>id</th>\n",
       "      <th>file_path</th>\n",
       "      <th>caption</th>\n",
       "      <th>multiple_choice_solution</th>\n",
       "      <th>multiple_choice_question</th>\n",
       "    </tr>\n",
       "  </thead>\n",
       "  <tbody>\n",
       "    <tr>\n",
       "      <th>0</th>\n",
       "      <td>46323</td>\n",
       "      <td>/shared/data/painting/picts/46323.jpg</td>\n",
       "      <td>women are bent over a river 's edge  ,  doing laundry</td>\n",
       "      <td>C</td>\n",
       "      <td>Which of the following captions best describes the painting?\\n\\nA) Women are sitting on a boat in the river, fishing.\\n\\nB) Women are bending over near a pond's shore, cooking.\\n\\nC) Women are bent over a river's edge, doing laundry.\\n\\nD) Woman are bending over river edge, working in the garden.</td>\n",
       "    </tr>\n",
       "    <tr>\n",
       "      <th>1</th>\n",
       "      <td>63879</td>\n",
       "      <td>/shared/data/painting/picts/63879.jpg</td>\n",
       "      <td>a group of people is swimming in the ocean</td>\n",
       "      <td>C</td>\n",
       "      <td>Which of the following captions best describes the painting?\\n\\nA) A group of cats is playing in the sand.\\n\\nB) A single person is jogging on the beach.\\n\\nC) A group of people is swimming in the ocean.\\n\\nD) A crowd of people sitting by the pool in the park.</td>\n",
       "    </tr>\n",
       "    <tr>\n",
       "      <th>2</th>\n",
       "      <td>13922</td>\n",
       "      <td>/shared/data/painting/picts/13922.jpg</td>\n",
       "      <td>two people are sitting on a beach with their dog next to them</td>\n",
       "      <td>C</td>\n",
       "      <td>Which of the following captions best describes the painting?\\n\\nA) One person is standing on a mountain with a cat nearby.\\n\\nB) Two people sitting under a tree with their dog flying above them.\\n\\nC) Two people are sitting on a beach with their dog next to them.\\n\\nD) Three people are running in the park with their dog chasing a ball.</td>\n",
       "    </tr>\n",
       "    <tr>\n",
       "      <th>3</th>\n",
       "      <td>80041</td>\n",
       "      <td>/shared/data/painting/picts/80041.jpg</td>\n",
       "      <td>an adult and a child are sitting at the table talking</td>\n",
       "      <td>B</td>\n",
       "      <td>Which of the following captions best describes the painting?\\n\\nA) A child is sitting alone at the table watching TV.\\n\\nB) An adult and a child are sitting at the table talking.\\n\\nC) Two adults are standing near the table while cooking.\\n\\nD) A dog and a child are sitting at the table eating.</td>\n",
       "    </tr>\n",
       "    <tr>\n",
       "      <th>4</th>\n",
       "      <td>6692</td>\n",
       "      <td>/shared/data/painting/picts/6692.jpg</td>\n",
       "      <td>a man and a woman are looking at a river in a forest</td>\n",
       "      <td>D</td>\n",
       "      <td>Which of the following captions best describes the painting?\\n\\nA) A woman and a child are staring at a lake in a desert.\\n\\nB) A man and a girl are sitting on a boat in the ocean.\\n\\nC) Two people are having a picnic on the beach.\\n\\nD) A man and a woman are looking at a river in a forest.</td>\n",
       "    </tr>\n",
       "  </tbody>\n",
       "</table>\n",
       "</div>"
      ],
      "text/plain": [
       "      id                              file_path  \\\n",
       "0  46323  /shared/data/painting/picts/46323.jpg   \n",
       "1  63879  /shared/data/painting/picts/63879.jpg   \n",
       "2  13922  /shared/data/painting/picts/13922.jpg   \n",
       "3  80041  /shared/data/painting/picts/80041.jpg   \n",
       "4   6692   /shared/data/painting/picts/6692.jpg   \n",
       "\n",
       "                                                         caption  \\\n",
       "0          women are bent over a river 's edge  ,  doing laundry   \n",
       "1                     a group of people is swimming in the ocean   \n",
       "2  two people are sitting on a beach with their dog next to them   \n",
       "3          an adult and a child are sitting at the table talking   \n",
       "4           a man and a woman are looking at a river in a forest   \n",
       "\n",
       "  multiple_choice_solution  \\\n",
       "0                        C   \n",
       "1                        C   \n",
       "2                        C   \n",
       "3                        B   \n",
       "4                        D   \n",
       "\n",
       "                                                                                                                                                                                                                                                                                                                            multiple_choice_question  \n",
       "0                                          Which of the following captions best describes the painting?\\n\\nA) Women are sitting on a boat in the river, fishing.\\n\\nB) Women are bending over near a pond's shore, cooking.\\n\\nC) Women are bent over a river's edge, doing laundry.\\n\\nD) Woman are bending over river edge, working in the garden.  \n",
       "1                                                                               Which of the following captions best describes the painting?\\n\\nA) A group of cats is playing in the sand.\\n\\nB) A single person is jogging on the beach.\\n\\nC) A group of people is swimming in the ocean.\\n\\nD) A crowd of people sitting by the pool in the park.  \n",
       "2  Which of the following captions best describes the painting?\\n\\nA) One person is standing on a mountain with a cat nearby.\\n\\nB) Two people sitting under a tree with their dog flying above them.\\n\\nC) Two people are sitting on a beach with their dog next to them.\\n\\nD) Three people are running in the park with their dog chasing a ball.  \n",
       "3                                            Which of the following captions best describes the painting?\\n\\nA) A child is sitting alone at the table watching TV.\\n\\nB) An adult and a child are sitting at the table talking.\\n\\nC) Two adults are standing near the table while cooking.\\n\\nD) A dog and a child are sitting at the table eating.  \n",
       "4                                                Which of the following captions best describes the painting?\\n\\nA) A woman and a child are staring at a lake in a desert.\\n\\nB) A man and a girl are sitting on a boat in the ocean.\\n\\nC) Two people are having a picnic on the beach.\\n\\nD) A man and a woman are looking at a river in a forest.  "
      ]
     },
     "execution_count": 5,
     "metadata": {},
     "output_type": "execute_result"
    }
   ],
   "source": [
    "# Load annotation with multiple choice question data file\n",
    "import pandas as pd\n",
    "pd.set_option('display.max_colwidth', None)\n",
    "import json\n",
    "\n",
    "\n",
    "# Data Directory: \n",
    "#food_images_directory = '/shared/data/food_data/food_images/'\n",
    "food_annotation_file_path = '/shared/data/painting/painting_with_MCQ.json'\n",
    "\n",
    "\n",
    "# Method 1: Using pandas.read_json directly\n",
    "df = pd.read_json(food_annotation_file_path)\n",
    "\n",
    "df.head()"
   ]
  },
  {
   "cell_type": "code",
   "execution_count": null,
   "id": "883cbb1d",
   "metadata": {},
   "outputs": [],
   "source": []
  },
  {
   "cell_type": "markdown",
   "id": "f04f522e",
   "metadata": {},
   "source": [
    "### Use llava model"
   ]
  },
  {
   "cell_type": "code",
   "execution_count": 2,
   "id": "839664b2",
   "metadata": {},
   "outputs": [],
   "source": [
    "from transformers import LlavaNextProcessor, LlavaNextForConditionalGeneration\n",
    "import torch\n",
    "from PIL import Image\n",
    "import requests "
   ]
  },
  {
   "cell_type": "code",
   "execution_count": 3,
   "id": "9ae119ce",
   "metadata": {},
   "outputs": [
    {
     "name": "stderr",
     "output_type": "stream",
     "text": [
      "Some kwargs in processor config are unused and will not have any effect: num_additional_image_tokens. \n",
      "The `load_in_4bit` and `load_in_8bit` arguments are deprecated and will be removed in the future versions. Please, pass a `BitsAndBytesConfig` object in `quantization_config` argument instead.\n"
     ]
    },
    {
     "data": {
      "application/vnd.jupyter.widget-view+json": {
       "model_id": "ad3c774b45454a03a597b0e1d4a88073",
       "version_major": 2,
       "version_minor": 0
      },
      "text/plain": [
       "Loading checkpoint shards:   0%|          | 0/4 [00:00<?, ?it/s]"
      ]
     },
     "metadata": {},
     "output_type": "display_data"
    }
   ],
   "source": [
    "# Load model from local directory \n",
    "model_path = '/shared/model/llava-v1.6-mistral-7b-hf'\n",
    "\n",
    "processor = LlavaNextProcessor.from_pretrained(model_path)\n",
    "\n",
    "model = LlavaNextForConditionalGeneration.from_pretrained(model_path, torch_dtype=torch.float16, low_cpu_mem_usage=True, load_in_4bit=True) \n",
    "#model.to(\"cuda:0\")"
   ]
  },
  {
   "cell_type": "code",
   "execution_count": 6,
   "id": "121f75e5",
   "metadata": {},
   "outputs": [],
   "source": [
    "# helper function: \n",
    "def perform_multiple_choice_task_llava(image_path, question):\n",
    "    # image = Image.open(img_url)\n",
    "    image = Image.open(image_path)\n",
    "    \n",
    "    conversation = [\n",
    "        {\n",
    "\n",
    "          \"role\": \"user\",\n",
    "          \"content\": [\n",
    "              {\"type\": \"text\", \"text\": question + \"\\nOnly return the correct choice with a single letter.\"},\n",
    "              {\"type\": \"image\"},\n",
    "            ],\n",
    "        },\n",
    "    ]\n",
    "    prompt = processor.apply_chat_template(conversation, add_generation_prompt=True)\n",
    "\n",
    "    inputs = processor(images=image, text=prompt, return_tensors=\"pt\").to(\"cuda:0\")\n",
    "\n",
    "    # autoregressively complete prompt\n",
    "    output = model.generate(**inputs, max_new_tokens=150)\n",
    "    output = processor.decode(output[0], skip_special_tokens=True)\n",
    "\n",
    "    # mcq_question = output.split('[/INST]')[0].split('[INST] ')[1].strip()\n",
    "    mcq_answer = output.split('[/INST]')[1].strip()\n",
    "    return mcq_answer"
   ]
  },
  {
   "cell_type": "code",
   "execution_count": 7,
   "id": "d7f8b16e",
   "metadata": {},
   "outputs": [
    {
     "name": "stderr",
     "output_type": "stream",
     "text": [
      "Setting `pad_token_id` to `eos_token_id`:None for open-end generation.\n",
      "/opt/conda/lib/python3.10/site-packages/bitsandbytes/nn/modules.py:452: UserWarning: Input type into Linear4bit is torch.float16, but bnb_4bit_compute_dtype=torch.float32 (default). This will lead to slow inference or training speed.\n",
      "  warnings.warn(\n",
      "Expanding inputs for image tokens in LLaVa-NeXT should be done in processing. Please add `patch_size` and `vision_feature_select_strategy` to the model's processing config or set directly with `processor.patch_size = {{patch_size}}` and processor.vision_feature_select_strategy = {{vision_feature_select_strategy}}`. Using processors without these attributes in the config is deprecated and will throw an error in v4.47.\n",
      "Setting `pad_token_id` to `eos_token_id`:None for open-end generation.\n",
      "Setting `pad_token_id` to `eos_token_id`:None for open-end generation.\n",
      "Setting `pad_token_id` to `eos_token_id`:None for open-end generation.\n",
      "Setting `pad_token_id` to `eos_token_id`:None for open-end generation.\n",
      "Setting `pad_token_id` to `eos_token_id`:None for open-end generation.\n",
      "Setting `pad_token_id` to `eos_token_id`:None for open-end generation.\n",
      "Setting `pad_token_id` to `eos_token_id`:None for open-end generation.\n",
      "Setting `pad_token_id` to `eos_token_id`:None for open-end generation.\n",
      "Setting `pad_token_id` to `eos_token_id`:None for open-end generation.\n",
      "Setting `pad_token_id` to `eos_token_id`:None for open-end generation.\n",
      "Setting `pad_token_id` to `eos_token_id`:None for open-end generation.\n",
      "Setting `pad_token_id` to `eos_token_id`:None for open-end generation.\n",
      "Setting `pad_token_id` to `eos_token_id`:None for open-end generation.\n",
      "Setting `pad_token_id` to `eos_token_id`:None for open-end generation.\n",
      "Setting `pad_token_id` to `eos_token_id`:None for open-end generation.\n",
      "Setting `pad_token_id` to `eos_token_id`:None for open-end generation.\n",
      "Setting `pad_token_id` to `eos_token_id`:None for open-end generation.\n",
      "Setting `pad_token_id` to `eos_token_id`:None for open-end generation.\n",
      "Setting `pad_token_id` to `eos_token_id`:None for open-end generation.\n",
      "Setting `pad_token_id` to `eos_token_id`:None for open-end generation.\n",
      "Setting `pad_token_id` to `eos_token_id`:None for open-end generation.\n",
      "Setting `pad_token_id` to `eos_token_id`:None for open-end generation.\n",
      "Setting `pad_token_id` to `eos_token_id`:None for open-end generation.\n",
      "Setting `pad_token_id` to `eos_token_id`:None for open-end generation.\n",
      "Setting `pad_token_id` to `eos_token_id`:None for open-end generation.\n",
      "Setting `pad_token_id` to `eos_token_id`:None for open-end generation.\n",
      "Setting `pad_token_id` to `eos_token_id`:None for open-end generation.\n",
      "Setting `pad_token_id` to `eos_token_id`:None for open-end generation.\n",
      "Setting `pad_token_id` to `eos_token_id`:None for open-end generation.\n",
      "Setting `pad_token_id` to `eos_token_id`:None for open-end generation.\n",
      "Setting `pad_token_id` to `eos_token_id`:None for open-end generation.\n",
      "Setting `pad_token_id` to `eos_token_id`:None for open-end generation.\n",
      "Setting `pad_token_id` to `eos_token_id`:None for open-end generation.\n",
      "Setting `pad_token_id` to `eos_token_id`:None for open-end generation.\n",
      "Setting `pad_token_id` to `eos_token_id`:None for open-end generation.\n",
      "Setting `pad_token_id` to `eos_token_id`:None for open-end generation.\n",
      "Setting `pad_token_id` to `eos_token_id`:None for open-end generation.\n",
      "Setting `pad_token_id` to `eos_token_id`:None for open-end generation.\n",
      "Setting `pad_token_id` to `eos_token_id`:None for open-end generation.\n",
      "Setting `pad_token_id` to `eos_token_id`:None for open-end generation.\n",
      "Setting `pad_token_id` to `eos_token_id`:None for open-end generation.\n",
      "Setting `pad_token_id` to `eos_token_id`:None for open-end generation.\n",
      "Setting `pad_token_id` to `eos_token_id`:None for open-end generation.\n",
      "Setting `pad_token_id` to `eos_token_id`:None for open-end generation.\n",
      "Setting `pad_token_id` to `eos_token_id`:None for open-end generation.\n",
      "Setting `pad_token_id` to `eos_token_id`:None for open-end generation.\n",
      "Setting `pad_token_id` to `eos_token_id`:None for open-end generation.\n",
      "Setting `pad_token_id` to `eos_token_id`:None for open-end generation.\n",
      "Setting `pad_token_id` to `eos_token_id`:None for open-end generation.\n",
      "Setting `pad_token_id` to `eos_token_id`:None for open-end generation.\n",
      "Setting `pad_token_id` to `eos_token_id`:None for open-end generation.\n",
      "Setting `pad_token_id` to `eos_token_id`:None for open-end generation.\n",
      "Setting `pad_token_id` to `eos_token_id`:None for open-end generation.\n",
      "Setting `pad_token_id` to `eos_token_id`:None for open-end generation.\n",
      "Setting `pad_token_id` to `eos_token_id`:None for open-end generation.\n",
      "Setting `pad_token_id` to `eos_token_id`:None for open-end generation.\n",
      "Setting `pad_token_id` to `eos_token_id`:None for open-end generation.\n",
      "Setting `pad_token_id` to `eos_token_id`:None for open-end generation.\n",
      "Setting `pad_token_id` to `eos_token_id`:None for open-end generation.\n",
      "Setting `pad_token_id` to `eos_token_id`:None for open-end generation.\n",
      "Setting `pad_token_id` to `eos_token_id`:None for open-end generation.\n",
      "Setting `pad_token_id` to `eos_token_id`:None for open-end generation.\n",
      "Setting `pad_token_id` to `eos_token_id`:None for open-end generation.\n",
      "Setting `pad_token_id` to `eos_token_id`:None for open-end generation.\n",
      "Setting `pad_token_id` to `eos_token_id`:None for open-end generation.\n",
      "Setting `pad_token_id` to `eos_token_id`:None for open-end generation.\n",
      "Setting `pad_token_id` to `eos_token_id`:None for open-end generation.\n",
      "Setting `pad_token_id` to `eos_token_id`:None for open-end generation.\n",
      "Setting `pad_token_id` to `eos_token_id`:None for open-end generation.\n",
      "Setting `pad_token_id` to `eos_token_id`:None for open-end generation.\n",
      "Setting `pad_token_id` to `eos_token_id`:None for open-end generation.\n",
      "Setting `pad_token_id` to `eos_token_id`:None for open-end generation.\n",
      "Setting `pad_token_id` to `eos_token_id`:None for open-end generation.\n",
      "Setting `pad_token_id` to `eos_token_id`:None for open-end generation.\n",
      "Setting `pad_token_id` to `eos_token_id`:None for open-end generation.\n",
      "Setting `pad_token_id` to `eos_token_id`:None for open-end generation.\n",
      "Setting `pad_token_id` to `eos_token_id`:None for open-end generation.\n",
      "Setting `pad_token_id` to `eos_token_id`:None for open-end generation.\n",
      "Setting `pad_token_id` to `eos_token_id`:None for open-end generation.\n",
      "Setting `pad_token_id` to `eos_token_id`:None for open-end generation.\n",
      "Setting `pad_token_id` to `eos_token_id`:None for open-end generation.\n",
      "Setting `pad_token_id` to `eos_token_id`:None for open-end generation.\n",
      "Setting `pad_token_id` to `eos_token_id`:None for open-end generation.\n",
      "Setting `pad_token_id` to `eos_token_id`:None for open-end generation.\n",
      "Setting `pad_token_id` to `eos_token_id`:None for open-end generation.\n",
      "Setting `pad_token_id` to `eos_token_id`:None for open-end generation.\n",
      "Setting `pad_token_id` to `eos_token_id`:None for open-end generation.\n",
      "Setting `pad_token_id` to `eos_token_id`:None for open-end generation.\n",
      "Setting `pad_token_id` to `eos_token_id`:None for open-end generation.\n",
      "Setting `pad_token_id` to `eos_token_id`:None for open-end generation.\n",
      "Setting `pad_token_id` to `eos_token_id`:None for open-end generation.\n",
      "Setting `pad_token_id` to `eos_token_id`:None for open-end generation.\n",
      "Setting `pad_token_id` to `eos_token_id`:None for open-end generation.\n",
      "Setting `pad_token_id` to `eos_token_id`:None for open-end generation.\n",
      "Setting `pad_token_id` to `eos_token_id`:None for open-end generation.\n",
      "Setting `pad_token_id` to `eos_token_id`:None for open-end generation.\n",
      "Setting `pad_token_id` to `eos_token_id`:None for open-end generation.\n",
      "Setting `pad_token_id` to `eos_token_id`:None for open-end generation.\n",
      "Setting `pad_token_id` to `eos_token_id`:None for open-end generation.\n",
      "Setting `pad_token_id` to `eos_token_id`:None for open-end generation.\n",
      "Setting `pad_token_id` to `eos_token_id`:None for open-end generation.\n",
      "Setting `pad_token_id` to `eos_token_id`:None for open-end generation.\n",
      "Setting `pad_token_id` to `eos_token_id`:None for open-end generation.\n",
      "Setting `pad_token_id` to `eos_token_id`:None for open-end generation.\n",
      "Setting `pad_token_id` to `eos_token_id`:None for open-end generation.\n",
      "Setting `pad_token_id` to `eos_token_id`:None for open-end generation.\n",
      "Setting `pad_token_id` to `eos_token_id`:None for open-end generation.\n",
      "Setting `pad_token_id` to `eos_token_id`:None for open-end generation.\n",
      "Setting `pad_token_id` to `eos_token_id`:None for open-end generation.\n",
      "Setting `pad_token_id` to `eos_token_id`:None for open-end generation.\n",
      "Setting `pad_token_id` to `eos_token_id`:None for open-end generation.\n",
      "Setting `pad_token_id` to `eos_token_id`:None for open-end generation.\n",
      "Setting `pad_token_id` to `eos_token_id`:None for open-end generation.\n",
      "Setting `pad_token_id` to `eos_token_id`:None for open-end generation.\n",
      "Setting `pad_token_id` to `eos_token_id`:None for open-end generation.\n",
      "Setting `pad_token_id` to `eos_token_id`:None for open-end generation.\n",
      "Setting `pad_token_id` to `eos_token_id`:None for open-end generation.\n",
      "Setting `pad_token_id` to `eos_token_id`:None for open-end generation.\n",
      "Setting `pad_token_id` to `eos_token_id`:None for open-end generation.\n",
      "Setting `pad_token_id` to `eos_token_id`:None for open-end generation.\n",
      "Setting `pad_token_id` to `eos_token_id`:None for open-end generation.\n",
      "Setting `pad_token_id` to `eos_token_id`:None for open-end generation.\n",
      "Setting `pad_token_id` to `eos_token_id`:None for open-end generation.\n",
      "Setting `pad_token_id` to `eos_token_id`:None for open-end generation.\n",
      "Setting `pad_token_id` to `eos_token_id`:None for open-end generation.\n",
      "Setting `pad_token_id` to `eos_token_id`:None for open-end generation.\n",
      "Setting `pad_token_id` to `eos_token_id`:None for open-end generation.\n",
      "Setting `pad_token_id` to `eos_token_id`:None for open-end generation.\n",
      "Setting `pad_token_id` to `eos_token_id`:None for open-end generation.\n",
      "Setting `pad_token_id` to `eos_token_id`:None for open-end generation.\n",
      "Setting `pad_token_id` to `eos_token_id`:None for open-end generation.\n",
      "Setting `pad_token_id` to `eos_token_id`:None for open-end generation.\n",
      "Setting `pad_token_id` to `eos_token_id`:None for open-end generation.\n",
      "Setting `pad_token_id` to `eos_token_id`:None for open-end generation.\n",
      "Setting `pad_token_id` to `eos_token_id`:None for open-end generation.\n",
      "Setting `pad_token_id` to `eos_token_id`:None for open-end generation.\n",
      "Setting `pad_token_id` to `eos_token_id`:None for open-end generation.\n",
      "Setting `pad_token_id` to `eos_token_id`:None for open-end generation.\n",
      "Setting `pad_token_id` to `eos_token_id`:None for open-end generation.\n",
      "Setting `pad_token_id` to `eos_token_id`:None for open-end generation.\n",
      "Setting `pad_token_id` to `eos_token_id`:None for open-end generation.\n",
      "Setting `pad_token_id` to `eos_token_id`:None for open-end generation.\n",
      "Setting `pad_token_id` to `eos_token_id`:None for open-end generation.\n",
      "Setting `pad_token_id` to `eos_token_id`:None for open-end generation.\n",
      "Setting `pad_token_id` to `eos_token_id`:None for open-end generation.\n",
      "Setting `pad_token_id` to `eos_token_id`:None for open-end generation.\n",
      "Setting `pad_token_id` to `eos_token_id`:None for open-end generation.\n",
      "Setting `pad_token_id` to `eos_token_id`:None for open-end generation.\n",
      "Setting `pad_token_id` to `eos_token_id`:None for open-end generation.\n",
      "Setting `pad_token_id` to `eos_token_id`:None for open-end generation.\n",
      "Setting `pad_token_id` to `eos_token_id`:None for open-end generation.\n",
      "Setting `pad_token_id` to `eos_token_id`:None for open-end generation.\n",
      "Setting `pad_token_id` to `eos_token_id`:None for open-end generation.\n",
      "Setting `pad_token_id` to `eos_token_id`:None for open-end generation.\n",
      "Setting `pad_token_id` to `eos_token_id`:None for open-end generation.\n",
      "Setting `pad_token_id` to `eos_token_id`:None for open-end generation.\n",
      "Setting `pad_token_id` to `eos_token_id`:None for open-end generation.\n",
      "Setting `pad_token_id` to `eos_token_id`:None for open-end generation.\n",
      "Setting `pad_token_id` to `eos_token_id`:None for open-end generation.\n",
      "Setting `pad_token_id` to `eos_token_id`:None for open-end generation.\n",
      "Setting `pad_token_id` to `eos_token_id`:None for open-end generation.\n",
      "Setting `pad_token_id` to `eos_token_id`:None for open-end generation.\n",
      "Setting `pad_token_id` to `eos_token_id`:None for open-end generation.\n",
      "Setting `pad_token_id` to `eos_token_id`:None for open-end generation.\n",
      "Setting `pad_token_id` to `eos_token_id`:None for open-end generation.\n",
      "Setting `pad_token_id` to `eos_token_id`:None for open-end generation.\n",
      "Setting `pad_token_id` to `eos_token_id`:None for open-end generation.\n",
      "Setting `pad_token_id` to `eos_token_id`:None for open-end generation.\n",
      "Setting `pad_token_id` to `eos_token_id`:None for open-end generation.\n",
      "Setting `pad_token_id` to `eos_token_id`:None for open-end generation.\n",
      "Setting `pad_token_id` to `eos_token_id`:None for open-end generation.\n",
      "Setting `pad_token_id` to `eos_token_id`:None for open-end generation.\n",
      "Setting `pad_token_id` to `eos_token_id`:None for open-end generation.\n",
      "Setting `pad_token_id` to `eos_token_id`:None for open-end generation.\n",
      "Setting `pad_token_id` to `eos_token_id`:None for open-end generation.\n",
      "Setting `pad_token_id` to `eos_token_id`:None for open-end generation.\n",
      "Setting `pad_token_id` to `eos_token_id`:None for open-end generation.\n",
      "Setting `pad_token_id` to `eos_token_id`:None for open-end generation.\n",
      "Setting `pad_token_id` to `eos_token_id`:None for open-end generation.\n",
      "Setting `pad_token_id` to `eos_token_id`:None for open-end generation.\n",
      "Setting `pad_token_id` to `eos_token_id`:None for open-end generation.\n",
      "Setting `pad_token_id` to `eos_token_id`:None for open-end generation.\n",
      "Setting `pad_token_id` to `eos_token_id`:None for open-end generation.\n",
      "Setting `pad_token_id` to `eos_token_id`:None for open-end generation.\n",
      "Setting `pad_token_id` to `eos_token_id`:None for open-end generation.\n",
      "Setting `pad_token_id` to `eos_token_id`:None for open-end generation.\n",
      "Setting `pad_token_id` to `eos_token_id`:None for open-end generation.\n",
      "Setting `pad_token_id` to `eos_token_id`:None for open-end generation.\n",
      "Setting `pad_token_id` to `eos_token_id`:None for open-end generation.\n",
      "Setting `pad_token_id` to `eos_token_id`:None for open-end generation.\n",
      "Setting `pad_token_id` to `eos_token_id`:None for open-end generation.\n",
      "Setting `pad_token_id` to `eos_token_id`:None for open-end generation.\n",
      "Setting `pad_token_id` to `eos_token_id`:None for open-end generation.\n",
      "Setting `pad_token_id` to `eos_token_id`:None for open-end generation.\n",
      "Setting `pad_token_id` to `eos_token_id`:None for open-end generation.\n",
      "Setting `pad_token_id` to `eos_token_id`:None for open-end generation.\n",
      "Setting `pad_token_id` to `eos_token_id`:None for open-end generation.\n",
      "Setting `pad_token_id` to `eos_token_id`:None for open-end generation.\n",
      "Setting `pad_token_id` to `eos_token_id`:None for open-end generation.\n"
     ]
    }
   ],
   "source": [
    "df['multiple_choice_prediction'] = df.apply(lambda x: perform_multiple_choice_task_llava(x['file_path'], x['multiple_choice_question']), axis=1)"
   ]
  },
  {
   "cell_type": "code",
   "execution_count": 8,
   "id": "fc0669fb",
   "metadata": {},
   "outputs": [
    {
     "data": {
      "text/html": [
       "<div>\n",
       "<style scoped>\n",
       "    .dataframe tbody tr th:only-of-type {\n",
       "        vertical-align: middle;\n",
       "    }\n",
       "\n",
       "    .dataframe tbody tr th {\n",
       "        vertical-align: top;\n",
       "    }\n",
       "\n",
       "    .dataframe thead th {\n",
       "        text-align: right;\n",
       "    }\n",
       "</style>\n",
       "<table border=\"1\" class=\"dataframe\">\n",
       "  <thead>\n",
       "    <tr style=\"text-align: right;\">\n",
       "      <th></th>\n",
       "      <th>id</th>\n",
       "      <th>file_path</th>\n",
       "      <th>caption</th>\n",
       "      <th>multiple_choice_solution</th>\n",
       "      <th>multiple_choice_question</th>\n",
       "      <th>multiple_choice_prediction</th>\n",
       "    </tr>\n",
       "  </thead>\n",
       "  <tbody>\n",
       "    <tr>\n",
       "      <th>0</th>\n",
       "      <td>46323</td>\n",
       "      <td>/shared/data/painting/picts/46323.jpg</td>\n",
       "      <td>women are bent over a river 's edge  ,  doing laundry</td>\n",
       "      <td>C</td>\n",
       "      <td>Which of the following captions best describes the painting?\\n\\nA) Women are sitting on a boat in the river, fishing.\\n\\nB) Women are bending over near a pond's shore, cooking.\\n\\nC) Women are bent over a river's edge, doing laundry.\\n\\nD) Woman are bending over river edge, working in the garden.</td>\n",
       "      <td>C</td>\n",
       "    </tr>\n",
       "  </tbody>\n",
       "</table>\n",
       "</div>"
      ],
      "text/plain": [
       "      id                              file_path  \\\n",
       "0  46323  /shared/data/painting/picts/46323.jpg   \n",
       "\n",
       "                                                 caption  \\\n",
       "0  women are bent over a river 's edge  ,  doing laundry   \n",
       "\n",
       "  multiple_choice_solution  \\\n",
       "0                        C   \n",
       "\n",
       "                                                                                                                                                                                                                                                                                    multiple_choice_question  \\\n",
       "0  Which of the following captions best describes the painting?\\n\\nA) Women are sitting on a boat in the river, fishing.\\n\\nB) Women are bending over near a pond's shore, cooking.\\n\\nC) Women are bent over a river's edge, doing laundry.\\n\\nD) Woman are bending over river edge, working in the garden.   \n",
       "\n",
       "  multiple_choice_prediction  \n",
       "0                          C  "
      ]
     },
     "execution_count": 8,
     "metadata": {},
     "output_type": "execute_result"
    }
   ],
   "source": [
    "df.head(1)"
   ]
  },
  {
   "cell_type": "code",
   "execution_count": 9,
   "id": "1663b700",
   "metadata": {},
   "outputs": [
    {
     "data": {
      "text/html": [
       "<div>\n",
       "<style scoped>\n",
       "    .dataframe tbody tr th:only-of-type {\n",
       "        vertical-align: middle;\n",
       "    }\n",
       "\n",
       "    .dataframe tbody tr th {\n",
       "        vertical-align: top;\n",
       "    }\n",
       "\n",
       "    .dataframe thead th {\n",
       "        text-align: right;\n",
       "    }\n",
       "</style>\n",
       "<table border=\"1\" class=\"dataframe\">\n",
       "  <thead>\n",
       "    <tr style=\"text-align: right;\">\n",
       "      <th></th>\n",
       "      <th>multiple_choice_solution</th>\n",
       "      <th>multiple_choice_prediction</th>\n",
       "    </tr>\n",
       "  </thead>\n",
       "  <tbody>\n",
       "    <tr>\n",
       "      <th>0</th>\n",
       "      <td>C</td>\n",
       "      <td>C</td>\n",
       "    </tr>\n",
       "    <tr>\n",
       "      <th>1</th>\n",
       "      <td>C</td>\n",
       "      <td>C</td>\n",
       "    </tr>\n",
       "    <tr>\n",
       "      <th>2</th>\n",
       "      <td>C</td>\n",
       "      <td>C</td>\n",
       "    </tr>\n",
       "    <tr>\n",
       "      <th>3</th>\n",
       "      <td>B</td>\n",
       "      <td>B</td>\n",
       "    </tr>\n",
       "    <tr>\n",
       "      <th>4</th>\n",
       "      <td>D</td>\n",
       "      <td>D</td>\n",
       "    </tr>\n",
       "    <tr>\n",
       "      <th>...</th>\n",
       "      <td>...</td>\n",
       "      <td>...</td>\n",
       "    </tr>\n",
       "    <tr>\n",
       "      <th>195</th>\n",
       "      <td>C</td>\n",
       "      <td>C</td>\n",
       "    </tr>\n",
       "    <tr>\n",
       "      <th>196</th>\n",
       "      <td>D</td>\n",
       "      <td>D</td>\n",
       "    </tr>\n",
       "    <tr>\n",
       "      <th>197</th>\n",
       "      <td>C</td>\n",
       "      <td>C</td>\n",
       "    </tr>\n",
       "    <tr>\n",
       "      <th>198</th>\n",
       "      <td>C</td>\n",
       "      <td>C</td>\n",
       "    </tr>\n",
       "    <tr>\n",
       "      <th>199</th>\n",
       "      <td>B</td>\n",
       "      <td>A</td>\n",
       "    </tr>\n",
       "  </tbody>\n",
       "</table>\n",
       "<p>200 rows × 2 columns</p>\n",
       "</div>"
      ],
      "text/plain": [
       "    multiple_choice_solution multiple_choice_prediction\n",
       "0                          C                          C\n",
       "1                          C                          C\n",
       "2                          C                          C\n",
       "3                          B                          B\n",
       "4                          D                          D\n",
       "..                       ...                        ...\n",
       "195                        C                          C\n",
       "196                        D                          D\n",
       "197                        C                          C\n",
       "198                        C                          C\n",
       "199                        B                          A\n",
       "\n",
       "[200 rows x 2 columns]"
      ]
     },
     "execution_count": 9,
     "metadata": {},
     "output_type": "execute_result"
    }
   ],
   "source": [
    "df[['multiple_choice_solution', 'multiple_choice_prediction']]"
   ]
  },
  {
   "cell_type": "code",
   "execution_count": 10,
   "id": "c00ef517",
   "metadata": {},
   "outputs": [
    {
     "name": "stdout",
     "output_type": "stream",
     "text": [
      "DataFrame saved as a list of dictionaries in /shared/data/painting/painting_with_MCQ_result.json\n"
     ]
    }
   ],
   "source": [
    "# Save the MCQ result\n",
    "\n",
    "# Convert DataFrame to a list of dictionaries\n",
    "list_of_dicts = df.to_dict(orient=\"records\")\n",
    "\n",
    "# Save the list of dictionaries to a JSON file\n",
    "output_file = \"/shared/data/painting/painting_with_MCQ_result.json\"\n",
    "\n",
    "with open(output_file, \"w\") as file:\n",
    "    json.dump(list_of_dicts, file, indent=4)\n",
    "\n",
    "print(f\"DataFrame saved as a list of dictionaries in {output_file}\")"
   ]
  },
  {
   "cell_type": "code",
   "execution_count": null,
   "id": "36f58338",
   "metadata": {},
   "outputs": [],
   "source": []
  },
  {
   "cell_type": "markdown",
   "id": "6e33e34b",
   "metadata": {},
   "source": [
    "## Perform Image Captioning Task"
   ]
  },
  {
   "cell_type": "code",
   "execution_count": 11,
   "id": "6fc753d5",
   "metadata": {},
   "outputs": [
    {
     "data": {
      "text/html": [
       "<div>\n",
       "<style scoped>\n",
       "    .dataframe tbody tr th:only-of-type {\n",
       "        vertical-align: middle;\n",
       "    }\n",
       "\n",
       "    .dataframe tbody tr th {\n",
       "        vertical-align: top;\n",
       "    }\n",
       "\n",
       "    .dataframe thead th {\n",
       "        text-align: right;\n",
       "    }\n",
       "</style>\n",
       "<table border=\"1\" class=\"dataframe\">\n",
       "  <thead>\n",
       "    <tr style=\"text-align: right;\">\n",
       "      <th></th>\n",
       "      <th>id</th>\n",
       "      <th>file_path</th>\n",
       "      <th>caption</th>\n",
       "      <th>multiple_choice_solution</th>\n",
       "      <th>multiple_choice_question</th>\n",
       "    </tr>\n",
       "  </thead>\n",
       "  <tbody>\n",
       "    <tr>\n",
       "      <th>0</th>\n",
       "      <td>46323</td>\n",
       "      <td>/shared/data/painting/picts/46323.jpg</td>\n",
       "      <td>women are bent over a river 's edge  ,  doing laundry</td>\n",
       "      <td>C</td>\n",
       "      <td>Which of the following captions best describes the painting?\\n\\nA) Women are sitting on a boat in the river, fishing.\\n\\nB) Women are bending over near a pond's shore, cooking.\\n\\nC) Women are bent over a river's edge, doing laundry.\\n\\nD) Woman are bending over river edge, working in the garden.</td>\n",
       "    </tr>\n",
       "  </tbody>\n",
       "</table>\n",
       "</div>"
      ],
      "text/plain": [
       "      id                              file_path  \\\n",
       "0  46323  /shared/data/painting/picts/46323.jpg   \n",
       "\n",
       "                                                 caption  \\\n",
       "0  women are bent over a river 's edge  ,  doing laundry   \n",
       "\n",
       "  multiple_choice_solution  \\\n",
       "0                        C   \n",
       "\n",
       "                                                                                                                                                                                                                                                                                    multiple_choice_question  \n",
       "0  Which of the following captions best describes the painting?\\n\\nA) Women are sitting on a boat in the river, fishing.\\n\\nB) Women are bending over near a pond's shore, cooking.\\n\\nC) Women are bent over a river's edge, doing laundry.\\n\\nD) Woman are bending over river edge, working in the garden.  "
      ]
     },
     "execution_count": 11,
     "metadata": {},
     "output_type": "execute_result"
    }
   ],
   "source": [
    "# Load annotation with multiple choice question data file\n",
    "import pandas as pd\n",
    "pd.set_option('display.max_colwidth', None)\n",
    "import json\n",
    "\n",
    "\n",
    "# Data Directory: \n",
    "#food_images_directory = '/shared/data/food_data/food_images/'\n",
    "food_annotation_file_path = '/shared/data/painting/painting_with_MCQ.json'\n",
    "\n",
    "\n",
    "# Method 1: Using pandas.read_json directly\n",
    "df = pd.read_json(food_annotation_file_path)\n",
    "\n",
    "df.head(1)"
   ]
  },
  {
   "cell_type": "code",
   "execution_count": 12,
   "id": "b51ee0c4",
   "metadata": {},
   "outputs": [],
   "source": [
    "# helper function: \n",
    "def perform_image_captioning_task_llava(img_path):\n",
    "    image = Image.open(img_path)\n",
    "    \n",
    "    conversation = [\n",
    "        {\n",
    "\n",
    "          \"role\": \"user\",\n",
    "          \"content\": [\n",
    "              {\"type\": \"text\", \"text\": \"Generate a caption for this image.\"},\n",
    "              {\"type\": \"image\"},\n",
    "            ],\n",
    "        },\n",
    "    ]\n",
    "    prompt = processor.apply_chat_template(conversation, add_generation_prompt=True)\n",
    "\n",
    "    inputs = processor(images=image, text=prompt, return_tensors=\"pt\").to(\"cuda:0\")\n",
    "\n",
    "    # autoregressively complete prompt\n",
    "    output = model.generate(**inputs, max_new_tokens=150)\n",
    "    output = processor.decode(output[0], skip_special_tokens=True)\n",
    "\n",
    "    caption = output.split('[/INST]')[1].strip()\n",
    "    print(caption)\n",
    "    return caption"
   ]
  },
  {
   "cell_type": "code",
   "execution_count": 13,
   "id": "510030c1",
   "metadata": {},
   "outputs": [
    {
     "name": "stderr",
     "output_type": "stream",
     "text": [
      "Setting `pad_token_id` to `eos_token_id`:None for open-end generation.\n"
     ]
    },
    {
     "name": "stderr",
     "output_type": "stream",
     "text": [
      "Setting `pad_token_id` to `eos_token_id`:None for open-end generation.\n"
     ]
    },
    {
     "name": "stdout",
     "output_type": "stream",
     "text": [
      "\"A serene gathering by the water's edge.\"\n"
     ]
    },
    {
     "name": "stderr",
     "output_type": "stream",
     "text": [
      "Setting `pad_token_id` to `eos_token_id`:None for open-end generation.\n"
     ]
    },
    {
     "name": "stdout",
     "output_type": "stream",
     "text": [
      "\"A serene beach scene, where the sea meets the sky, and life unfolds in the golden light of the setting sun.\"\n"
     ]
    },
    {
     "name": "stderr",
     "output_type": "stream",
     "text": [
      "Setting `pad_token_id` to `eos_token_id`:None for open-end generation.\n"
     ]
    },
    {
     "name": "stdout",
     "output_type": "stream",
     "text": [
      "\"A serene moment of reflection by the sea.\"\n"
     ]
    },
    {
     "name": "stderr",
     "output_type": "stream",
     "text": [
      "Setting `pad_token_id` to `eos_token_id`:None for open-end generation.\n"
     ]
    },
    {
     "name": "stdout",
     "output_type": "stream",
     "text": [
      "\"An intimate moment captured in art: a man and a child share a meal at a table, their expressions reflecting the warmth of their connection.\"\n"
     ]
    },
    {
     "name": "stderr",
     "output_type": "stream",
     "text": [
      "Setting `pad_token_id` to `eos_token_id`:None for open-end generation.\n"
     ]
    },
    {
     "name": "stdout",
     "output_type": "stream",
     "text": [
      "\"A serene moment in the countryside, where art and nature intertwine.\"\n"
     ]
    },
    {
     "name": "stderr",
     "output_type": "stream",
     "text": [
      "Setting `pad_token_id` to `eos_token_id`:None for open-end generation.\n"
     ]
    },
    {
     "name": "stdout",
     "output_type": "stream",
     "text": [
      "\"A moment of tranquility: a mother and child share a quiet moment in the comfort of their home.\"\n"
     ]
    },
    {
     "name": "stderr",
     "output_type": "stream",
     "text": [
      "Setting `pad_token_id` to `eos_token_id`:None for open-end generation.\n"
     ]
    },
    {
     "name": "stdout",
     "output_type": "stream",
     "text": [
      "\"Two ballerinas in a dance studio, captured in a moment of grace and elegance.\"\n"
     ]
    },
    {
     "name": "stderr",
     "output_type": "stream",
     "text": [
      "Setting `pad_token_id` to `eos_token_id`:None for open-end generation.\n"
     ]
    },
    {
     "name": "stdout",
     "output_type": "stream",
     "text": [
      "\"A serene afternoon by the pond, where life's simple pleasures are captured in a moment of tranquility.\"\n"
     ]
    },
    {
     "name": "stderr",
     "output_type": "stream",
     "text": [
      "Setting `pad_token_id` to `eos_token_id`:None for open-end generation.\n"
     ]
    },
    {
     "name": "stdout",
     "output_type": "stream",
     "text": [
      "\"A dance of harmony: A classical music performance captured in a painting.\"\n"
     ]
    },
    {
     "name": "stderr",
     "output_type": "stream",
     "text": [
      "Setting `pad_token_id` to `eos_token_id`:None for open-end generation.\n"
     ]
    },
    {
     "name": "stdout",
     "output_type": "stream",
     "text": [
      "\"A moment of tranquility: A woman in a historical dress, washing her hands at a vintage sink.\"\n"
     ]
    },
    {
     "name": "stderr",
     "output_type": "stream",
     "text": [
      "Setting `pad_token_id` to `eos_token_id`:None for open-end generation.\n"
     ]
    },
    {
     "name": "stdout",
     "output_type": "stream",
     "text": [
      "\"A serene rural scene with cows and a farmer's hut, captured in the impressionist style.\"\n"
     ]
    },
    {
     "name": "stderr",
     "output_type": "stream",
     "text": [
      "Setting `pad_token_id` to `eos_token_id`:None for open-end generation.\n"
     ]
    },
    {
     "name": "stdout",
     "output_type": "stream",
     "text": [
      "\"The Art of Bathing: A Study in Impressionism\"\n"
     ]
    },
    {
     "name": "stderr",
     "output_type": "stream",
     "text": [
      "Setting `pad_token_id` to `eos_token_id`:None for open-end generation.\n"
     ]
    },
    {
     "name": "stdout",
     "output_type": "stream",
     "text": [
      "\"Two young minds immersed in the world of books.\"\n"
     ]
    },
    {
     "name": "stderr",
     "output_type": "stream",
     "text": [
      "Setting `pad_token_id` to `eos_token_id`:None for open-end generation.\n"
     ]
    },
    {
     "name": "stdout",
     "output_type": "stream",
     "text": [
      "\"A moment of tranquility: A woman finds solace in the beauty of nature, her feet resting on the soft grass as she savors the serenity of the landscape.\"\n"
     ]
    },
    {
     "name": "stderr",
     "output_type": "stream",
     "text": [
      "Setting `pad_token_id` to `eos_token_id`:None for open-end generation.\n"
     ]
    },
    {
     "name": "stdout",
     "output_type": "stream",
     "text": [
      "\"A day in the life of a rural farmer, carrying the day's harvest on her head.\"\n"
     ]
    },
    {
     "name": "stderr",
     "output_type": "stream",
     "text": [
      "Setting `pad_token_id` to `eos_token_id`:None for open-end generation.\n"
     ]
    },
    {
     "name": "stdout",
     "output_type": "stream",
     "text": [
      "\"A lively gathering of musicians in a quaint village, under a dramatic sky.\"\n"
     ]
    },
    {
     "name": "stderr",
     "output_type": "stream",
     "text": [
      "Setting `pad_token_id` to `eos_token_id`:None for open-end generation.\n"
     ]
    },
    {
     "name": "stdout",
     "output_type": "stream",
     "text": [
      "\"A moment of quiet reflection, captured in the soft glow of a candlelit room.\"\n"
     ]
    },
    {
     "name": "stderr",
     "output_type": "stream",
     "text": [
      "Setting `pad_token_id` to `eos_token_id`:None for open-end generation.\n"
     ]
    },
    {
     "name": "stdout",
     "output_type": "stream",
     "text": [
      "\"A serene afternoon by the pond, where the girl and the swans share a moment of tranquility.\"\n"
     ]
    },
    {
     "name": "stderr",
     "output_type": "stream",
     "text": [
      "Setting `pad_token_id` to `eos_token_id`:None for open-end generation.\n"
     ]
    },
    {
     "name": "stdout",
     "output_type": "stream",
     "text": [
      "\"A serene afternoon in the garden, captured in the style of Fauvism.\"\n"
     ]
    },
    {
     "name": "stderr",
     "output_type": "stream",
     "text": [
      "Setting `pad_token_id` to `eos_token_id`:None for open-end generation.\n"
     ]
    },
    {
     "name": "stdout",
     "output_type": "stream",
     "text": [
      "\"A serene rural scene captured in the style of post-impressionism.\"\n"
     ]
    },
    {
     "name": "stderr",
     "output_type": "stream",
     "text": [
      "Setting `pad_token_id` to `eos_token_id`:None for open-end generation.\n"
     ]
    },
    {
     "name": "stdout",
     "output_type": "stream",
     "text": [
      "\"A serene moment in a garden, where the beauty of nature and the elegance of human grace intertwine.\"\n"
     ]
    },
    {
     "name": "stderr",
     "output_type": "stream",
     "text": [
      "Setting `pad_token_id` to `eos_token_id`:None for open-end generation.\n"
     ]
    },
    {
     "name": "stdout",
     "output_type": "stream",
     "text": [
      "\"A day at the beach: A lively scene of seaside leisure, with colorful umbrellas, a bustling boardwalk, and the sound of the ocean waves.\"\n"
     ]
    },
    {
     "name": "stderr",
     "output_type": "stream",
     "text": [
      "Setting `pad_token_id` to `eos_token_id`:None for open-end generation.\n"
     ]
    },
    {
     "name": "stdout",
     "output_type": "stream",
     "text": [
      "\"A young man, lost in thought, holds a book and a pair of shoes, perhaps contemplating the journey ahead.\"\n"
     ]
    },
    {
     "name": "stderr",
     "output_type": "stream",
     "text": [
      "Setting `pad_token_id` to `eos_token_id`:None for open-end generation.\n"
     ]
    },
    {
     "name": "stdout",
     "output_type": "stream",
     "text": [
      "\"A lively beach scene with people and boats, captured in the impressionist style.\"\n"
     ]
    },
    {
     "name": "stderr",
     "output_type": "stream",
     "text": [
      "Setting `pad_token_id` to `eos_token_id`:None for open-end generation.\n"
     ]
    },
    {
     "name": "stdout",
     "output_type": "stream",
     "text": [
      "\"A dance of life: the rhythm of movement and the harmony of nature.\"\n"
     ]
    },
    {
     "name": "stderr",
     "output_type": "stream",
     "text": [
      "Setting `pad_token_id` to `eos_token_id`:None for open-end generation.\n"
     ]
    },
    {
     "name": "stdout",
     "output_type": "stream",
     "text": [
      "\"A Ballet Dancer in a Dreamy Landscape\"\n"
     ]
    },
    {
     "name": "stderr",
     "output_type": "stream",
     "text": [
      "Setting `pad_token_id` to `eos_token_id`:None for open-end generation.\n"
     ]
    },
    {
     "name": "stdout",
     "output_type": "stream",
     "text": [
      "\"A serene moment on the water, with the tranquility of the sea and the calmness of the sky.\"\n"
     ]
    },
    {
     "name": "stderr",
     "output_type": "stream",
     "text": [
      "Setting `pad_token_id` to `eos_token_id`:None for open-end generation.\n"
     ]
    },
    {
     "name": "stdout",
     "output_type": "stream",
     "text": [
      "\"Two warriors in a dance of honor and valor.\"\n"
     ]
    },
    {
     "name": "stderr",
     "output_type": "stream",
     "text": [
      "Setting `pad_token_id` to `eos_token_id`:None for open-end generation.\n"
     ]
    },
    {
     "name": "stdout",
     "output_type": "stream",
     "text": [
      "\"Reflections of a moment of quiet contemplation.\"\n"
     ]
    },
    {
     "name": "stderr",
     "output_type": "stream",
     "text": [
      "Setting `pad_token_id` to `eos_token_id`:None for open-end generation.\n"
     ]
    },
    {
     "name": "stdout",
     "output_type": "stream",
     "text": [
      "\"A tender moment captured in black and white.\"\n"
     ]
    },
    {
     "name": "stderr",
     "output_type": "stream",
     "text": [
      "Setting `pad_token_id` to `eos_token_id`:None for open-end generation.\n"
     ]
    },
    {
     "name": "stdout",
     "output_type": "stream",
     "text": [
      "\"Contemplation by the Sea: A Moment of Reflection\"\n"
     ]
    },
    {
     "name": "stderr",
     "output_type": "stream",
     "text": [
      "Setting `pad_token_id` to `eos_token_id`:None for open-end generation.\n"
     ]
    },
    {
     "name": "stdout",
     "output_type": "stream",
     "text": [
      "\"A vibrant abstract still life with a hint of a figure, inviting the viewer to explore the interplay of colors and shapes.\"\n"
     ]
    },
    {
     "name": "stderr",
     "output_type": "stream",
     "text": [
      "Setting `pad_token_id` to `eos_token_id`:None for open-end generation.\n"
     ]
    },
    {
     "name": "stdout",
     "output_type": "stream",
     "text": [
      "\"A gathering of friends in a quaint village, sharing stories and laughter by the light of the moon.\"\n"
     ]
    },
    {
     "name": "stderr",
     "output_type": "stream",
     "text": [
      "Setting `pad_token_id` to `eos_token_id`:None for open-end generation.\n"
     ]
    },
    {
     "name": "stdout",
     "output_type": "stream",
     "text": [
      "\"A moment of tranquility amidst the dance of life.\"\n"
     ]
    },
    {
     "name": "stderr",
     "output_type": "stream",
     "text": [
      "Setting `pad_token_id` to `eos_token_id`:None for open-end generation.\n"
     ]
    },
    {
     "name": "stdout",
     "output_type": "stream",
     "text": [
      "\"A moment of quiet companionship captured in the stillness of a room.\"\n"
     ]
    },
    {
     "name": "stderr",
     "output_type": "stream",
     "text": [
      "Setting `pad_token_id` to `eos_token_id`:None for open-end generation.\n"
     ]
    },
    {
     "name": "stdout",
     "output_type": "stream",
     "text": [
      "\"A serene pastoral scene with horses and a mountainous landscape.\"\n"
     ]
    },
    {
     "name": "stderr",
     "output_type": "stream",
     "text": [
      "Setting `pad_token_id` to `eos_token_id`:None for open-end generation.\n"
     ]
    },
    {
     "name": "stdout",
     "output_type": "stream",
     "text": [
      "\"A moment of tranquility: A young girl immersed in the simple joy of a cup of tea in a serene garden setting.\"\n"
     ]
    },
    {
     "name": "stderr",
     "output_type": "stream",
     "text": [
      "Setting `pad_token_id` to `eos_token_id`:None for open-end generation.\n"
     ]
    },
    {
     "name": "stdout",
     "output_type": "stream",
     "text": [
      "\"A moment of elegance and innocence captured in a painting.\"\n"
     ]
    },
    {
     "name": "stderr",
     "output_type": "stream",
     "text": [
      "Setting `pad_token_id` to `eos_token_id`:None for open-end generation.\n"
     ]
    },
    {
     "name": "stdout",
     "output_type": "stream",
     "text": [
      "\"A moment of camaraderie amidst the harshness of nature.\"\n"
     ]
    },
    {
     "name": "stderr",
     "output_type": "stream",
     "text": [
      "Setting `pad_token_id` to `eos_token_id`:None for open-end generation.\n"
     ]
    },
    {
     "name": "stdout",
     "output_type": "stream",
     "text": [
      "\"A moment of quiet reflection in a cozy living room.\"\n"
     ]
    },
    {
     "name": "stderr",
     "output_type": "stream",
     "text": [
      "Setting `pad_token_id` to `eos_token_id`:None for open-end generation.\n"
     ]
    },
    {
     "name": "stdout",
     "output_type": "stream",
     "text": [
      "\"A group of jockeys and their horses, captured in the midst of a race, under a dramatic sky.\"\n"
     ]
    },
    {
     "name": "stderr",
     "output_type": "stream",
     "text": [
      "Setting `pad_token_id` to `eos_token_id`:None for open-end generation.\n"
     ]
    },
    {
     "name": "stdout",
     "output_type": "stream",
     "text": [
      "\"A serene moment on the water, as two men share a quiet conversation in their boat.\"\n"
     ]
    },
    {
     "name": "stderr",
     "output_type": "stream",
     "text": [
      "Setting `pad_token_id` to `eos_token_id`:None for open-end generation.\n"
     ]
    },
    {
     "name": "stdout",
     "output_type": "stream",
     "text": [
      "\"A serene gathering by the sea, where the horizon blends with the sky.\"\n"
     ]
    },
    {
     "name": "stderr",
     "output_type": "stream",
     "text": [
      "Setting `pad_token_id` to `eos_token_id`:None for open-end generation.\n"
     ]
    },
    {
     "name": "stdout",
     "output_type": "stream",
     "text": [
      "\"A serene moment of two jockeys and their horses, galloping through a field under the warm glow of the setting sun.\"\n"
     ]
    },
    {
     "name": "stderr",
     "output_type": "stream",
     "text": [
      "Setting `pad_token_id` to `eos_token_id`:None for open-end generation.\n"
     ]
    },
    {
     "name": "stdout",
     "output_type": "stream",
     "text": [
      "\"Two figures in a field, captured in the impressionist style.\"\n"
     ]
    },
    {
     "name": "stderr",
     "output_type": "stream",
     "text": [
      "Setting `pad_token_id` to `eos_token_id`:None for open-end generation.\n"
     ]
    },
    {
     "name": "stdout",
     "output_type": "stream",
     "text": [
      "\"A moment of quiet reflection in a cozy setting.\"\n"
     ]
    },
    {
     "name": "stderr",
     "output_type": "stream",
     "text": [
      "Setting `pad_token_id` to `eos_token_id`:None for open-end generation.\n"
     ]
    },
    {
     "name": "stdout",
     "output_type": "stream",
     "text": [
      "\"A moment of quiet reflection in the mirror.\"\n"
     ]
    },
    {
     "name": "stderr",
     "output_type": "stream",
     "text": [
      "Setting `pad_token_id` to `eos_token_id`:None for open-end generation.\n"
     ]
    },
    {
     "name": "stdout",
     "output_type": "stream",
     "text": [
      "\"A serene afternoon in the garden, where the flowers bloom and the tea is served.\"\n"
     ]
    },
    {
     "name": "stderr",
     "output_type": "stream",
     "text": [
      "Setting `pad_token_id` to `eos_token_id`:None for open-end generation.\n"
     ]
    },
    {
     "name": "stdout",
     "output_type": "stream",
     "text": [
      "\"A moment of quiet reflection, as the world outside the window unfolds.\"\n"
     ]
    },
    {
     "name": "stderr",
     "output_type": "stream",
     "text": [
      "Setting `pad_token_id` to `eos_token_id`:None for open-end generation.\n"
     ]
    },
    {
     "name": "stdout",
     "output_type": "stream",
     "text": [
      "\"A moment of quiet reflection in the heart of a bustling city.\"\n"
     ]
    },
    {
     "name": "stderr",
     "output_type": "stream",
     "text": [
      "Setting `pad_token_id` to `eos_token_id`:None for open-end generation.\n"
     ]
    },
    {
     "name": "stdout",
     "output_type": "stream",
     "text": [
      "\"A solitary figure in a landscape, captured in the impressionist style.\"\n"
     ]
    },
    {
     "name": "stderr",
     "output_type": "stream",
     "text": [
      "Setting `pad_token_id` to `eos_token_id`:None for open-end generation.\n"
     ]
    },
    {
     "name": "stdout",
     "output_type": "stream",
     "text": [
      "\"A surreal portrait of a woman, her face blending with the surrounding abstract elements, evoking a dreamlike atmosphere.\"\n"
     ]
    },
    {
     "name": "stderr",
     "output_type": "stream",
     "text": [
      "Setting `pad_token_id` to `eos_token_id`:None for open-end generation.\n"
     ]
    },
    {
     "name": "stdout",
     "output_type": "stream",
     "text": [
      "\"A surreal encounter between a painter and his muse in a dreamlike setting.\"\n"
     ]
    },
    {
     "name": "stderr",
     "output_type": "stream",
     "text": [
      "Setting `pad_token_id` to `eos_token_id`:None for open-end generation.\n"
     ]
    },
    {
     "name": "stdout",
     "output_type": "stream",
     "text": [
      "\"A whimsical scene of childhood innocence and imagination, captured in the heart of a cozy room.\"\n"
     ]
    },
    {
     "name": "stderr",
     "output_type": "stream",
     "text": [
      "Setting `pad_token_id` to `eos_token_id`:None for open-end generation.\n"
     ]
    },
    {
     "name": "stdout",
     "output_type": "stream",
     "text": [
      "\"A serene day at the lake, with the tranquility of nature and the joy of leisure.\"\n"
     ]
    },
    {
     "name": "stderr",
     "output_type": "stream",
     "text": [
      "Setting `pad_token_id` to `eos_token_id`:None for open-end generation.\n"
     ]
    },
    {
     "name": "stdout",
     "output_type": "stream",
     "text": [
      "\"A serene gathering in a picturesque landscape, where the sky meets the earth in a dance of colors.\"\n"
     ]
    },
    {
     "name": "stderr",
     "output_type": "stream",
     "text": [
      "Setting `pad_token_id` to `eos_token_id`:None for open-end generation.\n"
     ]
    },
    {
     "name": "stdout",
     "output_type": "stream",
     "text": [
      "\"A moment of quiet conversation in a bustling Victorian pub.\"\n"
     ]
    },
    {
     "name": "stderr",
     "output_type": "stream",
     "text": [
      "Setting `pad_token_id` to `eos_token_id`:None for open-end generation.\n"
     ]
    },
    {
     "name": "stdout",
     "output_type": "stream",
     "text": [
      "\"A serene landscape with a castle-like building, under a sky filled with clouds.\"\n"
     ]
    },
    {
     "name": "stderr",
     "output_type": "stream",
     "text": [
      "Setting `pad_token_id` to `eos_token_id`:None for open-end generation.\n"
     ]
    },
    {
     "name": "stdout",
     "output_type": "stream",
     "text": [
      "\"A moment of camaraderie and conversation in a cozy setting.\"\n"
     ]
    },
    {
     "name": "stderr",
     "output_type": "stream",
     "text": [
      "Setting `pad_token_id` to `eos_token_id`:None for open-end generation.\n"
     ]
    },
    {
     "name": "stdout",
     "output_type": "stream",
     "text": [
      "\"A lively gathering in a park, where the colors of nature and the attire of the people blend harmoniously.\"\n"
     ]
    },
    {
     "name": "stderr",
     "output_type": "stream",
     "text": [
      "Setting `pad_token_id` to `eos_token_id`:None for open-end generation.\n"
     ]
    },
    {
     "name": "stdout",
     "output_type": "stream",
     "text": [
      "\"A romantic dance in a park, where the colors of nature blend with the elegance of the couple's attire.\"\n"
     ]
    },
    {
     "name": "stderr",
     "output_type": "stream",
     "text": [
      "Setting `pad_token_id` to `eos_token_id`:None for open-end generation.\n"
     ]
    },
    {
     "name": "stdout",
     "output_type": "stream",
     "text": [
      "\"A moment of quiet reflection in the heart of the city.\"\n"
     ]
    },
    {
     "name": "stderr",
     "output_type": "stream",
     "text": [
      "Setting `pad_token_id` to `eos_token_id`:None for open-end generation.\n"
     ]
    },
    {
     "name": "stdout",
     "output_type": "stream",
     "text": [
      "\"A lively scene at the beach, where the umbrellas provide a colorful canopy for the people to enjoy the seaside atmosphere.\"\n"
     ]
    },
    {
     "name": "stderr",
     "output_type": "stream",
     "text": [
      "Setting `pad_token_id` to `eos_token_id`:None for open-end generation.\n"
     ]
    },
    {
     "name": "stdout",
     "output_type": "stream",
     "text": [
      "\"An artistic portrayal of a man and his feline companion sharing a quiet moment at a table.\"\n"
     ]
    },
    {
     "name": "stderr",
     "output_type": "stream",
     "text": [
      "Setting `pad_token_id` to `eos_token_id`:None for open-end generation.\n"
     ]
    },
    {
     "name": "stdout",
     "output_type": "stream",
     "text": [
      "\"A lively gathering in a park, where the colors of nature and the attire of the people blend harmoniously.\"\n"
     ]
    },
    {
     "name": "stderr",
     "output_type": "stream",
     "text": [
      "Setting `pad_token_id` to `eos_token_id`:None for open-end generation.\n"
     ]
    },
    {
     "name": "stdout",
     "output_type": "stream",
     "text": [
      "\"A moment of quiet reflection in an urban setting.\"\n"
     ]
    },
    {
     "name": "stderr",
     "output_type": "stream",
     "text": [
      "Setting `pad_token_id` to `eos_token_id`:None for open-end generation.\n"
     ]
    },
    {
     "name": "stdout",
     "output_type": "stream",
     "text": [
      "\"A serene moment of friendship and relaxation in the park.\"\n"
     ]
    },
    {
     "name": "stderr",
     "output_type": "stream",
     "text": [
      "Setting `pad_token_id` to `eos_token_id`:None for open-end generation.\n"
     ]
    },
    {
     "name": "stdout",
     "output_type": "stream",
     "text": [
      "\"A vibrant gathering of figures, their forms intertwined in a dance of color and emotion.\"\n"
     ]
    },
    {
     "name": "stderr",
     "output_type": "stream",
     "text": [
      "Setting `pad_token_id` to `eos_token_id`:None for open-end generation.\n"
     ]
    },
    {
     "name": "stdout",
     "output_type": "stream",
     "text": [
      "\"A serene day in a small town, where life moves at the pace of the river.\"\n"
     ]
    },
    {
     "name": "stderr",
     "output_type": "stream",
     "text": [
      "Setting `pad_token_id` to `eos_token_id`:None for open-end generation.\n"
     ]
    },
    {
     "name": "stdout",
     "output_type": "stream",
     "text": [
      "\"A solitary figure in a serene landscape, 1935.\"\n"
     ]
    },
    {
     "name": "stderr",
     "output_type": "stream",
     "text": [
      "Setting `pad_token_id` to `eos_token_id`:None for open-end generation.\n"
     ]
    },
    {
     "name": "stdout",
     "output_type": "stream",
     "text": [
      "\"Three women in colorful attire, each with a unique expression, standing together in a vibrant and abstract setting.\"\n"
     ]
    },
    {
     "name": "stderr",
     "output_type": "stream",
     "text": [
      "Setting `pad_token_id` to `eos_token_id`:None for open-end generation.\n"
     ]
    },
    {
     "name": "stdout",
     "output_type": "stream",
     "text": [
      "\"A moment of quiet reflection in a bustling cityscape.\"\n"
     ]
    },
    {
     "name": "stderr",
     "output_type": "stream",
     "text": [
      "Setting `pad_token_id` to `eos_token_id`:None for open-end generation.\n"
     ]
    },
    {
     "name": "stdout",
     "output_type": "stream",
     "text": [
      "\"A serene day at the harbor, where life unfolds on the water's edge.\"\n"
     ]
    },
    {
     "name": "stderr",
     "output_type": "stream",
     "text": [
      "Setting `pad_token_id` to `eos_token_id`:None for open-end generation.\n"
     ]
    },
    {
     "name": "stdout",
     "output_type": "stream",
     "text": [
      "\"A serene gathering of equestrians in a pastoral landscape, under the soft glow of a setting sun.\"\n"
     ]
    },
    {
     "name": "stderr",
     "output_type": "stream",
     "text": [
      "Setting `pad_token_id` to `eos_token_id`:None for open-end generation.\n"
     ]
    },
    {
     "name": "stdout",
     "output_type": "stream",
     "text": [
      "\"A moment of tranquility: two young girls share a story in the heart of nature.\"\n"
     ]
    },
    {
     "name": "stderr",
     "output_type": "stream",
     "text": [
      "Setting `pad_token_id` to `eos_token_id`:None for open-end generation.\n"
     ]
    },
    {
     "name": "stdout",
     "output_type": "stream",
     "text": [
      "\"A surreal encounter between two figures, each with a distinct expression and attire, set against a backdrop of a chair and a book.\"\n"
     ]
    },
    {
     "name": "stderr",
     "output_type": "stream",
     "text": [
      "Setting `pad_token_id` to `eos_token_id`:None for open-end generation.\n"
     ]
    },
    {
     "name": "stdout",
     "output_type": "stream",
     "text": [
      "\"A young boy in a pink shirt, immersed in the joy of nature, reaches out to a vibrant yellow flower in a field of blooms.\"\n"
     ]
    },
    {
     "name": "stderr",
     "output_type": "stream",
     "text": [
      "Setting `pad_token_id` to `eos_token_id`:None for open-end generation.\n"
     ]
    },
    {
     "name": "stdout",
     "output_type": "stream",
     "text": [
      "\"Two figures in a room, their forms intertwined with the vibrant hues of the painting.\"\n"
     ]
    },
    {
     "name": "stderr",
     "output_type": "stream",
     "text": [
      "Setting `pad_token_id` to `eos_token_id`:None for open-end generation.\n"
     ]
    },
    {
     "name": "stdout",
     "output_type": "stream",
     "text": [
      "\"A moment of camaraderie in a bygone era.\"\n"
     ]
    },
    {
     "name": "stderr",
     "output_type": "stream",
     "text": [
      "Setting `pad_token_id` to `eos_token_id`:None for open-end generation.\n"
     ]
    },
    {
     "name": "stdout",
     "output_type": "stream",
     "text": [
      "\"A rugged path through a mountainous landscape, where the elements of nature have left their mark.\"\n"
     ]
    },
    {
     "name": "stderr",
     "output_type": "stream",
     "text": [
      "Setting `pad_token_id` to `eos_token_id`:None for open-end generation.\n"
     ]
    },
    {
     "name": "stdout",
     "output_type": "stream",
     "text": [
      "\"A tender moment captured in a sketch, where two figures share a kiss, their love transcending the boundaries of their forms.\"\n"
     ]
    },
    {
     "name": "stderr",
     "output_type": "stream",
     "text": [
      "Setting `pad_token_id` to `eos_token_id`:None for open-end generation.\n"
     ]
    },
    {
     "name": "stdout",
     "output_type": "stream",
     "text": [
      "\"A serene moment in a garden, where the beauty of nature and the elegance of a woman's attire blend harmoniously.\"\n"
     ]
    },
    {
     "name": "stderr",
     "output_type": "stream",
     "text": [
      "Setting `pad_token_id` to `eos_token_id`:None for open-end generation.\n"
     ]
    },
    {
     "name": "stdout",
     "output_type": "stream",
     "text": [
      "\"A young girl in a white dress, lost in thought, with a serene backdrop of a sleeping figure.\"\n"
     ]
    },
    {
     "name": "stderr",
     "output_type": "stream",
     "text": [
      "Setting `pad_token_id` to `eos_token_id`:None for open-end generation.\n"
     ]
    },
    {
     "name": "stdout",
     "output_type": "stream",
     "text": [
      "\"Elegance in Motion: A Dance of Art and Expression\"\n"
     ]
    },
    {
     "name": "stderr",
     "output_type": "stream",
     "text": [
      "Setting `pad_token_id` to `eos_token_id`:None for open-end generation.\n"
     ]
    },
    {
     "name": "stdout",
     "output_type": "stream",
     "text": [
      "\"A serene moment of leisure by the sea.\"\n"
     ]
    },
    {
     "name": "stderr",
     "output_type": "stream",
     "text": [
      "Setting `pad_token_id` to `eos_token_id`:None for open-end generation.\n"
     ]
    },
    {
     "name": "stdout",
     "output_type": "stream",
     "text": [
      "\"A moment of elegance and intrigue in a vintage setting.\"\n"
     ]
    },
    {
     "name": "stderr",
     "output_type": "stream",
     "text": [
      "Setting `pad_token_id` to `eos_token_id`:None for open-end generation.\n"
     ]
    },
    {
     "name": "stdout",
     "output_type": "stream",
     "text": [
      "\"A Gathering of Family and Friends in a Rustic Courtyard\"\n"
     ]
    },
    {
     "name": "stderr",
     "output_type": "stream",
     "text": [
      "Setting `pad_token_id` to `eos_token_id`:None for open-end generation.\n"
     ]
    },
    {
     "name": "stdout",
     "output_type": "stream",
     "text": [
      "\"A moment of quiet reflection in an artist's studio.\"\n"
     ]
    },
    {
     "name": "stderr",
     "output_type": "stream",
     "text": [
      "Setting `pad_token_id` to `eos_token_id`:None for open-end generation.\n"
     ]
    },
    {
     "name": "stdout",
     "output_type": "stream",
     "text": [
      "\"A moment of quiet reflection.\"\n"
     ]
    },
    {
     "name": "stderr",
     "output_type": "stream",
     "text": [
      "Setting `pad_token_id` to `eos_token_id`:None for open-end generation.\n"
     ]
    },
    {
     "name": "stdout",
     "output_type": "stream",
     "text": [
      "\"A tender moment captured in art: a mother's love and care for her child.\"\n"
     ]
    },
    {
     "name": "stderr",
     "output_type": "stream",
     "text": [
      "Setting `pad_token_id` to `eos_token_id`:None for open-end generation.\n"
     ]
    },
    {
     "name": "stdout",
     "output_type": "stream",
     "text": [
      "\"A young girl stands contemplatively in a serene garden, with the warm glow of a setting sun casting long shadows and bathing the scene in a soft, golden light.\"\n"
     ]
    },
    {
     "name": "stderr",
     "output_type": "stream",
     "text": [
      "Setting `pad_token_id` to `eos_token_id`:None for open-end generation.\n"
     ]
    },
    {
     "name": "stdout",
     "output_type": "stream",
     "text": [
      "\"A moment of tranquility in the wilderness, where man and nature coexist in harmony.\"\n"
     ]
    },
    {
     "name": "stderr",
     "output_type": "stream",
     "text": [
      "Setting `pad_token_id` to `eos_token_id`:None for open-end generation.\n"
     ]
    },
    {
     "name": "stdout",
     "output_type": "stream",
     "text": [
      "\"A congregation of faith, gathered under the watchful gaze of the church.\"\n"
     ]
    },
    {
     "name": "stderr",
     "output_type": "stream",
     "text": [
      "Setting `pad_token_id` to `eos_token_id`:None for open-end generation.\n"
     ]
    },
    {
     "name": "stdout",
     "output_type": "stream",
     "text": [
      "\"A moment of quiet reflection in a traditional setting.\"\n"
     ]
    },
    {
     "name": "stderr",
     "output_type": "stream",
     "text": [
      "Setting `pad_token_id` to `eos_token_id`:None for open-end generation.\n"
     ]
    },
    {
     "name": "stdout",
     "output_type": "stream",
     "text": [
      "\"A woman in a blue dress, hanging laundry in a garden setting.\"\n"
     ]
    },
    {
     "name": "stderr",
     "output_type": "stream",
     "text": [
      "Setting `pad_token_id` to `eos_token_id`:None for open-end generation.\n"
     ]
    },
    {
     "name": "stdout",
     "output_type": "stream",
     "text": [
      "\"A whimsical encounter in a dreamlike landscape.\"\n"
     ]
    },
    {
     "name": "stderr",
     "output_type": "stream",
     "text": [
      "Setting `pad_token_id` to `eos_token_id`:None for open-end generation.\n"
     ]
    },
    {
     "name": "stdout",
     "output_type": "stream",
     "text": [
      "\"Elegance in Motion: A Ballet Dancer in a Studio\"\n"
     ]
    },
    {
     "name": "stderr",
     "output_type": "stream",
     "text": [
      "Setting `pad_token_id` to `eos_token_id`:None for open-end generation.\n"
     ]
    },
    {
     "name": "stdout",
     "output_type": "stream",
     "text": [
      "\"A serene village scene, where life unfolds amidst the tranquility of nature.\"\n"
     ]
    },
    {
     "name": "stderr",
     "output_type": "stream",
     "text": [
      "Setting `pad_token_id` to `eos_token_id`:None for open-end generation.\n"
     ]
    },
    {
     "name": "stdout",
     "output_type": "stream",
     "text": [
      "\"Contemplation and elegance: a moment of quiet reflection between two women in a luxurious setting.\"\n"
     ]
    },
    {
     "name": "stderr",
     "output_type": "stream",
     "text": [
      "Setting `pad_token_id` to `eos_token_id`:None for open-end generation.\n"
     ]
    },
    {
     "name": "stdout",
     "output_type": "stream",
     "text": [
      "\"A Mother and Child in the Countryside, with a flock of birds in the foreground.\"\n"
     ]
    },
    {
     "name": "stderr",
     "output_type": "stream",
     "text": [
      "Setting `pad_token_id` to `eos_token_id`:None for open-end generation.\n"
     ]
    },
    {
     "name": "stdout",
     "output_type": "stream",
     "text": [
      "\"A quiet moment shared between two individuals, captured in the timeless art of impressionism.\"\n"
     ]
    },
    {
     "name": "stderr",
     "output_type": "stream",
     "text": [
      "Setting `pad_token_id` to `eos_token_id`:None for open-end generation.\n"
     ]
    },
    {
     "name": "stdout",
     "output_type": "stream",
     "text": [
      "\"A group of children enjoying a day of fun in the water, with a sense of camaraderie and adventure.\"\n"
     ]
    },
    {
     "name": "stderr",
     "output_type": "stream",
     "text": [
      "Setting `pad_token_id` to `eos_token_id`:None for open-end generation.\n"
     ]
    },
    {
     "name": "stdout",
     "output_type": "stream",
     "text": [
      "\"A serene day at the beach, where the sun casts long shadows and the sand is a canvas for the day's adventures.\"\n"
     ]
    },
    {
     "name": "stderr",
     "output_type": "stream",
     "text": [
      "Setting `pad_token_id` to `eos_token_id`:None for open-end generation.\n"
     ]
    },
    {
     "name": "stdout",
     "output_type": "stream",
     "text": [
      "\"A serene beach scene with a boat and a person, captured in the impressionist style.\"\n"
     ]
    },
    {
     "name": "stderr",
     "output_type": "stream",
     "text": [
      "Setting `pad_token_id` to `eos_token_id`:None for open-end generation.\n"
     ]
    },
    {
     "name": "stdout",
     "output_type": "stream",
     "text": [
      "\"A tender moment captured in the impressionist style.\"\n"
     ]
    },
    {
     "name": "stderr",
     "output_type": "stream",
     "text": [
      "Setting `pad_token_id` to `eos_token_id`:None for open-end generation.\n"
     ]
    },
    {
     "name": "stdout",
     "output_type": "stream",
     "text": [
      "\"A serene moment of tranquility and companionship in the embrace of nature.\"\n"
     ]
    },
    {
     "name": "stderr",
     "output_type": "stream",
     "text": [
      "Setting `pad_token_id` to `eos_token_id`:None for open-end generation.\n"
     ]
    },
    {
     "name": "stdout",
     "output_type": "stream",
     "text": [
      "\"A moment of quiet concentration as the woman weaves a tapestry of life's stories.\"\n"
     ]
    },
    {
     "name": "stderr",
     "output_type": "stream",
     "text": [
      "Setting `pad_token_id` to `eos_token_id`:None for open-end generation.\n"
     ]
    },
    {
     "name": "stdout",
     "output_type": "stream",
     "text": [
      "\"A serene moment of a woman immersed in the beauty of music, surrounded by the delicate elegance of flowers.\"\n"
     ]
    },
    {
     "name": "stderr",
     "output_type": "stream",
     "text": [
      "Setting `pad_token_id` to `eos_token_id`:None for open-end generation.\n"
     ]
    },
    {
     "name": "stdout",
     "output_type": "stream",
     "text": [
      "\"A Rainy Day in Paris: A Couple Strolls Amidst the City's Charm\"\n"
     ]
    },
    {
     "name": "stderr",
     "output_type": "stream",
     "text": [
      "Setting `pad_token_id` to `eos_token_id`:None for open-end generation.\n"
     ]
    },
    {
     "name": "stdout",
     "output_type": "stream",
     "text": [
      "\"A Gathering of Equestrian Gentlemen in a Field of Dreams\"\n"
     ]
    },
    {
     "name": "stderr",
     "output_type": "stream",
     "text": [
      "Setting `pad_token_id` to `eos_token_id`:None for open-end generation.\n"
     ]
    },
    {
     "name": "stdout",
     "output_type": "stream",
     "text": [
      "\"A serene moment of two women sharing a moment of tranquility in a garden, captured in the impressionist style.\"\n"
     ]
    },
    {
     "name": "stderr",
     "output_type": "stream",
     "text": [
      "Setting `pad_token_id` to `eos_token_id`:None for open-end generation.\n"
     ]
    },
    {
     "name": "stdout",
     "output_type": "stream",
     "text": [
      "\"A dance of elegance and grace.\"\n"
     ]
    },
    {
     "name": "stderr",
     "output_type": "stream",
     "text": [
      "Setting `pad_token_id` to `eos_token_id`:None for open-end generation.\n"
     ]
    },
    {
     "name": "stdout",
     "output_type": "stream",
     "text": [
      "\"A serene moment of solitude in the embrace of nature.\"\n"
     ]
    },
    {
     "name": "stderr",
     "output_type": "stream",
     "text": [
      "Setting `pad_token_id` to `eos_token_id`:None for open-end generation.\n"
     ]
    },
    {
     "name": "stdout",
     "output_type": "stream",
     "text": [
      "\"Autumn's Embrace: A Group of People Strolls Through a Park, Amidst the Falling Leaves and the Fading Light of Day.\"\n"
     ]
    },
    {
     "name": "stderr",
     "output_type": "stream",
     "text": [
      "Setting `pad_token_id` to `eos_token_id`:None for open-end generation.\n"
     ]
    },
    {
     "name": "stdout",
     "output_type": "stream",
     "text": [
      "\"A day in the life of Paris, captured in the sketch of a group of people strolling along the Seine.\"\n"
     ]
    },
    {
     "name": "stderr",
     "output_type": "stream",
     "text": [
      "Setting `pad_token_id` to `eos_token_id`:None for open-end generation.\n"
     ]
    },
    {
     "name": "stdout",
     "output_type": "stream",
     "text": [
      "\"A dance of life and artistry, captured in a single, breathtaking moment.\"\n"
     ]
    },
    {
     "name": "stderr",
     "output_type": "stream",
     "text": [
      "Setting `pad_token_id` to `eos_token_id`:None for open-end generation.\n"
     ]
    },
    {
     "name": "stdout",
     "output_type": "stream",
     "text": [
      "\"A woman in a traditional red dress, carrying a woven basket filled with purple flowers, walking down a pathway lined with trees and a wooden bridge.\"\n"
     ]
    },
    {
     "name": "stderr",
     "output_type": "stream",
     "text": [
      "Setting `pad_token_id` to `eos_token_id`:None for open-end generation.\n"
     ]
    },
    {
     "name": "stdout",
     "output_type": "stream",
     "text": [
      "\"A tender moment captured in art, two figures entwined in a serene embrace.\"\n"
     ]
    },
    {
     "name": "stderr",
     "output_type": "stream",
     "text": [
      "Setting `pad_token_id` to `eos_token_id`:None for open-end generation.\n"
     ]
    },
    {
     "name": "stdout",
     "output_type": "stream",
     "text": [
      "\"Two figures in a dimly lit room, their forms shrouded in mystery, as they stand in front of a window, their gazes lost in the darkness beyond.\"\n"
     ]
    },
    {
     "name": "stderr",
     "output_type": "stream",
     "text": [
      "Setting `pad_token_id` to `eos_token_id`:None for open-end generation.\n"
     ]
    },
    {
     "name": "stdout",
     "output_type": "stream",
     "text": [
      "\"Two figures in a dance of harmony, set against a backdrop of nature's embrace.\"\n"
     ]
    },
    {
     "name": "stderr",
     "output_type": "stream",
     "text": [
      "Setting `pad_token_id` to `eos_token_id`:None for open-end generation.\n"
     ]
    },
    {
     "name": "stdout",
     "output_type": "stream",
     "text": [
      "\"A celebration of life and artistry, as seen through the eyes of a master.\"\n"
     ]
    },
    {
     "name": "stderr",
     "output_type": "stream",
     "text": [
      "Setting `pad_token_id` to `eos_token_id`:None for open-end generation.\n"
     ]
    },
    {
     "name": "stdout",
     "output_type": "stream",
     "text": [
      "\"A moment of quiet reflection in the soft glow of the setting sun.\"\n"
     ]
    },
    {
     "name": "stderr",
     "output_type": "stream",
     "text": [
      "Setting `pad_token_id` to `eos_token_id`:None for open-end generation.\n"
     ]
    },
    {
     "name": "stdout",
     "output_type": "stream",
     "text": [
      "\"A group of cowboys riding through the desert, with the sun casting long shadows and painting the sky with hues of orange and pink.\"\n"
     ]
    },
    {
     "name": "stderr",
     "output_type": "stream",
     "text": [
      "Setting `pad_token_id` to `eos_token_id`:None for open-end generation.\n"
     ]
    },
    {
     "name": "stdout",
     "output_type": "stream",
     "text": [
      "\"A moment of quiet reflection in a cozy parlor.\"\n"
     ]
    },
    {
     "name": "stderr",
     "output_type": "stream",
     "text": [
      "Setting `pad_token_id` to `eos_token_id`:None for open-end generation.\n"
     ]
    },
    {
     "name": "stdout",
     "output_type": "stream",
     "text": [
      "\"A moment of tranquility: A woman in a historical dress, immersed in a book, finds solace in the serene garden setting.\"\n"
     ]
    },
    {
     "name": "stderr",
     "output_type": "stream",
     "text": [
      "Setting `pad_token_id` to `eos_token_id`:None for open-end generation.\n"
     ]
    },
    {
     "name": "stdout",
     "output_type": "stream",
     "text": [
      "\"A serene day in the park, where the horse-drawn carriages add a touch of elegance to the scene.\"\n"
     ]
    },
    {
     "name": "stderr",
     "output_type": "stream",
     "text": [
      "Setting `pad_token_id` to `eos_token_id`:None for open-end generation.\n"
     ]
    },
    {
     "name": "stdout",
     "output_type": "stream",
     "text": [
      "\"Serenity at the Shore: A Lady's Solitude\"\n"
     ]
    },
    {
     "name": "stderr",
     "output_type": "stream",
     "text": [
      "Setting `pad_token_id` to `eos_token_id`:None for open-end generation.\n"
     ]
    },
    {
     "name": "stdout",
     "output_type": "stream",
     "text": [
      "\"A dance of color and form, where two figures become one with the art.\"\n"
     ]
    },
    {
     "name": "stderr",
     "output_type": "stream",
     "text": [
      "Setting `pad_token_id` to `eos_token_id`:None for open-end generation.\n"
     ]
    },
    {
     "name": "stdout",
     "output_type": "stream",
     "text": [
      "\"A moment of quiet reflection, captured in the timeless art of impressionism.\"\n"
     ]
    },
    {
     "name": "stderr",
     "output_type": "stream",
     "text": [
      "Setting `pad_token_id` to `eos_token_id`:None for open-end generation.\n"
     ]
    },
    {
     "name": "stdout",
     "output_type": "stream",
     "text": [
      "\"A serene moment of domesticity, as two women share a quiet moment in the tranquil beauty of nature.\"\n"
     ]
    },
    {
     "name": "stderr",
     "output_type": "stream",
     "text": [
      "Setting `pad_token_id` to `eos_token_id`:None for open-end generation.\n"
     ]
    },
    {
     "name": "stdout",
     "output_type": "stream",
     "text": [
      "\"The solitude of the artist's studio: a moment of quiet reflection.\"\n"
     ]
    },
    {
     "name": "stderr",
     "output_type": "stream",
     "text": [
      "Setting `pad_token_id` to `eos_token_id`:None for open-end generation.\n"
     ]
    },
    {
     "name": "stdout",
     "output_type": "stream",
     "text": [
      "\"Two young girls in a garden, sharing a moment of tranquility and imagination.\"\n"
     ]
    },
    {
     "name": "stderr",
     "output_type": "stream",
     "text": [
      "Setting `pad_token_id` to `eos_token_id`:None for open-end generation.\n"
     ]
    },
    {
     "name": "stdout",
     "output_type": "stream",
     "text": [
      "\"A moment of quiet reflection in the heart of a bustling city.\"\n"
     ]
    },
    {
     "name": "stderr",
     "output_type": "stream",
     "text": [
      "Setting `pad_token_id` to `eos_token_id`:None for open-end generation.\n"
     ]
    },
    {
     "name": "stdout",
     "output_type": "stream",
     "text": [
      "\"A Gathering of Artists in a Studio, Captured in a Realistic Style\"\n"
     ]
    },
    {
     "name": "stderr",
     "output_type": "stream",
     "text": [
      "Setting `pad_token_id` to `eos_token_id`:None for open-end generation.\n"
     ]
    },
    {
     "name": "stdout",
     "output_type": "stream",
     "text": [
      "\"A dance of innocence and youth, captured in the golden hues of impressionism.\"\n"
     ]
    },
    {
     "name": "stderr",
     "output_type": "stream",
     "text": [
      "Setting `pad_token_id` to `eos_token_id`:None for open-end generation.\n"
     ]
    },
    {
     "name": "stdout",
     "output_type": "stream",
     "text": [
      "\"A serene path through a lush forest, inviting the viewer to explore the tranquil beauty of nature.\"\n"
     ]
    },
    {
     "name": "stderr",
     "output_type": "stream",
     "text": [
      "Setting `pad_token_id` to `eos_token_id`:None for open-end generation.\n"
     ]
    },
    {
     "name": "stdout",
     "output_type": "stream",
     "text": [
      "\"A dance of elegance and grace, captured in the art of impressionism.\"\n"
     ]
    },
    {
     "name": "stderr",
     "output_type": "stream",
     "text": [
      "Setting `pad_token_id` to `eos_token_id`:None for open-end generation.\n"
     ]
    },
    {
     "name": "stdout",
     "output_type": "stream",
     "text": [
      "\"A moment of quiet reflection in an impressionist setting.\"\n"
     ]
    },
    {
     "name": "stderr",
     "output_type": "stream",
     "text": [
      "Setting `pad_token_id` to `eos_token_id`:None for open-end generation.\n"
     ]
    },
    {
     "name": "stdout",
     "output_type": "stream",
     "text": [
      "\"A lively gathering in a grand room, where art and society intersect.\"\n"
     ]
    },
    {
     "name": "stderr",
     "output_type": "stream",
     "text": [
      "Setting `pad_token_id` to `eos_token_id`:None for open-end generation.\n"
     ]
    },
    {
     "name": "stdout",
     "output_type": "stream",
     "text": [
      "\"A serene afternoon in the park, where the world seems to pause and let the beauty of nature and artistry unfold.\"\n"
     ]
    },
    {
     "name": "stderr",
     "output_type": "stream",
     "text": [
      "Setting `pad_token_id` to `eos_token_id`:None for open-end generation.\n"
     ]
    },
    {
     "name": "stdout",
     "output_type": "stream",
     "text": [
      "\"A whimsical scene of a musician and a muse, captured in the style of cubism.\"\n"
     ]
    },
    {
     "name": "stderr",
     "output_type": "stream",
     "text": [
      "Setting `pad_token_id` to `eos_token_id`:None for open-end generation.\n"
     ]
    },
    {
     "name": "stdout",
     "output_type": "stream",
     "text": [
      "\"A moment of quiet reflection, as the artist captures the essence of her subject.\"\n"
     ]
    },
    {
     "name": "stderr",
     "output_type": "stream",
     "text": [
      "Setting `pad_token_id` to `eos_token_id`:None for open-end generation.\n"
     ]
    },
    {
     "name": "stdout",
     "output_type": "stream",
     "text": [
      "\"A moment of tranquility: A young woman in a white dress, engrossed in her reflection in the mirror, as she prepares for the day.\"\n"
     ]
    },
    {
     "name": "stderr",
     "output_type": "stream",
     "text": [
      "Setting `pad_token_id` to `eos_token_id`:None for open-end generation.\n"
     ]
    },
    {
     "name": "stdout",
     "output_type": "stream",
     "text": [
      "\"A moment of quiet reflection in a cozy living room.\"\n"
     ]
    },
    {
     "name": "stderr",
     "output_type": "stream",
     "text": [
      "Setting `pad_token_id` to `eos_token_id`:None for open-end generation.\n"
     ]
    },
    {
     "name": "stdout",
     "output_type": "stream",
     "text": [
      "\"A silent symphony of life and death.\"\n"
     ]
    },
    {
     "name": "stderr",
     "output_type": "stream",
     "text": [
      "Setting `pad_token_id` to `eos_token_id`:None for open-end generation.\n"
     ]
    },
    {
     "name": "stdout",
     "output_type": "stream",
     "text": [
      "\"A solitary figure in the shadows, lost in thought amidst the chaos of the world.\"\n"
     ]
    },
    {
     "name": "stderr",
     "output_type": "stream",
     "text": [
      "Setting `pad_token_id` to `eos_token_id`:None for open-end generation.\n"
     ]
    },
    {
     "name": "stdout",
     "output_type": "stream",
     "text": [
      "\"A moment of elegance at the seaside.\"\n"
     ]
    },
    {
     "name": "stderr",
     "output_type": "stream",
     "text": [
      "Setting `pad_token_id` to `eos_token_id`:None for open-end generation.\n"
     ]
    },
    {
     "name": "stdout",
     "output_type": "stream",
     "text": [
      "\"A serene moment in the park, where the trees and the people come together in harmony.\"\n"
     ]
    },
    {
     "name": "stderr",
     "output_type": "stream",
     "text": [
      "Setting `pad_token_id` to `eos_token_id`:None for open-end generation.\n"
     ]
    },
    {
     "name": "stdout",
     "output_type": "stream",
     "text": [
      "\"A quiet moment in a vibrant room.\"\n"
     ]
    },
    {
     "name": "stderr",
     "output_type": "stream",
     "text": [
      "Setting `pad_token_id` to `eos_token_id`:None for open-end generation.\n"
     ]
    },
    {
     "name": "stdout",
     "output_type": "stream",
     "text": [
      "\"A serene moment in the garden, where two individuals share a moment of tranquility amidst the lush greenery.\"\n"
     ]
    },
    {
     "name": "stderr",
     "output_type": "stream",
     "text": [
      "Setting `pad_token_id` to `eos_token_id`:None for open-end generation.\n"
     ]
    },
    {
     "name": "stdout",
     "output_type": "stream",
     "text": [
      "\"A family's journey through the park, captured in the style of impressionism.\"\n"
     ]
    },
    {
     "name": "stderr",
     "output_type": "stream",
     "text": [
      "Setting `pad_token_id` to `eos_token_id`:None for open-end generation.\n"
     ]
    },
    {
     "name": "stdout",
     "output_type": "stream",
     "text": [
      "\"A tender moment between two individuals, captured in the warmth of a wooden cabin.\"\n"
     ]
    },
    {
     "name": "stderr",
     "output_type": "stream",
     "text": [
      "Setting `pad_token_id` to `eos_token_id`:None for open-end generation.\n"
     ]
    },
    {
     "name": "stdout",
     "output_type": "stream",
     "text": [
      "\"A dance of abstract forms, where color and shape intertwine in a harmonious ballet.\"\n"
     ]
    },
    {
     "name": "stderr",
     "output_type": "stream",
     "text": [
      "Setting `pad_token_id` to `eos_token_id`:None for open-end generation.\n"
     ]
    },
    {
     "name": "stdout",
     "output_type": "stream",
     "text": [
      "\"A Gathering of Rural Life: A Painting Capturing the Spirit of Community\"\n"
     ]
    },
    {
     "name": "stderr",
     "output_type": "stream",
     "text": [
      "Setting `pad_token_id` to `eos_token_id`:None for open-end generation.\n"
     ]
    },
    {
     "name": "stdout",
     "output_type": "stream",
     "text": [
      "\"Elegance in Motion: A Ballerina's Grace\"\n"
     ]
    },
    {
     "name": "stderr",
     "output_type": "stream",
     "text": [
      "Setting `pad_token_id` to `eos_token_id`:None for open-end generation.\n"
     ]
    },
    {
     "name": "stdout",
     "output_type": "stream",
     "text": [
      "\"A lively market scene with a dog and a cat, under a cloudy sky.\"\n"
     ]
    },
    {
     "name": "stderr",
     "output_type": "stream",
     "text": [
      "Setting `pad_token_id` to `eos_token_id`:None for open-end generation.\n"
     ]
    },
    {
     "name": "stdout",
     "output_type": "stream",
     "text": [
      "\"A lively gathering at a bar, with a woman in a striking dress as the center of attention.\"\n"
     ]
    },
    {
     "name": "stderr",
     "output_type": "stream",
     "text": [
      "Setting `pad_token_id` to `eos_token_id`:None for open-end generation.\n"
     ]
    },
    {
     "name": "stdout",
     "output_type": "stream",
     "text": [
      "\"A solitary figure in a room bathed in the soft glow of a window, lost in the quiet beauty of the night.\"\n"
     ]
    },
    {
     "name": "stderr",
     "output_type": "stream",
     "text": [
      "Setting `pad_token_id` to `eos_token_id`:None for open-end generation.\n"
     ]
    },
    {
     "name": "stdout",
     "output_type": "stream",
     "text": [
      "\"A young girl immersed in the art of weaving, her mind and hands in harmony with the loom.\"\n"
     ]
    },
    {
     "name": "stderr",
     "output_type": "stream",
     "text": [
      "Setting `pad_token_id` to `eos_token_id`:None for open-end generation.\n"
     ]
    },
    {
     "name": "stdout",
     "output_type": "stream",
     "text": [
      "\"The Art of the Female Form: A Study in Expression and Form\"\n"
     ]
    },
    {
     "name": "stderr",
     "output_type": "stream",
     "text": [
      "Setting `pad_token_id` to `eos_token_id`:None for open-end generation.\n"
     ]
    },
    {
     "name": "stdout",
     "output_type": "stream",
     "text": [
      "\"A solitary figure in a vast landscape, the artist captures a moment of quiet reflection under the open sky.\"\n"
     ]
    },
    {
     "name": "stderr",
     "output_type": "stream",
     "text": [
      "Setting `pad_token_id` to `eos_token_id`:None for open-end generation.\n"
     ]
    },
    {
     "name": "stdout",
     "output_type": "stream",
     "text": [
      "\"Embrace of the moment: A dance of connection and freedom.\"\n"
     ]
    },
    {
     "name": "stderr",
     "output_type": "stream",
     "text": [
      "Setting `pad_token_id` to `eos_token_id`:None for open-end generation.\n"
     ]
    },
    {
     "name": "stdout",
     "output_type": "stream",
     "text": [
      "\"A lively scene of a horse-drawn carriage parade, with spectators enjoying the festivities under a clear sky.\"\n"
     ]
    },
    {
     "name": "stderr",
     "output_type": "stream",
     "text": [
      "Setting `pad_token_id` to `eos_token_id`:None for open-end generation.\n"
     ]
    },
    {
     "name": "stdout",
     "output_type": "stream",
     "text": [
      "\"A gathering of elegance and tradition in a serene garden setting.\"\n"
     ]
    },
    {
     "name": "stderr",
     "output_type": "stream",
     "text": [
      "Setting `pad_token_id` to `eos_token_id`:None for open-end generation.\n"
     ]
    },
    {
     "name": "stdout",
     "output_type": "stream",
     "text": [
      "\"Contemplation of the Seasons: A Moment of Reflection\"\n"
     ]
    },
    {
     "name": "stderr",
     "output_type": "stream",
     "text": [
      "Setting `pad_token_id` to `eos_token_id`:None for open-end generation.\n"
     ]
    },
    {
     "name": "stdout",
     "output_type": "stream",
     "text": [
      "\"A moment of serenity captured in the art of impressionism.\"\n"
     ]
    },
    {
     "name": "stderr",
     "output_type": "stream",
     "text": [
      "Setting `pad_token_id` to `eos_token_id`:None for open-end generation.\n"
     ]
    },
    {
     "name": "stdout",
     "output_type": "stream",
     "text": [
      "\"A moment of tranquility in the countryside, as a young girl gathers flowers and a boy watches from afar.\"\n"
     ]
    },
    {
     "name": "stderr",
     "output_type": "stream",
     "text": [
      "Setting `pad_token_id` to `eos_token_id`:None for open-end generation.\n"
     ]
    },
    {
     "name": "stdout",
     "output_type": "stream",
     "text": [
      "\"A tender moment captured in the impressionist style.\"\n"
     ]
    },
    {
     "name": "stderr",
     "output_type": "stream",
     "text": [
      "Setting `pad_token_id` to `eos_token_id`:None for open-end generation.\n"
     ]
    },
    {
     "name": "stdout",
     "output_type": "stream",
     "text": [
      "\"A moment of tranquility: a man and his dog share a peaceful slumber.\"\n"
     ]
    },
    {
     "name": "stderr",
     "output_type": "stream",
     "text": [
      "Setting `pad_token_id` to `eos_token_id`:None for open-end generation.\n"
     ]
    },
    {
     "name": "stdout",
     "output_type": "stream",
     "text": [
      "\"A dance of life: the joy of movement and the beauty of nature.\"\n"
     ]
    },
    {
     "name": "stderr",
     "output_type": "stream",
     "text": [
      "Setting `pad_token_id` to `eos_token_id`:None for open-end generation.\n"
     ]
    },
    {
     "name": "stdout",
     "output_type": "stream",
     "text": [
      "\"A moment of quiet reflection in the company of nature.\"\n"
     ]
    },
    {
     "name": "stderr",
     "output_type": "stream",
     "text": [
      "Setting `pad_token_id` to `eos_token_id`:None for open-end generation.\n"
     ]
    },
    {
     "name": "stdout",
     "output_type": "stream",
     "text": [
      "\"An evening of quiet companionship.\"\n"
     ]
    },
    {
     "name": "stderr",
     "output_type": "stream",
     "text": [
      "Setting `pad_token_id` to `eos_token_id`:None for open-end generation.\n"
     ]
    },
    {
     "name": "stdout",
     "output_type": "stream",
     "text": [
      "\"A serene winter scene with people enjoying a day out in the snow.\"\n"
     ]
    },
    {
     "name": "stderr",
     "output_type": "stream",
     "text": [
      "Setting `pad_token_id` to `eos_token_id`:None for open-end generation.\n"
     ]
    },
    {
     "name": "stdout",
     "output_type": "stream",
     "text": [
      "\"A tender moment captured in art, where a mother and child share a moment of love and innocence.\"\n"
     ]
    },
    {
     "name": "stderr",
     "output_type": "stream",
     "text": [
      "Setting `pad_token_id` to `eos_token_id`:None for open-end generation.\n"
     ]
    },
    {
     "name": "stdout",
     "output_type": "stream",
     "text": [
      "\"A moment of quiet reflection in an artist's studio.\"\n"
     ]
    },
    {
     "name": "stderr",
     "output_type": "stream",
     "text": [
      "Setting `pad_token_id` to `eos_token_id`:None for open-end generation.\n"
     ]
    },
    {
     "name": "stdout",
     "output_type": "stream",
     "text": [
      "\"A moment of quiet reflection as the world outside waits.\"\n"
     ]
    },
    {
     "name": "stderr",
     "output_type": "stream",
     "text": [
      "Setting `pad_token_id` to `eos_token_id`:None for open-end generation.\n"
     ]
    },
    {
     "name": "stdout",
     "output_type": "stream",
     "text": [
      "\"A moment of camaraderie and shared joy in a field of dreams.\"\n"
     ]
    },
    {
     "name": "stderr",
     "output_type": "stream",
     "text": [
      "Setting `pad_token_id` to `eos_token_id`:None for open-end generation.\n"
     ]
    },
    {
     "name": "stdout",
     "output_type": "stream",
     "text": [
      "\"A group of adventurers on horseback, crossing a river in search of treasure.\"\n"
     ]
    },
    {
     "name": "stderr",
     "output_type": "stream",
     "text": [
      "Setting `pad_token_id` to `eos_token_id`:None for open-end generation.\n"
     ]
    },
    {
     "name": "stdout",
     "output_type": "stream",
     "text": [
      "\"An intimate moment captured in the style of post-impressionism.\"\n"
     ]
    },
    {
     "name": "stderr",
     "output_type": "stream",
     "text": [
      "Setting `pad_token_id` to `eos_token_id`:None for open-end generation.\n"
     ]
    },
    {
     "name": "stdout",
     "output_type": "stream",
     "text": [
      "\"A serene afternoon in the park, where the trees whisper stories and the grass is a carpet of dreams.\"\n"
     ]
    },
    {
     "name": "stderr",
     "output_type": "stream",
     "text": [
      "Setting `pad_token_id` to `eos_token_id`:None for open-end generation.\n"
     ]
    },
    {
     "name": "stdout",
     "output_type": "stream",
     "text": [
      "\"A tranquil moment in nature, where the river whispers stories of the past.\"\n"
     ]
    },
    {
     "name": "stderr",
     "output_type": "stream",
     "text": [
      "Setting `pad_token_id` to `eos_token_id`:None for open-end generation.\n"
     ]
    },
    {
     "name": "stdout",
     "output_type": "stream",
     "text": [
      "\"Elegance in Motion: A Ballerina's Grace\"\n"
     ]
    },
    {
     "name": "stderr",
     "output_type": "stream",
     "text": [
      "Setting `pad_token_id` to `eos_token_id`:None for open-end generation.\n"
     ]
    },
    {
     "name": "stdout",
     "output_type": "stream",
     "text": [
      "\"A tender moment captured in art: a mother's love and a child's innocence.\"\n"
     ]
    },
    {
     "name": "stderr",
     "output_type": "stream",
     "text": [
      "Setting `pad_token_id` to `eos_token_id`:None for open-end generation.\n"
     ]
    },
    {
     "name": "stdout",
     "output_type": "stream",
     "text": [
      "\"A quiet moment of reflection in a cozy parlor.\"\n"
     ]
    },
    {
     "name": "stderr",
     "output_type": "stream",
     "text": [
      "Setting `pad_token_id` to `eos_token_id`:None for open-end generation.\n"
     ]
    },
    {
     "name": "stdout",
     "output_type": "stream",
     "text": [
      "\"A serene day by the water, with a woman in a white dress and a boat in the background.\"\n"
     ]
    },
    {
     "name": "stderr",
     "output_type": "stream",
     "text": [
      "Setting `pad_token_id` to `eos_token_id`:None for open-end generation.\n"
     ]
    },
    {
     "name": "stdout",
     "output_type": "stream",
     "text": [
      "\"A moment of quiet reflection in the comfort of a cozy room.\"\n"
     ]
    },
    {
     "name": "stderr",
     "output_type": "stream",
     "text": [
      "Setting `pad_token_id` to `eos_token_id`:None for open-end generation.\n"
     ]
    },
    {
     "name": "stdout",
     "output_type": "stream",
     "text": [
      "\"A moment of shared joy and curiosity as the children immerse themselves in the world of the book.\"\n"
     ]
    },
    {
     "name": "stderr",
     "output_type": "stream",
     "text": [
      "Setting `pad_token_id` to `eos_token_id`:None for open-end generation.\n"
     ]
    },
    {
     "name": "stdout",
     "output_type": "stream",
     "text": [
      "\"A serene moment in nature, where two figures find solace in the tranquil setting of a riverbank.\"\n"
     ]
    },
    {
     "name": "stderr",
     "output_type": "stream",
     "text": [
      "Setting `pad_token_id` to `eos_token_id`:None for open-end generation.\n"
     ]
    },
    {
     "name": "stdout",
     "output_type": "stream",
     "text": [
      "\"A whimsical dance of color and form.\"\n"
     ]
    },
    {
     "name": "stderr",
     "output_type": "stream",
     "text": [
      "Setting `pad_token_id` to `eos_token_id`:None for open-end generation.\n"
     ]
    },
    {
     "name": "stdout",
     "output_type": "stream",
     "text": [
      "\"A tender moment captured in art: a mother's love and care for her child.\"\n"
     ]
    },
    {
     "name": "stderr",
     "output_type": "stream",
     "text": [
      "Setting `pad_token_id` to `eos_token_id`:None for open-end generation.\n"
     ]
    },
    {
     "name": "stdout",
     "output_type": "stream",
     "text": [
      "\"A moment of quiet reflection amidst the chaos of the day.\"\n"
     ]
    },
    {
     "name": "stderr",
     "output_type": "stream",
     "text": [
      "Setting `pad_token_id` to `eos_token_id`:None for open-end generation.\n"
     ]
    },
    {
     "name": "stdout",
     "output_type": "stream",
     "text": [
      "\"A moment of tranquility in the countryside, where the past meets the present.\"\n"
     ]
    },
    {
     "name": "stderr",
     "output_type": "stream",
     "text": [
      "Setting `pad_token_id` to `eos_token_id`:None for open-end generation.\n"
     ]
    },
    {
     "name": "stdout",
     "output_type": "stream",
     "text": [
      "\"A moment of quiet reflection in a cozy kitchen.\"\n"
     ]
    },
    {
     "name": "stderr",
     "output_type": "stream",
     "text": [
      "Setting `pad_token_id` to `eos_token_id`:None for open-end generation.\n"
     ]
    },
    {
     "name": "stdout",
     "output_type": "stream",
     "text": [
      "\"A family gathering around a table laden with food and drink, sharing a moment of togetherness in a serene garden setting.\"\n"
     ]
    },
    {
     "name": "stderr",
     "output_type": "stream",
     "text": [
      "Setting `pad_token_id` to `eos_token_id`:None for open-end generation.\n"
     ]
    },
    {
     "name": "stdout",
     "output_type": "stream",
     "text": [
      "\"A serene day by the river, with a steamboat and a group of people enjoying the view.\"\n"
     ]
    },
    {
     "name": "stderr",
     "output_type": "stream",
     "text": [
      "Setting `pad_token_id` to `eos_token_id`:None for open-end generation.\n"
     ]
    },
    {
     "name": "stdout",
     "output_type": "stream",
     "text": [
      "\"A moment of rural tranquility: A farmer tending to his hay bale, with the watchful eyes of his chickens nearby.\"\n"
     ]
    },
    {
     "name": "stderr",
     "output_type": "stream",
     "text": [
      "Setting `pad_token_id` to `eos_token_id`:None for open-end generation.\n"
     ]
    },
    {
     "name": "stdout",
     "output_type": "stream",
     "text": [
      "\"A lively gathering by the water, where the boats are as much a part of the scene as the people.\"\n"
     ]
    },
    {
     "name": "stderr",
     "output_type": "stream",
     "text": [
      "Setting `pad_token_id` to `eos_token_id`:None for open-end generation.\n"
     ]
    },
    {
     "name": "stdout",
     "output_type": "stream",
     "text": [
      "\"A serene moment on the water, where two individuals share a quiet conversation.\"\n"
     ]
    },
    {
     "name": "stderr",
     "output_type": "stream",
     "text": [
      "Setting `pad_token_id` to `eos_token_id`:None for open-end generation.\n"
     ]
    },
    {
     "name": "stdout",
     "output_type": "stream",
     "text": [
      "\"A serene day by the water, where life's simple pleasures are found in the company of friends and the rhythmic sound of waves.\"\n",
      "\"Two figures in a boat, with the sea as their backdrop, painted in an impressionistic style.\"\n"
     ]
    }
   ],
   "source": [
    "df['predicted_caption'] = df.apply(lambda x: perform_image_captioning_task_llava(x['file_path']), axis=1)"
   ]
  },
  {
   "cell_type": "code",
   "execution_count": 15,
   "id": "cc9f48f4",
   "metadata": {},
   "outputs": [
    {
     "data": {
      "text/html": [
       "<div>\n",
       "<style scoped>\n",
       "    .dataframe tbody tr th:only-of-type {\n",
       "        vertical-align: middle;\n",
       "    }\n",
       "\n",
       "    .dataframe tbody tr th {\n",
       "        vertical-align: top;\n",
       "    }\n",
       "\n",
       "    .dataframe thead th {\n",
       "        text-align: right;\n",
       "    }\n",
       "</style>\n",
       "<table border=\"1\" class=\"dataframe\">\n",
       "  <thead>\n",
       "    <tr style=\"text-align: right;\">\n",
       "      <th></th>\n",
       "      <th>caption</th>\n",
       "      <th>predicted_caption</th>\n",
       "    </tr>\n",
       "  </thead>\n",
       "  <tbody>\n",
       "    <tr>\n",
       "      <th>0</th>\n",
       "      <td>women are bent over a river 's edge  ,  doing laundry</td>\n",
       "      <td>\"A serene gathering by the water's edge.\"</td>\n",
       "    </tr>\n",
       "    <tr>\n",
       "      <th>1</th>\n",
       "      <td>a group of people is swimming in the ocean</td>\n",
       "      <td>\"A serene beach scene, where the sea meets the sky, and life unfolds in the golden light of the setting sun.\"</td>\n",
       "    </tr>\n",
       "    <tr>\n",
       "      <th>2</th>\n",
       "      <td>two people are sitting on a beach with their dog next to them</td>\n",
       "      <td>\"A serene moment of reflection by the sea.\"</td>\n",
       "    </tr>\n",
       "    <tr>\n",
       "      <th>3</th>\n",
       "      <td>an adult and a child are sitting at the table talking</td>\n",
       "      <td>\"An intimate moment captured in art: a man and a child share a meal at a table, their expressions reflecting the warmth of their connection.\"</td>\n",
       "    </tr>\n",
       "    <tr>\n",
       "      <th>4</th>\n",
       "      <td>a man and a woman are looking at a river in a forest</td>\n",
       "      <td>\"A serene moment in the countryside, where art and nature intertwine.\"</td>\n",
       "    </tr>\n",
       "    <tr>\n",
       "      <th>...</th>\n",
       "      <td>...</td>\n",
       "      <td>...</td>\n",
       "    </tr>\n",
       "    <tr>\n",
       "      <th>195</th>\n",
       "      <td>a man bails hay while chicken eats around him</td>\n",
       "      <td>\"A moment of rural tranquility: A farmer tending to his hay bale, with the watchful eyes of his chickens nearby.\"</td>\n",
       "    </tr>\n",
       "    <tr>\n",
       "      <th>196</th>\n",
       "      <td>people are walking around and standing on a boat</td>\n",
       "      <td>\"A lively gathering by the water, where the boats are as much a part of the scene as the people.\"</td>\n",
       "    </tr>\n",
       "    <tr>\n",
       "      <th>197</th>\n",
       "      <td>two fishermen in a small boat out fishing together</td>\n",
       "      <td>\"A serene moment on the water, where two individuals share a quiet conversation.\"</td>\n",
       "    </tr>\n",
       "    <tr>\n",
       "      <th>198</th>\n",
       "      <td>women at the riverfront are washing their clothes</td>\n",
       "      <td>\"A serene day by the water, where life's simple pleasures are found in the company of friends and the rhythmic sound of waves.\"</td>\n",
       "    </tr>\n",
       "    <tr>\n",
       "      <th>199</th>\n",
       "      <td>one man sits while another man stands next to him by the water with a pile of fish around the sitting man 's feet</td>\n",
       "      <td>\"Two figures in a boat, with the sea as their backdrop, painted in an impressionistic style.\"</td>\n",
       "    </tr>\n",
       "  </tbody>\n",
       "</table>\n",
       "<p>200 rows × 2 columns</p>\n",
       "</div>"
      ],
      "text/plain": [
       "                                                                                                               caption  \\\n",
       "0                                                                women are bent over a river 's edge  ,  doing laundry   \n",
       "1                                                                           a group of people is swimming in the ocean   \n",
       "2                                                        two people are sitting on a beach with their dog next to them   \n",
       "3                                                                an adult and a child are sitting at the table talking   \n",
       "4                                                                 a man and a woman are looking at a river in a forest   \n",
       "..                                                                                                                 ...   \n",
       "195                                                                      a man bails hay while chicken eats around him   \n",
       "196                                                                   people are walking around and standing on a boat   \n",
       "197                                                                 two fishermen in a small boat out fishing together   \n",
       "198                                                                  women at the riverfront are washing their clothes   \n",
       "199  one man sits while another man stands next to him by the water with a pile of fish around the sitting man 's feet   \n",
       "\n",
       "                                                                                                                                 predicted_caption  \n",
       "0                                                                                                        \"A serene gathering by the water's edge.\"  \n",
       "1                                    \"A serene beach scene, where the sea meets the sky, and life unfolds in the golden light of the setting sun.\"  \n",
       "2                                                                                                      \"A serene moment of reflection by the sea.\"  \n",
       "3    \"An intimate moment captured in art: a man and a child share a meal at a table, their expressions reflecting the warmth of their connection.\"  \n",
       "4                                                                           \"A serene moment in the countryside, where art and nature intertwine.\"  \n",
       "..                                                                                                                                             ...  \n",
       "195                              \"A moment of rural tranquility: A farmer tending to his hay bale, with the watchful eyes of his chickens nearby.\"  \n",
       "196                                              \"A lively gathering by the water, where the boats are as much a part of the scene as the people.\"  \n",
       "197                                                              \"A serene moment on the water, where two individuals share a quiet conversation.\"  \n",
       "198                \"A serene day by the water, where life's simple pleasures are found in the company of friends and the rhythmic sound of waves.\"  \n",
       "199                                                  \"Two figures in a boat, with the sea as their backdrop, painted in an impressionistic style.\"  \n",
       "\n",
       "[200 rows x 2 columns]"
      ]
     },
     "execution_count": 15,
     "metadata": {},
     "output_type": "execute_result"
    }
   ],
   "source": [
    "df[['caption', 'predicted_caption']]"
   ]
  },
  {
   "cell_type": "code",
   "execution_count": 16,
   "id": "c0f3de53",
   "metadata": {},
   "outputs": [
    {
     "name": "stdout",
     "output_type": "stream",
     "text": [
      "DataFrame saved as a list of dictionaries in /shared/data/painting/painting_with_image_captioning_result.json\n"
     ]
    }
   ],
   "source": [
    "# Save the image_captioning result\n",
    "\n",
    "# Convert DataFrame to a list of dictionaries\n",
    "list_of_dicts = df.to_dict(orient=\"records\")\n",
    "\n",
    "# Save the list of dictionaries to a JSON file\n",
    "output_file = \"/shared/data/painting/painting_with_image_captioning_result.json\"\n",
    "\n",
    "with open(output_file, \"w\") as file:\n",
    "    json.dump(list_of_dicts, file, indent=4)\n",
    "\n",
    "print(f\"DataFrame saved as a list of dictionaries in {output_file}\")"
   ]
  },
  {
   "cell_type": "markdown",
   "id": "32e19d3d",
   "metadata": {},
   "source": [
    "## Evaluate results"
   ]
  },
  {
   "cell_type": "code",
   "execution_count": 17,
   "id": "ae28d614",
   "metadata": {},
   "outputs": [],
   "source": [
    "# import libraries\n",
    "from nltk.translate.bleu_score import sentence_bleu\n",
    "from nltk.translate.meteor_score import meteor_score\n",
    "from rouge_score import rouge_scorer\n",
    "from pycocoevalcap.cider.cider import Cider\n",
    "from pycocoevalcap.spice.spice import Spice"
   ]
  },
  {
   "cell_type": "markdown",
   "id": "0104932c",
   "metadata": {},
   "source": [
    "### Multiple Choice Accuracy"
   ]
  },
  {
   "cell_type": "code",
   "execution_count": 19,
   "id": "f93141d7",
   "metadata": {},
   "outputs": [
    {
     "data": {
      "text/html": [
       "<div>\n",
       "<style scoped>\n",
       "    .dataframe tbody tr th:only-of-type {\n",
       "        vertical-align: middle;\n",
       "    }\n",
       "\n",
       "    .dataframe tbody tr th {\n",
       "        vertical-align: top;\n",
       "    }\n",
       "\n",
       "    .dataframe thead th {\n",
       "        text-align: right;\n",
       "    }\n",
       "</style>\n",
       "<table border=\"1\" class=\"dataframe\">\n",
       "  <thead>\n",
       "    <tr style=\"text-align: right;\">\n",
       "      <th></th>\n",
       "      <th>id</th>\n",
       "      <th>file_path</th>\n",
       "      <th>caption</th>\n",
       "      <th>multiple_choice_solution</th>\n",
       "      <th>multiple_choice_question</th>\n",
       "      <th>multiple_choice_prediction</th>\n",
       "    </tr>\n",
       "  </thead>\n",
       "  <tbody>\n",
       "    <tr>\n",
       "      <th>0</th>\n",
       "      <td>46323</td>\n",
       "      <td>/shared/data/painting/picts/46323.jpg</td>\n",
       "      <td>women are bent over a river 's edge  ,  doing laundry</td>\n",
       "      <td>C</td>\n",
       "      <td>Which of the following captions best describes the painting?\\n\\nA) Women are sitting on a boat in the river, fishing.\\n\\nB) Women are bending over near a pond's shore, cooking.\\n\\nC) Women are bent over a river's edge, doing laundry.\\n\\nD) Woman are bending over river edge, working in the garden.</td>\n",
       "      <td>C</td>\n",
       "    </tr>\n",
       "  </tbody>\n",
       "</table>\n",
       "</div>"
      ],
      "text/plain": [
       "      id                              file_path  \\\n",
       "0  46323  /shared/data/painting/picts/46323.jpg   \n",
       "\n",
       "                                                 caption  \\\n",
       "0  women are bent over a river 's edge  ,  doing laundry   \n",
       "\n",
       "  multiple_choice_solution  \\\n",
       "0                        C   \n",
       "\n",
       "                                                                                                                                                                                                                                                                                    multiple_choice_question  \\\n",
       "0  Which of the following captions best describes the painting?\\n\\nA) Women are sitting on a boat in the river, fishing.\\n\\nB) Women are bending over near a pond's shore, cooking.\\n\\nC) Women are bent over a river's edge, doing laundry.\\n\\nD) Woman are bending over river edge, working in the garden.   \n",
       "\n",
       "  multiple_choice_prediction  \n",
       "0                          C  "
      ]
     },
     "execution_count": 19,
     "metadata": {},
     "output_type": "execute_result"
    }
   ],
   "source": [
    "# Load annotation with multiple choice question result data file\n",
    "import pandas as pd\n",
    "pd.set_option('display.max_colwidth', None)\n",
    "import json\n",
    "\n",
    "\n",
    "# Data Directory: \n",
    "food_annotation_file_path = '/shared/data/painting/painting_with_MCQ_result.json'\n",
    "\n",
    "\n",
    "# Method 1: Using pandas.read_json directly\n",
    "df = pd.read_json(food_annotation_file_path)\n",
    "\n",
    "df.head(1)"
   ]
  },
  {
   "cell_type": "code",
   "execution_count": 20,
   "id": "c32a0635",
   "metadata": {},
   "outputs": [],
   "source": [
    "def calculate_multiple_choice_question_accuracy(df):\n",
    "    # Calculate accuracy\n",
    "    accuracy = (df[\"multiple_choice_solution\"] == df[\"multiple_choice_prediction\"]).mean()\n",
    "\n",
    "    print(f\"Prediction Accuracy: {accuracy * 100:.2f}%\") \n",
    "    return accuracy"
   ]
  },
  {
   "cell_type": "code",
   "execution_count": 21,
   "id": "02acaf01",
   "metadata": {},
   "outputs": [
    {
     "name": "stdout",
     "output_type": "stream",
     "text": [
      "Prediction Accuracy: 75.00%\n"
     ]
    },
    {
     "data": {
      "text/plain": [
       "0.75"
      ]
     },
     "execution_count": 21,
     "metadata": {},
     "output_type": "execute_result"
    }
   ],
   "source": [
    "calculate_multiple_choice_question_accuracy(df)"
   ]
  },
  {
   "cell_type": "code",
   "execution_count": null,
   "id": "99ff5a1b",
   "metadata": {},
   "outputs": [],
   "source": []
  },
  {
   "cell_type": "markdown",
   "id": "62a7399c",
   "metadata": {},
   "source": [
    "### Caption Quality\n"
   ]
  },
  {
   "cell_type": "code",
   "execution_count": 23,
   "id": "01e8d555",
   "metadata": {},
   "outputs": [
    {
     "data": {
      "text/html": [
       "<div>\n",
       "<style scoped>\n",
       "    .dataframe tbody tr th:only-of-type {\n",
       "        vertical-align: middle;\n",
       "    }\n",
       "\n",
       "    .dataframe tbody tr th {\n",
       "        vertical-align: top;\n",
       "    }\n",
       "\n",
       "    .dataframe thead th {\n",
       "        text-align: right;\n",
       "    }\n",
       "</style>\n",
       "<table border=\"1\" class=\"dataframe\">\n",
       "  <thead>\n",
       "    <tr style=\"text-align: right;\">\n",
       "      <th></th>\n",
       "      <th>id</th>\n",
       "      <th>file_path</th>\n",
       "      <th>caption</th>\n",
       "      <th>multiple_choice_solution</th>\n",
       "      <th>multiple_choice_question</th>\n",
       "      <th>predicted_caption</th>\n",
       "    </tr>\n",
       "  </thead>\n",
       "  <tbody>\n",
       "    <tr>\n",
       "      <th>0</th>\n",
       "      <td>46323</td>\n",
       "      <td>/shared/data/painting/picts/46323.jpg</td>\n",
       "      <td>women are bent over a river 's edge  ,  doing laundry</td>\n",
       "      <td>C</td>\n",
       "      <td>Which of the following captions best describes the painting?\\n\\nA) Women are sitting on a boat in the river, fishing.\\n\\nB) Women are bending over near a pond's shore, cooking.\\n\\nC) Women are bent over a river's edge, doing laundry.\\n\\nD) Woman are bending over river edge, working in the garden.</td>\n",
       "      <td>\"A serene gathering by the water's edge.\"</td>\n",
       "    </tr>\n",
       "  </tbody>\n",
       "</table>\n",
       "</div>"
      ],
      "text/plain": [
       "      id                              file_path  \\\n",
       "0  46323  /shared/data/painting/picts/46323.jpg   \n",
       "\n",
       "                                                 caption  \\\n",
       "0  women are bent over a river 's edge  ,  doing laundry   \n",
       "\n",
       "  multiple_choice_solution  \\\n",
       "0                        C   \n",
       "\n",
       "                                                                                                                                                                                                                                                                                    multiple_choice_question  \\\n",
       "0  Which of the following captions best describes the painting?\\n\\nA) Women are sitting on a boat in the river, fishing.\\n\\nB) Women are bending over near a pond's shore, cooking.\\n\\nC) Women are bent over a river's edge, doing laundry.\\n\\nD) Woman are bending over river edge, working in the garden.   \n",
       "\n",
       "                           predicted_caption  \n",
       "0  \"A serene gathering by the water's edge.\"  "
      ]
     },
     "execution_count": 23,
     "metadata": {},
     "output_type": "execute_result"
    }
   ],
   "source": [
    "# Load annotation with multiple choice question result data file\n",
    "import pandas as pd\n",
    "pd.set_option('display.max_colwidth', None)\n",
    "import json\n",
    "\n",
    "\n",
    "# Data Directory: \n",
    "food_annotation_file_path = '/shared/data/painting/painting_with_image_captioning_result.json'\n",
    "\n",
    "\n",
    "# Method 1: Using pandas.read_json directly\n",
    "df = pd.read_json(food_annotation_file_path)\n",
    "\n",
    "df.head(1)"
   ]
  },
  {
   "cell_type": "code",
   "execution_count": null,
   "id": "7823529e",
   "metadata": {},
   "outputs": [],
   "source": [
    "# BLEU"
   ]
  },
  {
   "cell_type": "code",
   "execution_count": 26,
   "id": "22eb2a56",
   "metadata": {},
   "outputs": [],
   "source": [
    "from nltk.translate.bleu_score import sentence_bleu\n",
    "\n",
    "\n",
    "# BLEU Evaluation (Average across multiple references)\n",
    "def evaluate_bleu(df):\n",
    "    bleu_scores = []\n",
    "    \n",
    "    for _, row in df.iterrows():\n",
    "        references = row['caption']  # List of reference captions\n",
    "        candidate = row['predicted_caption']  # Predicted caption\n",
    "\n",
    "        # Tokenize the candidate and reference captions\n",
    "        tokenized_references = [ref.strip('\"').split() for ref in references]  # List of tokenized references\n",
    "        tokenized_candidate = candidate.strip('\"').split()  # Tokenized candidate\n",
    "\n",
    "        # Compute BLEU for all references\n",
    "        row_bleu_scores = [\n",
    "            sentence_bleu([ref], tokenized_candidate) for ref in tokenized_references\n",
    "        ]\n",
    "        \n",
    "        # Average across references\n",
    "        bleu_scores.append(sum(row_bleu_scores) / len(row_bleu_scores))\n",
    "    \n",
    "    avg_bleu = sum(bleu_scores) / len(bleu_scores)\n",
    "    print(f\"Average BLEU: {avg_bleu:.4f}\")\n",
    "    return bleu_scores"
   ]
  },
  {
   "cell_type": "code",
   "execution_count": 27,
   "id": "5ecf440c",
   "metadata": {},
   "outputs": [
    {
     "name": "stderr",
     "output_type": "stream",
     "text": [
      "/opt/conda/lib/python3.10/site-packages/nltk/translate/bleu_score.py:577: UserWarning: \n",
      "The hypothesis contains 0 counts of 2-gram overlaps.\n",
      "Therefore the BLEU score evaluates to 0, independently of\n",
      "how many N-gram overlaps of lower order it contains.\n",
      "Consider using lower n-gram order or use SmoothingFunction()\n",
      "  warnings.warn(_msg)\n",
      "/opt/conda/lib/python3.10/site-packages/nltk/translate/bleu_score.py:577: UserWarning: \n",
      "The hypothesis contains 0 counts of 3-gram overlaps.\n",
      "Therefore the BLEU score evaluates to 0, independently of\n",
      "how many N-gram overlaps of lower order it contains.\n",
      "Consider using lower n-gram order or use SmoothingFunction()\n",
      "  warnings.warn(_msg)\n",
      "/opt/conda/lib/python3.10/site-packages/nltk/translate/bleu_score.py:577: UserWarning: \n",
      "The hypothesis contains 0 counts of 4-gram overlaps.\n",
      "Therefore the BLEU score evaluates to 0, independently of\n",
      "how many N-gram overlaps of lower order it contains.\n",
      "Consider using lower n-gram order or use SmoothingFunction()\n",
      "  warnings.warn(_msg)\n"
     ]
    },
    {
     "name": "stdout",
     "output_type": "stream",
     "text": [
      "Average BLEU: 0.0000\n"
     ]
    },
    {
     "data": {
      "text/plain": [
       "[0.0,\n",
       " 0.0,\n",
       " 0.0,\n",
       " 1.2298083538063708e-232,\n",
       " 0.0,\n",
       " 4.655181264783869e-233,\n",
       " 8.562165723306571e-233,\n",
       " 4.0173765965413875e-233,\n",
       " 1.063959715593678e-232,\n",
       " 8.972141065609099e-233,\n",
       " 9.494692261260039e-233,\n",
       " 0.0,\n",
       " 0.0,\n",
       " 0.0,\n",
       " 8.07140754817601e-233,\n",
       " 2.231279780268054e-233,\n",
       " 5.5402248797866055e-233,\n",
       " 9.699611962820646e-233,\n",
       " 0.0,\n",
       " 0.0,\n",
       " 1.1056055503861688e-232,\n",
       " 1.0736158929804562e-232,\n",
       " 7.4795097680039515e-233,\n",
       " 0.0,\n",
       " 0.0,\n",
       " 1.3440488685343995e-232,\n",
       " 0.0,\n",
       " 5.843528830692392e-233,\n",
       " 1.2620177169337084e-232,\n",
       " 0.0,\n",
       " 0.0,\n",
       " 1.3195397097297673e-232,\n",
       " 2.6802558797240456e-233,\n",
       " 0.0,\n",
       " 3.3753204770558055e-233,\n",
       " 1.0244914152188952e-232,\n",
       " 6.47081973040559e-233,\n",
       " 8.53742846015746e-233,\n",
       " 0.0,\n",
       " 1.1383237946876614e-232,\n",
       " 3.076467618465861e-233,\n",
       " 7.385805362616657e-233,\n",
       " 0.0,\n",
       " 2.0757241739270874e-233,\n",
       " 1.1383237946876614e-232,\n",
       " 7.888763921434729e-233,\n",
       " 0.0,\n",
       " 0.0,\n",
       " 0.0,\n",
       " 4.833792288129302e-233,\n",
       " 1.2731966955639581e-232,\n",
       " 4.655181264783869e-233,\n",
       " 5.535290224126518e-233,\n",
       " 3.6436639788908844e-233,\n",
       " 0.0,\n",
       " 7.370703669241126e-233,\n",
       " 1.4168498295580466e-232,\n",
       " 5.3302794750847955e-233,\n",
       " 7.0170644878006515e-233,\n",
       " 4.8931372314044545e-233,\n",
       " 1.0471313675205533e-232,\n",
       " 0.0,\n",
       " 8.510469113101058e-233,\n",
       " 1.0253875503553254e-232,\n",
       " 4.759688034184334e-233,\n",
       " 0.0,\n",
       " 0.0,\n",
       " 5.340764396958772e-233,\n",
       " 1.0592046450264199e-232,\n",
       " 6.279813229530943e-233,\n",
       " 2.6802558797240456e-233,\n",
       " 1.3427683270527197e-232,\n",
       " 0.0,\n",
       " 7.274708972115485e-233,\n",
       " 1.0098899950612952e-232,\n",
       " 8.201929950925246e-233,\n",
       " 6.267292572282467e-233,\n",
       " 5.142958308182522e-233,\n",
       " 8.332829093031444e-233,\n",
       " 7.007046113251701e-233,\n",
       " 1.0942031716844218e-232,\n",
       " 1.1236841198032626e-232,\n",
       " 6.937132865168118e-233,\n",
       " 0.0,\n",
       " 0.0,\n",
       " 9.10659035750129e-233,\n",
       " 1.0598187053988572e-232,\n",
       " 0.0,\n",
       " 0.0,\n",
       " 9.114563511906996e-233,\n",
       " 3.975042021793678e-233,\n",
       " 0.0,\n",
       " 0.0,\n",
       " 6.010486797283603e-233,\n",
       " 6.673929125087615e-233,\n",
       " 8.296597953916048e-233,\n",
       " 4.507865097962702e-233,\n",
       " 0.0,\n",
       " 5.554394972837123e-233,\n",
       " 1.3224749935326484e-232,\n",
       " 0.0,\n",
       " 4.759688034184334e-233,\n",
       " 4.351068439410656e-233,\n",
       " 1.519859320925581e-232,\n",
       " 0.0,\n",
       " 0.0,\n",
       " 8.829733402159902e-233,\n",
       " 6.384947362930202e-233,\n",
       " 0.0,\n",
       " 1.059818705398857e-232,\n",
       " 4.399711628237618e-233,\n",
       " 0.0,\n",
       " 0.0,\n",
       " 1.1335409980471509e-232,\n",
       " 4.786061991754637e-233,\n",
       " 1.1186776438242098e-232,\n",
       " 6.586108755281005e-233,\n",
       " 8.165534515023517e-233,\n",
       " 5.550152169617112e-233,\n",
       " 6.976579478249799e-233,\n",
       " 8.969887900606885e-233,\n",
       " 0.0,\n",
       " 0.0,\n",
       " 6.693496660611285e-233,\n",
       " 9.456076792334509e-233,\n",
       " 7.199291956002961e-233,\n",
       " 0.0,\n",
       " 0.0,\n",
       " 0.0,\n",
       " 3.610140572689531e-233,\n",
       " 7.020132155991749e-233,\n",
       " 7.107039300113061e-233,\n",
       " 5.438016324145465e-233,\n",
       " 1.3983470547802623e-232,\n",
       " 0.0,\n",
       " 7.177712852487278e-233,\n",
       " 0.0,\n",
       " 0.0,\n",
       " 1.0413222748363656e-232,\n",
       " 0.0,\n",
       " 1.5428874924547564e-232,\n",
       " 0.0,\n",
       " 7.482777435924392e-233,\n",
       " 7.683685614141714e-233,\n",
       " 0.0,\n",
       " 0.0,\n",
       " 0.0,\n",
       " 0.0,\n",
       " 1.148759716696068e-232,\n",
       " 3.1588730011033396e-233,\n",
       " 0.0,\n",
       " 7.534705836509784e-233,\n",
       " 2.8979637832729937e-233,\n",
       " 0.0,\n",
       " 0.0,\n",
       " 4.829939638788323e-233,\n",
       " 8.34419283310316e-233,\n",
       " 0.0,\n",
       " 0.0,\n",
       " 0.0,\n",
       " 7.932813390307222e-233,\n",
       " 0.0,\n",
       " 7.476784221340915e-233,\n",
       " 5.359118744082987e-233,\n",
       " 0.0,\n",
       " 0.0,\n",
       " 8.726094729337944e-233,\n",
       " 0.0,\n",
       " 1.0372435735300142e-232,\n",
       " 0.0,\n",
       " 0.0,\n",
       " 0.0,\n",
       " 9.137621957288222e-233,\n",
       " 8.629116490818879e-233,\n",
       " 0.0,\n",
       " 0.0,\n",
       " 4.135956077519086e-233,\n",
       " 9.20020840905047e-233,\n",
       " 0.0,\n",
       " 5.453809205836216e-233,\n",
       " 0.0,\n",
       " 0.0,\n",
       " 3.6901934827510123e-233,\n",
       " 1.2917274257320024e-232,\n",
       " 8.444607802585107e-233,\n",
       " 7.2506884321939526e-233,\n",
       " 0.0,\n",
       " 3.817932368344297e-233,\n",
       " 0.0,\n",
       " 4.281082861653286e-233,\n",
       " 0.0,\n",
       " 0.0,\n",
       " 1.0017477995472672e-232,\n",
       " 6.078906509357899e-233,\n",
       " 7.690406627664941e-233,\n",
       " 0.0,\n",
       " 1.2563412728355923e-232,\n",
       " 5.756701833091579e-233,\n",
       " 0.0,\n",
       " 6.44896279449714e-233]"
      ]
     },
     "execution_count": 27,
     "metadata": {},
     "output_type": "execute_result"
    }
   ],
   "source": [
    "evaluate_bleu(df)"
   ]
  },
  {
   "cell_type": "code",
   "execution_count": null,
   "id": "6dd5b2be",
   "metadata": {},
   "outputs": [],
   "source": []
  },
  {
   "cell_type": "code",
   "execution_count": null,
   "id": "1ff8838d",
   "metadata": {},
   "outputs": [],
   "source": [
    "# METEOR"
   ]
  },
  {
   "cell_type": "code",
   "execution_count": 30,
   "id": "1191486d",
   "metadata": {},
   "outputs": [
    {
     "name": "stderr",
     "output_type": "stream",
     "text": [
      "[nltk_data] Downloading package wordnet to /home/Cassie-\n",
      "[nltk_data]     nlp/nltk_data...\n",
      "[nltk_data]   Package wordnet is already up-to-date!\n"
     ]
    }
   ],
   "source": [
    "import nltk\n",
    "nltk.download('wordnet')\n",
    "from nltk.translate.meteor_score import meteor_score\n",
    "\n",
    "# METEOR Evaluation (Average across multiple references)\n",
    "def evaluate_meteor(df):\n",
    "    meteor_scores = []\n",
    "    \n",
    "    for _, row in df.iterrows():\n",
    "        references = row['caption']  # List of reference captions\n",
    "        candidate = row['predicted_caption'].strip('\"')  # Predicted caption (raw string)\n",
    "\n",
    "        # Compute METEOR for all references\n",
    "        row_meteor_scores = [\n",
    "            meteor_score([[ref]], [candidate]) for ref in references\n",
    "        ]\n",
    "        \n",
    "        # Average across references\n",
    "        meteor_scores.append(sum(row_meteor_scores) / len(row_meteor_scores))\n",
    "    \n",
    "    avg_meteor = sum(meteor_scores) / len(meteor_scores)\n",
    "    print(f\"Average METEOR: {avg_meteor:.4f}\")\n",
    "    return meteor_scores\n"
   ]
  },
  {
   "cell_type": "code",
   "execution_count": 31,
   "id": "ef6f6412",
   "metadata": {},
   "outputs": [
    {
     "name": "stdout",
     "output_type": "stream",
     "text": [
      "Average METEOR: 0.0000\n"
     ]
    },
    {
     "data": {
      "text/plain": [
       "[0.0,\n",
       " 0.0,\n",
       " 0.0,\n",
       " 0.0,\n",
       " 0.0,\n",
       " 0.0,\n",
       " 0.0,\n",
       " 0.0,\n",
       " 0.0,\n",
       " 0.0,\n",
       " 0.0,\n",
       " 0.0,\n",
       " 0.0,\n",
       " 0.0,\n",
       " 0.0,\n",
       " 0.0,\n",
       " 0.0,\n",
       " 0.0,\n",
       " 0.0,\n",
       " 0.0,\n",
       " 0.0,\n",
       " 0.0,\n",
       " 0.0,\n",
       " 0.0,\n",
       " 0.0,\n",
       " 0.0,\n",
       " 0.0,\n",
       " 0.0,\n",
       " 0.0,\n",
       " 0.0,\n",
       " 0.0,\n",
       " 0.0,\n",
       " 0.0,\n",
       " 0.0,\n",
       " 0.0,\n",
       " 0.0,\n",
       " 0.0,\n",
       " 0.0,\n",
       " 0.0,\n",
       " 0.0,\n",
       " 0.0,\n",
       " 0.0,\n",
       " 0.0,\n",
       " 0.0,\n",
       " 0.0,\n",
       " 0.0,\n",
       " 0.0,\n",
       " 0.0,\n",
       " 0.0,\n",
       " 0.0,\n",
       " 0.0,\n",
       " 0.0,\n",
       " 0.0,\n",
       " 0.0,\n",
       " 0.0,\n",
       " 0.0,\n",
       " 0.0,\n",
       " 0.0,\n",
       " 0.0,\n",
       " 0.0,\n",
       " 0.0,\n",
       " 0.0,\n",
       " 0.0,\n",
       " 0.0,\n",
       " 0.0,\n",
       " 0.0,\n",
       " 0.0,\n",
       " 0.0,\n",
       " 0.0,\n",
       " 0.0,\n",
       " 0.0,\n",
       " 0.0,\n",
       " 0.0,\n",
       " 0.0,\n",
       " 0.0,\n",
       " 0.0,\n",
       " 0.0,\n",
       " 0.0,\n",
       " 0.0,\n",
       " 0.0,\n",
       " 0.0,\n",
       " 0.0,\n",
       " 0.0,\n",
       " 0.0,\n",
       " 0.0,\n",
       " 0.0,\n",
       " 0.0,\n",
       " 0.0,\n",
       " 0.0,\n",
       " 0.0,\n",
       " 0.0,\n",
       " 0.0,\n",
       " 0.0,\n",
       " 0.0,\n",
       " 0.0,\n",
       " 0.0,\n",
       " 0.0,\n",
       " 0.0,\n",
       " 0.0,\n",
       " 0.0,\n",
       " 0.0,\n",
       " 0.0,\n",
       " 0.0,\n",
       " 0.0,\n",
       " 0.0,\n",
       " 0.0,\n",
       " 0.0,\n",
       " 0.0,\n",
       " 0.0,\n",
       " 0.0,\n",
       " 0.0,\n",
       " 0.0,\n",
       " 0.0,\n",
       " 0.0,\n",
       " 0.0,\n",
       " 0.0,\n",
       " 0.0,\n",
       " 0.0,\n",
       " 0.0,\n",
       " 0.0,\n",
       " 0.0,\n",
       " 0.0,\n",
       " 0.0,\n",
       " 0.0,\n",
       " 0.0,\n",
       " 0.0,\n",
       " 0.0,\n",
       " 0.0,\n",
       " 0.0,\n",
       " 0.0,\n",
       " 0.0,\n",
       " 0.0,\n",
       " 0.0,\n",
       " 0.0,\n",
       " 0.0,\n",
       " 0.0,\n",
       " 0.0,\n",
       " 0.0,\n",
       " 0.0,\n",
       " 0.0,\n",
       " 0.0,\n",
       " 0.0,\n",
       " 0.0,\n",
       " 0.0,\n",
       " 0.0,\n",
       " 0.0,\n",
       " 0.0,\n",
       " 0.0,\n",
       " 0.0,\n",
       " 0.0,\n",
       " 0.0,\n",
       " 0.0,\n",
       " 0.0,\n",
       " 0.0,\n",
       " 0.0,\n",
       " 0.0,\n",
       " 0.0,\n",
       " 0.0,\n",
       " 0.0,\n",
       " 0.0,\n",
       " 0.0,\n",
       " 0.0,\n",
       " 0.0,\n",
       " 0.0,\n",
       " 0.0,\n",
       " 0.0,\n",
       " 0.0,\n",
       " 0.0,\n",
       " 0.0,\n",
       " 0.0,\n",
       " 0.0,\n",
       " 0.0,\n",
       " 0.0,\n",
       " 0.0,\n",
       " 0.0,\n",
       " 0.0,\n",
       " 0.0,\n",
       " 0.0,\n",
       " 0.0,\n",
       " 0.0,\n",
       " 0.0,\n",
       " 0.0,\n",
       " 0.0,\n",
       " 0.0,\n",
       " 0.0,\n",
       " 0.0,\n",
       " 0.0,\n",
       " 0.0,\n",
       " 0.0,\n",
       " 0.0,\n",
       " 0.0,\n",
       " 0.0,\n",
       " 0.0,\n",
       " 0.0,\n",
       " 0.0,\n",
       " 0.0,\n",
       " 0.0,\n",
       " 0.0,\n",
       " 0.0,\n",
       " 0.0]"
      ]
     },
     "execution_count": 31,
     "metadata": {},
     "output_type": "execute_result"
    }
   ],
   "source": [
    "evaluate_meteor(df)"
   ]
  },
  {
   "cell_type": "code",
   "execution_count": null,
   "id": "8da9438e",
   "metadata": {},
   "outputs": [],
   "source": []
  },
  {
   "cell_type": "code",
   "execution_count": null,
   "id": "7832462e",
   "metadata": {},
   "outputs": [],
   "source": [
    "# ROUGE"
   ]
  },
  {
   "cell_type": "code",
   "execution_count": 33,
   "id": "9946f02e",
   "metadata": {},
   "outputs": [],
   "source": [
    "# ROUGE Evaluation (Average across multiple references)\n",
    "def evaluate_rouge(df):\n",
    "    rouge1_scores, rouge2_scores, rougeL_scores = [], [], []\n",
    "    scorer = rouge_scorer.RougeScorer(['rouge1', 'rouge2', 'rougeL'], use_stemmer=True)\n",
    "    \n",
    "    for _, row in df.iterrows():\n",
    "        references = row['caption']  # List of reference captions\n",
    "        candidate = row['predicted_caption']  # Predicted caption\n",
    "        \n",
    "        # Compute ROUGE scores for all references\n",
    "        row_rouge1_scores, row_rouge2_scores, row_rougeL_scores = [], [], []\n",
    "        for ref in references:\n",
    "            scores = scorer.score(ref, candidate.strip('\"'))\n",
    "            row_rouge1_scores.append(scores['rouge1'].fmeasure)\n",
    "            row_rouge2_scores.append(scores['rouge2'].fmeasure)\n",
    "            row_rougeL_scores.append(scores['rougeL'].fmeasure)\n",
    "        \n",
    "        # Average across references\n",
    "        rouge1_scores.append(sum(row_rouge1_scores) / len(row_rouge1_scores))\n",
    "        rouge2_scores.append(sum(row_rouge2_scores) / len(row_rouge2_scores))\n",
    "        rougeL_scores.append(sum(row_rougeL_scores) / len(row_rougeL_scores))\n",
    "    \n",
    "    avg_rouge1 = sum(rouge1_scores) / len(rouge1_scores)\n",
    "    avg_rouge2 = sum(rouge2_scores) / len(rouge2_scores)\n",
    "    avg_rougeL = sum(rougeL_scores) / len(rougeL_scores)\n",
    "    \n",
    "    print(f\"Average ROUGE-1: {avg_rouge1:.4f}\")\n",
    "    print(f\"Average ROUGE-2: {avg_rouge2:.4f}\")\n",
    "    print(f\"Average ROUGE-L: {avg_rougeL:.4f}\")\n",
    "    return rouge1_scores, rouge2_scores, rougeL_scores"
   ]
  },
  {
   "cell_type": "code",
   "execution_count": 34,
   "id": "e707a720",
   "metadata": {},
   "outputs": [
    {
     "name": "stdout",
     "output_type": "stream",
     "text": [
      "Average ROUGE-1: 0.0131\n",
      "Average ROUGE-2: 0.0000\n",
      "Average ROUGE-L: 0.0131\n"
     ]
    },
    {
     "data": {
      "text/plain": [
       "([0.016771488469601675,\n",
       "  0.004329004329004328,\n",
       "  0.01092896174863388,\n",
       "  0.011611030478955007,\n",
       "  0.028846153846153855,\n",
       "  0.00554016620498615,\n",
       "  0.012121212121212121,\n",
       "  0.009426551453260015,\n",
       "  0.016722408026755852,\n",
       "  0.01111111111111111,\n",
       "  0.021116138763197588,\n",
       "  0.03333333333333334,\n",
       "  0.0,\n",
       "  0.005172413793103447,\n",
       "  0.01406469760900141,\n",
       "  0.003322259136212625,\n",
       "  0.00784313725490196,\n",
       "  0.012012012012012012,\n",
       "  0.009324009324009324,\n",
       "  0.010416666666666668,\n",
       "  0.013157894736842105,\n",
       "  0.01043478260869565,\n",
       "  0.008571428571428572,\n",
       "  0.011904761904761906,\n",
       "  0.009852216748768475,\n",
       "  0.03,\n",
       "  0.0053523639607493305,\n",
       "  0.01111111111111111,\n",
       "  0.028169014084507043,\n",
       "  0.016771488469601675,\n",
       "  0.01754385964912281,\n",
       "  0.013640238704177327,\n",
       "  0.003189792663476874,\n",
       "  0.019607843137254898,\n",
       "  0.005305039787798409,\n",
       "  0.01818181818181818,\n",
       "  0.006688963210702343,\n",
       "  0.01515151515151515,\n",
       "  0.016,\n",
       "  0.020202020202020204,\n",
       "  0.003661327231121281,\n",
       "  0.009538950715421303,\n",
       "  0.01360544217687075,\n",
       "  0.002217294900221729,\n",
       "  0.020202020202020204,\n",
       "  0.014999999999999998,\n",
       "  0.0130718954248366,\n",
       "  0.014150943396226415,\n",
       "  0.01794871794871795,\n",
       "  0.007597340930674264,\n",
       "  0.021212121212121217,\n",
       "  0.00554016620498615,\n",
       "  0.008241758241758242,\n",
       "  0.004705882352941176,\n",
       "  0.012004801920768308,\n",
       "  0.008771929824561403,\n",
       "  0.02514506769825919,\n",
       "  0.007407407407407408,\n",
       "  0.012453300124533002,\n",
       "  0.005607476635514018,\n",
       "  0.016190476190476196,\n",
       "  0.013661202185792353,\n",
       "  0.00909090909090909,\n",
       "  0.012698412698412698,\n",
       "  0.005454545454545455,\n",
       "  0.014634146341463414,\n",
       "  0.01466275659824047,\n",
       "  0.007211538461538462,\n",
       "  0.013679890560875513,\n",
       "  0.01288244766505636,\n",
       "  0.003189792663476874,\n",
       "  0.02553191489361702,\n",
       "  0.009195402298850575,\n",
       "  0.009009009009009009,\n",
       "  0.013636363636363636,\n",
       "  0.008215962441314553,\n",
       "  0.00591715976331361,\n",
       "  0.006944444444444444,\n",
       "  0.017094017094017096,\n",
       "  0.009049773755656108,\n",
       "  0.011688311688311689,\n",
       "  0.019762845849802372,\n",
       "  0.008255933952528379,\n",
       "  0.019607843137254898,\n",
       "  0.023598820058997057,\n",
       "  0.01616161616161616,\n",
       "  0.018808777429467082,\n",
       "  0.04000000000000001,\n",
       "  0.0074074074074074086,\n",
       "  0.016129032258064516,\n",
       "  0.0033755274261603376,\n",
       "  0.01818181818181818,\n",
       "  0.014652014652014652,\n",
       "  0.011428571428571427,\n",
       "  0.01048951048951049,\n",
       "  0.018518518518518517,\n",
       "  0.008571428571428572,\n",
       "  0.008316008316008316,\n",
       "  0.0075,\n",
       "  0.017857142857142856,\n",
       "  0.01616161616161616,\n",
       "  0.005454545454545455,\n",
       "  0.0071839080459770105,\n",
       "  0.020522388059701493,\n",
       "  0.007662835249042145,\n",
       "  0.026923076923076928,\n",
       "  0.01953125,\n",
       "  0.007317073170731707,\n",
       "  0.02380952380952381,\n",
       "  0.01880877742946709,\n",
       "  0.0050420168067226885,\n",
       "  0.013392857142857142,\n",
       "  0.01818181818181818,\n",
       "  0.011961722488038276,\n",
       "  0.005291005291005291,\n",
       "  0.017582417582417582,\n",
       "  0.006046863189720332,\n",
       "  0.012158054711246202,\n",
       "  0.00496031746031746,\n",
       "  0.011574074074074073,\n",
       "  0.012698412698412698,\n",
       "  0.01523809523809524,\n",
       "  0.004999999999999999,\n",
       "  0.012727272727272726,\n",
       "  0.010101010101010102,\n",
       "  0.00813953488372093,\n",
       "  0.032520325203252036,\n",
       "  0.015503875968992248,\n",
       "  0.01183431952662722,\n",
       "  0.004296455424274973,\n",
       "  0.016194331983805668,\n",
       "  0.010582010582010583,\n",
       "  0.008547008547008548,\n",
       "  0.02197802197802198,\n",
       "  0.009740259740259742,\n",
       "  0.008888888888888889,\n",
       "  0.013986013986013986,\n",
       "  0.02608695652173913,\n",
       "  0.016366612111292964,\n",
       "  0.013636363636363637,\n",
       "  0.020833333333333332,\n",
       "  0.010256410256410256,\n",
       "  0.007272727272727272,\n",
       "  0.013636363636363637,\n",
       "  0.015432098765432098,\n",
       "  0.015086206896551725,\n",
       "  0.02564102564102564,\n",
       "  0.016042780748663103,\n",
       "  0.02564102564102564,\n",
       "  0.0037593984962406013,\n",
       "  0.016949152542372885,\n",
       "  0.010666666666666666,\n",
       "  0.0041025641025641026,\n",
       "  0.010455563853622108,\n",
       "  0.030973451327433628,\n",
       "  0.006837606837606838,\n",
       "  0.009930486593843098,\n",
       "  0.0,\n",
       "  0.013582342954159592,\n",
       "  0.015698587127158558,\n",
       "  0.00909090909090909,\n",
       "  0.02840909090909091,\n",
       "  0.008771929824561403,\n",
       "  0.008928571428571428,\n",
       "  0.017543859649122806,\n",
       "  0.014842300556586271,\n",
       "  0.01,\n",
       "  0.020202020202020204,\n",
       "  0.015444015444015446,\n",
       "  0.0090702947845805,\n",
       "  0.019230769230769235,\n",
       "  0.0,\n",
       "  0.01360544217687075,\n",
       "  0.010269576379974325,\n",
       "  0.03827751196172249,\n",
       "  0.0074719800747198,\n",
       "  0.0065005417118093175,\n",
       "  0.013698630136986304,\n",
       "  0.0,\n",
       "  0.006250000000000001,\n",
       "  0.01970443349753695,\n",
       "  0.041666666666666664,\n",
       "  0.009615384615384616,\n",
       "  0.02456140350877193,\n",
       "  0.00967741935483871,\n",
       "  0.011396011396011397,\n",
       "  0.007177033492822966,\n",
       "  0.004728132387706856,\n",
       "  0.00625,\n",
       "  0.00946969696969697,\n",
       "  0.032051282051282055,\n",
       "  0.01785714285714286,\n",
       "  0.019047619047619046,\n",
       "  0.006493506493506493,\n",
       "  0.009523809523809525,\n",
       "  0.012698412698412698,\n",
       "  0.013888888888888888,\n",
       "  0.008571428571428572,\n",
       "  0.008163265306122448,\n",
       "  0.008328995314940137],\n",
       " [0.0,\n",
       "  0.0,\n",
       "  0.0,\n",
       "  0.0,\n",
       "  0.0,\n",
       "  0.0,\n",
       "  0.0,\n",
       "  0.0,\n",
       "  0.0,\n",
       "  0.0,\n",
       "  0.0,\n",
       "  0.0,\n",
       "  0.0,\n",
       "  0.0,\n",
       "  0.0,\n",
       "  0.0,\n",
       "  0.0,\n",
       "  0.0,\n",
       "  0.0,\n",
       "  0.0,\n",
       "  0.0,\n",
       "  0.0,\n",
       "  0.0,\n",
       "  0.0,\n",
       "  0.0,\n",
       "  0.0,\n",
       "  0.0,\n",
       "  0.0,\n",
       "  0.0,\n",
       "  0.0,\n",
       "  0.0,\n",
       "  0.0,\n",
       "  0.0,\n",
       "  0.0,\n",
       "  0.0,\n",
       "  0.0,\n",
       "  0.0,\n",
       "  0.0,\n",
       "  0.0,\n",
       "  0.0,\n",
       "  0.0,\n",
       "  0.0,\n",
       "  0.0,\n",
       "  0.0,\n",
       "  0.0,\n",
       "  0.0,\n",
       "  0.0,\n",
       "  0.0,\n",
       "  0.0,\n",
       "  0.0,\n",
       "  0.0,\n",
       "  0.0,\n",
       "  0.0,\n",
       "  0.0,\n",
       "  0.0,\n",
       "  0.0,\n",
       "  0.0,\n",
       "  0.0,\n",
       "  0.0,\n",
       "  0.0,\n",
       "  0.0,\n",
       "  0.0,\n",
       "  0.0,\n",
       "  0.0,\n",
       "  0.0,\n",
       "  0.0,\n",
       "  0.0,\n",
       "  0.0,\n",
       "  0.0,\n",
       "  0.0,\n",
       "  0.0,\n",
       "  0.0,\n",
       "  0.0,\n",
       "  0.0,\n",
       "  0.0,\n",
       "  0.0,\n",
       "  0.0,\n",
       "  0.0,\n",
       "  0.0,\n",
       "  0.0,\n",
       "  0.0,\n",
       "  0.0,\n",
       "  0.0,\n",
       "  0.0,\n",
       "  0.0,\n",
       "  0.0,\n",
       "  0.0,\n",
       "  0.0,\n",
       "  0.0,\n",
       "  0.0,\n",
       "  0.0,\n",
       "  0.0,\n",
       "  0.0,\n",
       "  0.0,\n",
       "  0.0,\n",
       "  0.0,\n",
       "  0.0,\n",
       "  0.0,\n",
       "  0.0,\n",
       "  0.0,\n",
       "  0.0,\n",
       "  0.0,\n",
       "  0.0,\n",
       "  0.0,\n",
       "  0.0,\n",
       "  0.0,\n",
       "  0.0,\n",
       "  0.0,\n",
       "  0.0,\n",
       "  0.0,\n",
       "  0.0,\n",
       "  0.0,\n",
       "  0.0,\n",
       "  0.0,\n",
       "  0.0,\n",
       "  0.0,\n",
       "  0.0,\n",
       "  0.0,\n",
       "  0.0,\n",
       "  0.0,\n",
       "  0.0,\n",
       "  0.0,\n",
       "  0.0,\n",
       "  0.0,\n",
       "  0.0,\n",
       "  0.0,\n",
       "  0.0,\n",
       "  0.0,\n",
       "  0.0,\n",
       "  0.0,\n",
       "  0.0,\n",
       "  0.0,\n",
       "  0.0,\n",
       "  0.0,\n",
       "  0.0,\n",
       "  0.0,\n",
       "  0.0,\n",
       "  0.0,\n",
       "  0.0,\n",
       "  0.0,\n",
       "  0.0,\n",
       "  0.0,\n",
       "  0.0,\n",
       "  0.0,\n",
       "  0.0,\n",
       "  0.0,\n",
       "  0.0,\n",
       "  0.0,\n",
       "  0.0,\n",
       "  0.0,\n",
       "  0.0,\n",
       "  0.0,\n",
       "  0.0,\n",
       "  0.0,\n",
       "  0.0,\n",
       "  0.0,\n",
       "  0.0,\n",
       "  0.0,\n",
       "  0.0,\n",
       "  0.0,\n",
       "  0.0,\n",
       "  0.0,\n",
       "  0.0,\n",
       "  0.0,\n",
       "  0.0,\n",
       "  0.0,\n",
       "  0.0,\n",
       "  0.0,\n",
       "  0.0,\n",
       "  0.0,\n",
       "  0.0,\n",
       "  0.0,\n",
       "  0.0,\n",
       "  0.0,\n",
       "  0.0,\n",
       "  0.0,\n",
       "  0.0,\n",
       "  0.0,\n",
       "  0.0,\n",
       "  0.0,\n",
       "  0.0,\n",
       "  0.0,\n",
       "  0.0,\n",
       "  0.0,\n",
       "  0.0,\n",
       "  0.0,\n",
       "  0.0,\n",
       "  0.0,\n",
       "  0.0,\n",
       "  0.0,\n",
       "  0.0,\n",
       "  0.0,\n",
       "  0.0,\n",
       "  0.0,\n",
       "  0.0,\n",
       "  0.0,\n",
       "  0.0,\n",
       "  0.0,\n",
       "  0.0,\n",
       "  0.0],\n",
       " [0.016771488469601675,\n",
       "  0.004329004329004328,\n",
       "  0.01092896174863388,\n",
       "  0.011611030478955007,\n",
       "  0.028846153846153855,\n",
       "  0.00554016620498615,\n",
       "  0.012121212121212121,\n",
       "  0.009426551453260015,\n",
       "  0.016722408026755852,\n",
       "  0.01111111111111111,\n",
       "  0.021116138763197588,\n",
       "  0.03333333333333334,\n",
       "  0.0,\n",
       "  0.005172413793103447,\n",
       "  0.01406469760900141,\n",
       "  0.003322259136212625,\n",
       "  0.00784313725490196,\n",
       "  0.012012012012012012,\n",
       "  0.009324009324009324,\n",
       "  0.010416666666666668,\n",
       "  0.013157894736842105,\n",
       "  0.01043478260869565,\n",
       "  0.008571428571428572,\n",
       "  0.011904761904761906,\n",
       "  0.009852216748768475,\n",
       "  0.03,\n",
       "  0.0053523639607493305,\n",
       "  0.01111111111111111,\n",
       "  0.028169014084507043,\n",
       "  0.016771488469601675,\n",
       "  0.01754385964912281,\n",
       "  0.013640238704177327,\n",
       "  0.003189792663476874,\n",
       "  0.019607843137254898,\n",
       "  0.005305039787798409,\n",
       "  0.01818181818181818,\n",
       "  0.006688963210702343,\n",
       "  0.01515151515151515,\n",
       "  0.016,\n",
       "  0.020202020202020204,\n",
       "  0.003661327231121281,\n",
       "  0.009538950715421303,\n",
       "  0.01360544217687075,\n",
       "  0.002217294900221729,\n",
       "  0.020202020202020204,\n",
       "  0.014999999999999998,\n",
       "  0.0130718954248366,\n",
       "  0.014150943396226415,\n",
       "  0.01794871794871795,\n",
       "  0.007597340930674264,\n",
       "  0.021212121212121217,\n",
       "  0.00554016620498615,\n",
       "  0.008241758241758242,\n",
       "  0.004705882352941176,\n",
       "  0.012004801920768308,\n",
       "  0.008771929824561403,\n",
       "  0.02514506769825919,\n",
       "  0.007407407407407408,\n",
       "  0.012453300124533002,\n",
       "  0.005607476635514018,\n",
       "  0.016190476190476196,\n",
       "  0.013661202185792353,\n",
       "  0.00909090909090909,\n",
       "  0.012698412698412698,\n",
       "  0.005454545454545455,\n",
       "  0.014634146341463414,\n",
       "  0.01466275659824047,\n",
       "  0.007211538461538462,\n",
       "  0.013679890560875513,\n",
       "  0.01288244766505636,\n",
       "  0.003189792663476874,\n",
       "  0.02553191489361702,\n",
       "  0.009195402298850575,\n",
       "  0.009009009009009009,\n",
       "  0.013636363636363636,\n",
       "  0.008215962441314553,\n",
       "  0.00591715976331361,\n",
       "  0.006944444444444444,\n",
       "  0.017094017094017096,\n",
       "  0.009049773755656108,\n",
       "  0.011688311688311689,\n",
       "  0.019762845849802372,\n",
       "  0.008255933952528379,\n",
       "  0.019607843137254898,\n",
       "  0.023598820058997057,\n",
       "  0.01616161616161616,\n",
       "  0.018808777429467082,\n",
       "  0.04000000000000001,\n",
       "  0.0074074074074074086,\n",
       "  0.016129032258064516,\n",
       "  0.0033755274261603376,\n",
       "  0.01818181818181818,\n",
       "  0.014652014652014652,\n",
       "  0.011428571428571427,\n",
       "  0.01048951048951049,\n",
       "  0.018518518518518517,\n",
       "  0.008571428571428572,\n",
       "  0.008316008316008316,\n",
       "  0.0075,\n",
       "  0.017857142857142856,\n",
       "  0.01616161616161616,\n",
       "  0.005454545454545455,\n",
       "  0.0071839080459770105,\n",
       "  0.020522388059701493,\n",
       "  0.007662835249042145,\n",
       "  0.026923076923076928,\n",
       "  0.01953125,\n",
       "  0.007317073170731707,\n",
       "  0.02380952380952381,\n",
       "  0.01880877742946709,\n",
       "  0.0050420168067226885,\n",
       "  0.013392857142857142,\n",
       "  0.01818181818181818,\n",
       "  0.011961722488038276,\n",
       "  0.005291005291005291,\n",
       "  0.017582417582417582,\n",
       "  0.006046863189720332,\n",
       "  0.012158054711246202,\n",
       "  0.00496031746031746,\n",
       "  0.011574074074074073,\n",
       "  0.012698412698412698,\n",
       "  0.01523809523809524,\n",
       "  0.004999999999999999,\n",
       "  0.012727272727272726,\n",
       "  0.010101010101010102,\n",
       "  0.00813953488372093,\n",
       "  0.032520325203252036,\n",
       "  0.015503875968992248,\n",
       "  0.01183431952662722,\n",
       "  0.004296455424274973,\n",
       "  0.016194331983805668,\n",
       "  0.010582010582010583,\n",
       "  0.008547008547008548,\n",
       "  0.02197802197802198,\n",
       "  0.009740259740259742,\n",
       "  0.008888888888888889,\n",
       "  0.013986013986013986,\n",
       "  0.02608695652173913,\n",
       "  0.016366612111292964,\n",
       "  0.013636363636363637,\n",
       "  0.020833333333333332,\n",
       "  0.010256410256410256,\n",
       "  0.007272727272727272,\n",
       "  0.013636363636363637,\n",
       "  0.015432098765432098,\n",
       "  0.015086206896551725,\n",
       "  0.02564102564102564,\n",
       "  0.016042780748663103,\n",
       "  0.02564102564102564,\n",
       "  0.0037593984962406013,\n",
       "  0.016949152542372885,\n",
       "  0.010666666666666666,\n",
       "  0.0041025641025641026,\n",
       "  0.010455563853622108,\n",
       "  0.030973451327433628,\n",
       "  0.006837606837606838,\n",
       "  0.009930486593843098,\n",
       "  0.0,\n",
       "  0.013582342954159592,\n",
       "  0.015698587127158558,\n",
       "  0.00909090909090909,\n",
       "  0.02840909090909091,\n",
       "  0.008771929824561403,\n",
       "  0.008928571428571428,\n",
       "  0.017543859649122806,\n",
       "  0.014842300556586271,\n",
       "  0.01,\n",
       "  0.020202020202020204,\n",
       "  0.015444015444015446,\n",
       "  0.0090702947845805,\n",
       "  0.019230769230769235,\n",
       "  0.0,\n",
       "  0.01360544217687075,\n",
       "  0.010269576379974325,\n",
       "  0.03827751196172249,\n",
       "  0.0074719800747198,\n",
       "  0.0065005417118093175,\n",
       "  0.013698630136986304,\n",
       "  0.0,\n",
       "  0.006250000000000001,\n",
       "  0.01970443349753695,\n",
       "  0.041666666666666664,\n",
       "  0.009615384615384616,\n",
       "  0.02456140350877193,\n",
       "  0.00967741935483871,\n",
       "  0.011396011396011397,\n",
       "  0.007177033492822966,\n",
       "  0.004728132387706856,\n",
       "  0.00625,\n",
       "  0.00946969696969697,\n",
       "  0.032051282051282055,\n",
       "  0.01785714285714286,\n",
       "  0.019047619047619046,\n",
       "  0.006493506493506493,\n",
       "  0.009523809523809525,\n",
       "  0.012698412698412698,\n",
       "  0.013888888888888888,\n",
       "  0.008571428571428572,\n",
       "  0.008163265306122448,\n",
       "  0.008328995314940137])"
      ]
     },
     "execution_count": 34,
     "metadata": {},
     "output_type": "execute_result"
    }
   ],
   "source": [
    "evaluate_rouge(df)"
   ]
  },
  {
   "cell_type": "code",
   "execution_count": null,
   "id": "7069d07e",
   "metadata": {},
   "outputs": [],
   "source": []
  },
  {
   "cell_type": "code",
   "execution_count": null,
   "id": "d676601a",
   "metadata": {},
   "outputs": [],
   "source": [
    "# CIDEr and SPICE (unchanged, since they handle multiple references internally)"
   ]
  },
  {
   "cell_type": "code",
   "execution_count": 35,
   "id": "f9a9ca45",
   "metadata": {},
   "outputs": [],
   "source": [
    "def evaluate_cider(df):\n",
    "    ref_dict = {str(idx): row['caption'] for idx, row in df.iterrows()}\n",
    "    cand_dict = {str(idx): [row['predicted_caption']] for idx, row in df.iterrows()}\n",
    "    \n",
    "    cider_scorer = Cider()\n",
    "    score, _ = cider_scorer.compute_score(ref_dict, cand_dict)\n",
    "    print(f\"Average CIDEr: {score:.4f}\")\n",
    "    return score"
   ]
  },
  {
   "cell_type": "code",
   "execution_count": 36,
   "id": "ab777ce9",
   "metadata": {},
   "outputs": [
    {
     "ename": "AssertionError",
     "evalue": "",
     "output_type": "error",
     "traceback": [
      "\u001b[0;31m---------------------------------------------------------------------------\u001b[0m",
      "\u001b[0;31mAssertionError\u001b[0m                            Traceback (most recent call last)",
      "Cell \u001b[0;32mIn[36], line 1\u001b[0m\n\u001b[0;32m----> 1\u001b[0m \u001b[43mevaluate_cider\u001b[49m\u001b[43m(\u001b[49m\u001b[43mdf\u001b[49m\u001b[43m)\u001b[49m\n",
      "Cell \u001b[0;32mIn[35], line 6\u001b[0m, in \u001b[0;36mevaluate_cider\u001b[0;34m(df)\u001b[0m\n\u001b[1;32m      3\u001b[0m cand_dict \u001b[38;5;241m=\u001b[39m {\u001b[38;5;28mstr\u001b[39m(idx): [row[\u001b[38;5;124m'\u001b[39m\u001b[38;5;124mpredicted_caption\u001b[39m\u001b[38;5;124m'\u001b[39m]] \u001b[38;5;28;01mfor\u001b[39;00m idx, row \u001b[38;5;129;01min\u001b[39;00m df\u001b[38;5;241m.\u001b[39miterrows()}\n\u001b[1;32m      5\u001b[0m cider_scorer \u001b[38;5;241m=\u001b[39m Cider()\n\u001b[0;32m----> 6\u001b[0m score, _ \u001b[38;5;241m=\u001b[39m \u001b[43mcider_scorer\u001b[49m\u001b[38;5;241;43m.\u001b[39;49m\u001b[43mcompute_score\u001b[49m\u001b[43m(\u001b[49m\u001b[43mref_dict\u001b[49m\u001b[43m,\u001b[49m\u001b[43m \u001b[49m\u001b[43mcand_dict\u001b[49m\u001b[43m)\u001b[49m\n\u001b[1;32m      7\u001b[0m \u001b[38;5;28mprint\u001b[39m(\u001b[38;5;124mf\u001b[39m\u001b[38;5;124m\"\u001b[39m\u001b[38;5;124mAverage CIDEr: \u001b[39m\u001b[38;5;132;01m{\u001b[39;00mscore\u001b[38;5;132;01m:\u001b[39;00m\u001b[38;5;124m.4f\u001b[39m\u001b[38;5;132;01m}\u001b[39;00m\u001b[38;5;124m\"\u001b[39m)\n\u001b[1;32m      8\u001b[0m \u001b[38;5;28;01mreturn\u001b[39;00m score\n",
      "File \u001b[0;32m/opt/conda/lib/python3.10/site-packages/pycocoevalcap/cider/cider.py:44\u001b[0m, in \u001b[0;36mCider.compute_score\u001b[0;34m(self, gts, res)\u001b[0m\n\u001b[1;32m     42\u001b[0m \u001b[38;5;28;01massert\u001b[39;00m(\u001b[38;5;28mtype\u001b[39m(hypo) \u001b[38;5;129;01mis\u001b[39;00m \u001b[38;5;28mlist\u001b[39m)\n\u001b[1;32m     43\u001b[0m \u001b[38;5;28;01massert\u001b[39;00m(\u001b[38;5;28mlen\u001b[39m(hypo) \u001b[38;5;241m==\u001b[39m \u001b[38;5;241m1\u001b[39m)\n\u001b[0;32m---> 44\u001b[0m \u001b[38;5;28;01massert\u001b[39;00m(\u001b[38;5;28mtype\u001b[39m(ref) \u001b[38;5;129;01mis\u001b[39;00m \u001b[38;5;28mlist\u001b[39m)\n\u001b[1;32m     45\u001b[0m \u001b[38;5;28;01massert\u001b[39;00m(\u001b[38;5;28mlen\u001b[39m(ref) \u001b[38;5;241m>\u001b[39m \u001b[38;5;241m0\u001b[39m)\n\u001b[1;32m     47\u001b[0m cider_scorer \u001b[38;5;241m+\u001b[39m\u001b[38;5;241m=\u001b[39m (hypo[\u001b[38;5;241m0\u001b[39m], ref)\n",
      "\u001b[0;31mAssertionError\u001b[0m: "
     ]
    }
   ],
   "source": [
    "evaluate_cider(df)"
   ]
  },
  {
   "cell_type": "code",
   "execution_count": null,
   "id": "6618198b",
   "metadata": {},
   "outputs": [],
   "source": []
  },
  {
   "cell_type": "code",
   "execution_count": 71,
   "id": "3466d189",
   "metadata": {},
   "outputs": [],
   "source": [
    "def evaluate_spice(df):\n",
    "    ref_dict = {str(idx): row['reference_caption'] for idx, row in df.iterrows()}\n",
    "    cand_dict = {str(idx): [row['predicted_caption']] for idx, row in df.iterrows()}\n",
    "    \n",
    "    spice_scorer = Spice()\n",
    "    score, _ = spice_scorer.compute_score(ref_dict, cand_dict)\n",
    "    print(f\"Average SPICE: {score:.4f}\")\n",
    "    return score"
   ]
  },
  {
   "cell_type": "code",
   "execution_count": 73,
   "id": "db09381b",
   "metadata": {},
   "outputs": [
    {
     "name": "stderr",
     "output_type": "stream",
     "text": [
      "WARNING: An illegal reflective access operation has occurred\n",
      "WARNING: Illegal reflective access by org.nustaq.serialization.FSTClazzInfo (file:/opt/conda/lib/python3.10/site-packages/pycocoevalcap/spice/lib/fst-2.47.jar) to field java.lang.String.value\n",
      "WARNING: Please consider reporting this to the maintainers of org.nustaq.serialization.FSTClazzInfo\n",
      "WARNING: Use --illegal-access=warn to enable warnings of further illegal reflective access operations\n",
      "WARNING: All illegal access operations will be denied in a future release\n",
      "Parsing reference captions\n",
      "Initiating Stanford parsing pipeline\n",
      "[main] INFO edu.stanford.nlp.pipeline.StanfordCoreNLP - Adding annotator tokenize\n",
      "[main] INFO edu.stanford.nlp.pipeline.TokenizerAnnotator - TokenizerAnnotator: No tokenizer type provided. Defaulting to PTBTokenizer.\n",
      "[main] INFO edu.stanford.nlp.pipeline.StanfordCoreNLP - Adding annotator ssplit\n",
      "[main] INFO edu.stanford.nlp.pipeline.StanfordCoreNLP - Adding annotator parse\n",
      "[main] INFO edu.stanford.nlp.parser.common.ParserGrammar - Loading parser from serialized file edu/stanford/nlp/models/lexparser/englishPCFG.ser.gz ... \n",
      "done [0.9 sec].\n",
      "[main] INFO edu.stanford.nlp.pipeline.StanfordCoreNLP - Adding annotator lemma\n",
      "[main] INFO edu.stanford.nlp.pipeline.StanfordCoreNLP - Adding annotator ner\n",
      "Loading classifier from edu/stanford/nlp/models/ner/english.all.3class.distsim.crf.ser.gz ... done [1.8 sec].\n",
      "Loading classifier from edu/stanford/nlp/models/ner/english.muc.7class.distsim.crf.ser.gz ... done [1.0 sec].\n",
      "Loading classifier from edu/stanford/nlp/models/ner/english.conll.4class.distsim.crf.ser.gz ... done [0.8 sec].\n",
      "Threads( StanfordCoreNLP ) [2.890 seconds]\n",
      "Parsing test captions\n",
      "Threads( StanfordCoreNLP ) [1.995 seconds]\n",
      "Warning: Nashorn engine is planned to be removed from a future JDK release\n"
     ]
    },
    {
     "name": "stdout",
     "output_type": "stream",
     "text": [
      "SPICE evaluation took: 12.85 s\n",
      "Average SPICE: 0.2341\n"
     ]
    },
    {
     "data": {
      "text/plain": [
       "0.23411371237458198"
      ]
     },
     "execution_count": 73,
     "metadata": {},
     "output_type": "execute_result"
    }
   ],
   "source": [
    "evaluate_spice(df)"
   ]
  },
  {
   "cell_type": "code",
   "execution_count": null,
   "id": "b1614075",
   "metadata": {},
   "outputs": [],
   "source": []
  }
 ],
 "metadata": {
  "kernelspec": {
   "display_name": "Python 3",
   "language": "python",
   "name": "python3"
  },
  "language_info": {
   "codemirror_mode": {
    "name": "ipython",
    "version": 3
   },
   "file_extension": ".py",
   "mimetype": "text/x-python",
   "name": "python",
   "nbconvert_exporter": "python",
   "pygments_lexer": "ipython3",
   "version": "3.10.15"
  }
 },
 "nbformat": 4,
 "nbformat_minor": 5
}
